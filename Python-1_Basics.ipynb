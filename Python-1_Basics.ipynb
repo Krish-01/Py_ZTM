{
 "cells": [
  {
   "cell_type": "markdown",
   "metadata": {},
   "source": [
    "Python Official Documentation: https://docs.python.org/3/"
   ]
  },
  {
   "cell_type": "markdown",
   "metadata": {},
   "source": [
    "To visualize python code execution: \n",
    "https://pythontutor.com/visualize.html#mode=edit"
   ]
  },
  {
   "cell_type": "markdown",
   "metadata": {},
   "source": [
    "Important-differences-between-python-2-x-and-python-3-x: \n",
    "    https://www.geeksforgeeks.org/important-differences-between-python-2-x-and-python-3-x-with-examples/\n",
    "    https://sebastianraschka.com/Articles/2014_python_2_3_key_diff.html"
   ]
  },
  {
   "cell_type": "raw",
   "metadata": {},
   "source": [
    "Basics\n",
    "•\tOperators Precedence\n",
    "•\tAugmented Assignment Operator\n",
    "Strings\n",
    "•\tMulti line strings\n",
    "•\tEscape sequences usage\n",
    "•\tFormatted Strings List Slicing:\n",
    "•\tMost Efficient way of String Formatting\n",
    "•\tString Indexing\n",
    "•\tString Slicing: \n",
    "•\tNegative Indexing and String Reversal\n",
    "Built-in Functions + Methods\n",
    "Booleans:\n",
    "Type Conversion\n",
    "Task: Password Checker\n",
    "Data Structures:\n",
    "•\tLists:\n",
    "o\tCopying Vs Modifying the List\n",
    "o\tShallow Copy\n",
    "o\tDeep Copy\n",
    "o\tMatrix\n",
    "o\tList Methods\n",
    "o\tList Unpacking\n",
    "•\tNone\n",
    "•\tDictionary\n",
    "o\tDictionary Keys\n",
    "o\tDictionary Methods\n",
    "o\tOther ways of defining dictionary\n",
    "•\tTuples\n",
    "•\tSets:\n",
    "Conditional Logic\n",
    "•\tTernary Operators(Conditional Expressions)\n",
    "•\tLogical Operators\n",
    "•\tFOR Loop\n",
    "•\tRange\n",
    "•\tEnumerate()\n",
    "•\tWhile Loops\n",
    "•\tbreak, continue, pass\n",
    "GUI\n",
    "Python end parameter in print()\n",
    "Functions\n",
    "•\tParameters and Arguments(Call and Invoke) \n",
    "•\tKeyword Arguments\n",
    "•\tDefault Parameters\n",
    "Type Hinting\n",
    "•\tReturn\n",
    "•\tDocstrings\n",
    "•\t*args and *kwargs\n",
    "•\tPacking and Unpacking Arguments in Python\n",
    "•\tScope\n",
    "•\tglobal keyword\n",
    "•\tnonlocal keyword\n",
    "Walrus Operator"
   ]
  },
  {
   "cell_type": "markdown",
   "metadata": {},
   "source": [
    "What is the difference between run time error and compile time error in python? Explain with examples"
   ]
  },
  {
   "cell_type": "markdown",
   "metadata": {},
   "source": [
    "Compile-time errors and runtime errors are two types of errors that can occur in programming, including Python.\n",
    "\n",
    "1. **Compile-Time Error:**\n",
    "Compile-time errors, also known as syntax errors or parsing errors, occur when the code is being compiled or translated from human-readable code to machine-executable code. These errors are detected by the compiler before the program is run. They are usually due to issues like incorrect syntax, missing or misplaced symbols, or incorrect data types.\n",
    "\n",
    "Example:\n",
    "```python\n",
    "print(\"Hello, World!\"\n",
    "```\n",
    "In this example, the missing closing parenthesis will result in a syntax error because the code is not properly formatted.\n",
    "\n",
    "2. **Runtime Error:**\n",
    "Runtime errors, also known as exceptions or run-time errors, occur when the program is being executed and something unexpected happens that prevents the program from running as intended. These errors often occur due to incorrect logic, invalid inputs, or issues with the environment where the program is being run.\n",
    "\n",
    "Example:\n",
    "```python\n",
    "numerator = 10\n",
    "denominator = 0\n",
    "result = numerator / denominator\n",
    "```\n",
    "In this example, a ZeroDivisionError will occur at runtime because dividing by zero is not possible.\n",
    "\n",
    "To summarize, compile-time errors are detected by the compiler during the compilation process and prevent the program from being executed at all, while runtime errors occur during the execution of the program and can cause the program to terminate or behave unexpectedly.\n",
    "\n",
    "Python is an interpreted language, which means it doesn't have a separate compilation step like compiled languages. However, the concepts of compile-time errors (syntax errors) and runtime errors (exceptions) still apply."
   ]
  },
  {
   "cell_type": "markdown",
   "metadata": {},
   "source": [
    "### Operators Precedence"
   ]
  },
  {
   "cell_type": "markdown",
   "metadata": {},
   "source": [
    "https://www.geeksforgeeks.org/python-operators/"
   ]
  },
  {
   "cell_type": "code",
   "execution_count": 1,
   "metadata": {},
   "outputs": [
    {
     "name": "stdout",
     "output_type": "stream",
     "text": [
      "45.0\n",
      "45.0\n",
      "45.0\n",
      "25.0\n",
      "25\n"
     ]
    }
   ],
   "source": [
    "print((5 + 4) * 10 / 2)\n",
    "\n",
    "print(((5 + 4) * 10) / 2)\n",
    "\n",
    "print((5 + 4) * (10 / 2))\n",
    "\n",
    "print(5 + (4 * 10) / 2)\n",
    "\n",
    "print(5 + 4 * 10 // 2)"
   ]
  },
  {
   "cell_type": "markdown",
   "metadata": {},
   "source": [
    "### Augmented Assignment Operator"
   ]
  },
  {
   "cell_type": "code",
   "execution_count": 2,
   "metadata": {},
   "outputs": [
    {
     "name": "stdout",
     "output_type": "stream",
     "text": [
      "6\n"
     ]
    }
   ],
   "source": [
    "counter = 0\n",
    "\n",
    "counter += 1\n",
    "counter += 1\n",
    "counter += 1\n",
    "counter += 1\n",
    "counter -= 1\n",
    "counter *=2\n",
    "\n",
    "print(counter)"
   ]
  },
  {
   "cell_type": "markdown",
   "metadata": {},
   "source": [
    "### Multi line strings"
   ]
  },
  {
   "cell_type": "code",
   "execution_count": 3,
   "metadata": {},
   "outputs": [
    {
     "name": "stdout",
     "output_type": "stream",
     "text": [
      "hello, world i am krishna\n",
      "programming\n",
      "is easy to learn if we practice regularly\n"
     ]
    }
   ],
   "source": [
    "print(\"hello, world i am krishna\")\n",
    "print('''programming : \n",
    "is easy to learn if we practice regularly''')"
   ]
  },
  {
   "cell_type": "markdown",
   "metadata": {},
   "source": [
    "### Escape sequences usage:"
   ]
  },
  {
   "cell_type": "code",
   "execution_count": 4,
   "metadata": {},
   "outputs": [
    {
     "ename": "SyntaxError",
     "evalue": "invalid syntax (<ipython-input-4-9f5a5ee85e37>, line 1)",
     "output_type": "error",
     "traceback": [
      "\u001b[1;36m  File \u001b[1;32m\"<ipython-input-4-9f5a5ee85e37>\"\u001b[1;36m, line \u001b[1;32m1\u001b[0m\n\u001b[1;33m    print('it's too hot today')\u001b[0m\n\u001b[1;37m              ^\u001b[0m\n\u001b[1;31mSyntaxError\u001b[0m\u001b[1;31m:\u001b[0m invalid syntax\n"
     ]
    }
   ],
   "source": [
    "print('it's too hot today')"
   ]
  },
  {
   "cell_type": "code",
   "execution_count": 17,
   "metadata": {},
   "outputs": [
    {
     "name": "stdout",
     "output_type": "stream",
     "text": [
      "it's too hot today\n"
     ]
    }
   ],
   "source": [
    "print(\"it's too hot today\")"
   ]
  },
  {
   "cell_type": "code",
   "execution_count": 18,
   "metadata": {},
   "outputs": [
    {
     "ename": "SyntaxError",
     "evalue": "invalid syntax (<ipython-input-18-a8073202acef>, line 1)",
     "output_type": "error",
     "traceback": [
      "\u001b[1;36m  File \u001b[1;32m\"<ipython-input-18-a8073202acef>\"\u001b[1;36m, line \u001b[1;32m1\u001b[0m\n\u001b[1;33m    print(\"it's too hot\"kind of\" sunny\")\u001b[0m\n\u001b[1;37m                           ^\u001b[0m\n\u001b[1;31mSyntaxError\u001b[0m\u001b[1;31m:\u001b[0m invalid syntax\n"
     ]
    }
   ],
   "source": [
    "print(\"it's too hot\"kind of\" sunny\")"
   ]
  },
  {
   "cell_type": "code",
   "execution_count": 19,
   "metadata": {},
   "outputs": [
    {
     "name": "stdout",
     "output_type": "stream",
     "text": [
      "it's too hot \"kind of\" sunny\n"
     ]
    }
   ],
   "source": [
    "#Usage of Escape sequence\n",
    "print(\"it\\'s too hot \\\"kind of\\\" sunny\")"
   ]
  },
  {
   "cell_type": "markdown",
   "metadata": {},
   "source": [
    "### Formatted Strings "
   ]
  },
  {
   "cell_type": "code",
   "execution_count": 20,
   "metadata": {},
   "outputs": [
    {
     "ename": "TypeError",
     "evalue": "can only concatenate str (not \"int\") to str",
     "output_type": "error",
     "traceback": [
      "\u001b[1;31m---------------------------------------------------------------------------\u001b[0m",
      "\u001b[1;31mTypeError\u001b[0m                                 Traceback (most recent call last)",
      "\u001b[1;32m<ipython-input-20-580371aaca6f>\u001b[0m in \u001b[0;36m<module>\u001b[1;34m\u001b[0m\n\u001b[0;32m      2\u001b[0m \u001b[0mage\u001b[0m \u001b[1;33m=\u001b[0m\u001b[1;36m19\u001b[0m\u001b[1;33m\u001b[0m\u001b[1;33m\u001b[0m\u001b[0m\n\u001b[0;32m      3\u001b[0m \u001b[1;33m\u001b[0m\u001b[0m\n\u001b[1;32m----> 4\u001b[1;33m \u001b[0mprint\u001b[0m\u001b[1;33m(\u001b[0m\u001b[1;34m'hi '\u001b[0m \u001b[1;33m+\u001b[0m \u001b[0mname\u001b[0m \u001b[1;33m+\u001b[0m \u001b[1;34m', you are '\u001b[0m \u001b[1;33m+\u001b[0m\u001b[0mage\u001b[0m\u001b[1;33m+\u001b[0m \u001b[1;34m' old.'\u001b[0m\u001b[1;33m)\u001b[0m\u001b[1;33m\u001b[0m\u001b[1;33m\u001b[0m\u001b[0m\n\u001b[0m",
      "\u001b[1;31mTypeError\u001b[0m: can only concatenate str (not \"int\") to str"
     ]
    }
   ],
   "source": [
    "name = 'xyz'\n",
    "age =19\n",
    "\n",
    "print('hi ' + name + ', you are ' +age+ ' old.')"
   ]
  },
  {
   "cell_type": "code",
   "execution_count": 21,
   "metadata": {},
   "outputs": [
    {
     "name": "stdout",
     "output_type": "stream",
     "text": [
      "hi xyz, you are 19 years old.\n"
     ]
    }
   ],
   "source": [
    "name = 'xyz'\n",
    "age =19\n",
    "\n",
    "print('hi ' + name + ', you are ' +str(age)+ ' years old.')"
   ]
  },
  {
   "cell_type": "code",
   "execution_count": 1,
   "metadata": {},
   "outputs": [
    {
     "name": "stdout",
     "output_type": "stream",
     "text": [
      "hi  xyz , you are  xyz  old.\n"
     ]
    }
   ],
   "source": [
    "name = 'xyz'\n",
    "age =19\n",
    "print('hi ', name, ', you are ' ,name, ' old.')"
   ]
  },
  {
   "cell_type": "code",
   "execution_count": 22,
   "metadata": {},
   "outputs": [
    {
     "name": "stdout",
     "output_type": "stream",
     "text": [
      "hi {} , you are {}  years old.\n"
     ]
    },
    {
     "ename": "AttributeError",
     "evalue": "'NoneType' object has no attribute 'format'",
     "output_type": "error",
     "traceback": [
      "\u001b[1;31m---------------------------------------------------------------------------\u001b[0m",
      "\u001b[1;31mAttributeError\u001b[0m                            Traceback (most recent call last)",
      "\u001b[1;32m<ipython-input-22-e446450f6acf>\u001b[0m in \u001b[0;36m<module>\u001b[1;34m\u001b[0m\n\u001b[0;32m      3\u001b[0m \u001b[0mage\u001b[0m \u001b[1;33m=\u001b[0m\u001b[1;36m19\u001b[0m\u001b[1;33m\u001b[0m\u001b[1;33m\u001b[0m\u001b[0m\n\u001b[0;32m      4\u001b[0m \u001b[1;33m\u001b[0m\u001b[0m\n\u001b[1;32m----> 5\u001b[1;33m \u001b[0mprint\u001b[0m\u001b[1;33m(\u001b[0m\u001b[1;34m'hi {} , you are {}  years old.'\u001b[0m\u001b[1;33m)\u001b[0m\u001b[1;33m.\u001b[0m\u001b[0mformat\u001b[0m\u001b[1;33m(\u001b[0m\u001b[1;34m'name'\u001b[0m\u001b[1;33m,\u001b[0m\u001b[1;34m'age'\u001b[0m\u001b[1;33m)\u001b[0m\u001b[1;33m\u001b[0m\u001b[1;33m\u001b[0m\u001b[0m\n\u001b[0m",
      "\u001b[1;31mAttributeError\u001b[0m: 'NoneType' object has no attribute 'format'"
     ]
    }
   ],
   "source": [
    "#Formatted Strings\n",
    "name = 'xyz'\n",
    "age =19\n",
    "\n",
    "print('hi {} , you are {}  years old.').format('name','age')"
   ]
  },
  {
   "cell_type": "code",
   "execution_count": 23,
   "metadata": {},
   "outputs": [
    {
     "name": "stdout",
     "output_type": "stream",
     "text": [
      "hi xyz , you are 19  years old.\n"
     ]
    }
   ],
   "source": [
    "#Formatted Strings\n",
    "name = 'xyz'\n",
    "age =19\n",
    "\n",
    "print('hi {} , you are {}  years old.'.format(name,age))"
   ]
  },
  {
   "cell_type": "code",
   "execution_count": 24,
   "metadata": {},
   "outputs": [
    {
     "name": "stdout",
     "output_type": "stream",
     "text": [
      "hi 19 , you are xyz  years old.\n"
     ]
    }
   ],
   "source": [
    "name = 'xyz'\n",
    "age =19\n",
    "\n",
    "print('hi {1} , you are {0}  years old.'.format(name,age))"
   ]
  },
  {
   "cell_type": "code",
   "execution_count": 5,
   "metadata": {},
   "outputs": [
    {
     "name": "stdout",
     "output_type": "stream",
     "text": [
      "hi abc,you are 22 years old.\n"
     ]
    }
   ],
   "source": [
    "name = 'xyz'\n",
    "age =19\n",
    "\n",
    "print('hi {new_name},you\\'re {new_age} yrs old.'.format(new_name='abc',new_age='22'))"
   ]
  },
  {
   "cell_type": "code",
   "execution_count": 3,
   "metadata": {},
   "outputs": [
    {
     "ename": "KeyError",
     "evalue": "'new_name'",
     "output_type": "error",
     "traceback": [
      "\u001b[1;31m---------------------------------------------------------------------------\u001b[0m",
      "\u001b[1;31mKeyError\u001b[0m                                  Traceback (most recent call last)",
      "Cell \u001b[1;32mIn[3], line 4\u001b[0m\n\u001b[0;32m      1\u001b[0m name \u001b[38;5;241m=\u001b[39m \u001b[38;5;124m'\u001b[39m\u001b[38;5;124mxyz\u001b[39m\u001b[38;5;124m'\u001b[39m\n\u001b[0;32m      2\u001b[0m age \u001b[38;5;241m=\u001b[39m\u001b[38;5;241m19\u001b[39m\n\u001b[1;32m----> 4\u001b[0m \u001b[38;5;28mprint\u001b[39m(\u001b[38;5;124;43m'\u001b[39;49m\u001b[38;5;124;43mhi \u001b[39;49m\u001b[38;5;132;43;01m{new_name}\u001b[39;49;00m\u001b[38;5;124;43m,you\u001b[39;49m\u001b[38;5;130;43;01m\\'\u001b[39;49;00m\u001b[38;5;124;43mre \u001b[39;49m\u001b[38;5;132;43;01m{age}\u001b[39;49;00m\u001b[38;5;124;43m yrs old.\u001b[39;49m\u001b[38;5;124;43m'\u001b[39;49m\u001b[38;5;241;43m.\u001b[39;49m\u001b[43mformat\u001b[49m\u001b[43m(\u001b[49m\u001b[43mname\u001b[49m\u001b[43m,\u001b[49m\u001b[43mage\u001b[49m\u001b[43m)\u001b[49m)\n",
      "\u001b[1;31mKeyError\u001b[0m: 'new_name'"
     ]
    }
   ],
   "source": [
    "name = 'xyz'\n",
    "age =19\n",
    "\n",
    "print('hi {new_name},you\\'re {age} yrs old.'.format(name,age))"
   ]
  },
  {
   "cell_type": "code",
   "execution_count": 1,
   "metadata": {},
   "outputs": [
    {
     "ename": "KeyError",
     "evalue": "'age'",
     "output_type": "error",
     "traceback": [
      "\u001b[1;31m---------------------------------------------------------------------------\u001b[0m",
      "\u001b[1;31mKeyError\u001b[0m                                  Traceback (most recent call last)",
      "Cell \u001b[1;32mIn[1], line 4\u001b[0m\n\u001b[0;32m      1\u001b[0m name \u001b[38;5;241m=\u001b[39m \u001b[38;5;124m'\u001b[39m\u001b[38;5;124mxyz\u001b[39m\u001b[38;5;124m'\u001b[39m\n\u001b[0;32m      2\u001b[0m age \u001b[38;5;241m=\u001b[39m\u001b[38;5;241m19\u001b[39m\n\u001b[1;32m----> 4\u001b[0m \u001b[38;5;28mprint\u001b[39m(\u001b[38;5;124;43m'\u001b[39;49m\u001b[38;5;124;43mhi \u001b[39;49m\u001b[38;5;132;43;01m{new_name}\u001b[39;49;00m\u001b[38;5;124;43m,you\u001b[39;49m\u001b[38;5;130;43;01m\\'\u001b[39;49;00m\u001b[38;5;124;43mre \u001b[39;49m\u001b[38;5;132;43;01m{age}\u001b[39;49;00m\u001b[38;5;124;43m yrs old.\u001b[39;49m\u001b[38;5;124;43m'\u001b[39;49m\u001b[38;5;241;43m.\u001b[39;49m\u001b[43mformat\u001b[49m\u001b[43m(\u001b[49m\u001b[43mnew_name\u001b[49m\u001b[38;5;241;43m=\u001b[39;49m\u001b[38;5;124;43m'\u001b[39;49m\u001b[38;5;124;43mabc\u001b[39;49m\u001b[38;5;124;43m'\u001b[39;49m\u001b[43m,\u001b[49m\u001b[43mnew_age\u001b[49m\u001b[38;5;241;43m=\u001b[39;49m\u001b[38;5;124;43m'\u001b[39;49m\u001b[38;5;124;43m22\u001b[39;49m\u001b[38;5;124;43m'\u001b[39;49m\u001b[43m)\u001b[49m)\n",
      "\u001b[1;31mKeyError\u001b[0m: 'age'"
     ]
    }
   ],
   "source": [
    "name = 'xyz'\n",
    "age =19\n",
    "\n",
    "print('hi {new_name},you\\'re {age} yrs old.'.format(new_name='abc',new_age='22'))"
   ]
  },
  {
   "cell_type": "code",
   "execution_count": 2,
   "metadata": {},
   "outputs": [
    {
     "name": "stdout",
     "output_type": "stream",
     "text": [
      "hi abc,you're 22 yrs old.\n"
     ]
    }
   ],
   "source": [
    "name = 'xyz'\n",
    "age =19\n",
    "\n",
    "print('hi {new_name},you\\'re {age} yrs old.'.format(new_name='abc',age='22'))"
   ]
  },
  {
   "cell_type": "markdown",
   "metadata": {},
   "source": [
    "##### f-string:"
   ]
  },
  {
   "cell_type": "code",
   "execution_count": 1,
   "metadata": {},
   "outputs": [
    {
     "name": "stdout",
     "output_type": "stream",
     "text": [
      "hi xyz , you are 19  years old.\n"
     ]
    }
   ],
   "source": [
    "#Formatted Strings\n",
    "name = 'xyz'\n",
    "age =19\n",
    "\n",
    "print(f'hi {name} , you are {age}  years old.')"
   ]
  },
  {
   "cell_type": "code",
   "execution_count": 27,
   "metadata": {},
   "outputs": [
    {
     "name": "stdout",
     "output_type": "stream",
     "text": [
      "Hello Cindy, your balance is 50.\n",
      "Hello Cindy, your balance is 50.\n",
      "Hello Cindy, your balance is 50.\n",
      "Hello Cindy, your balance is 50.\n"
     ]
    }
   ],
   "source": [
    "print(\"Hello {}, your balance is {}.\".format(\"Cindy\", 50))\n",
    "\n",
    "print(\"Hello {0}, your balance is {1}.\".format(\"Cindy\", 50))\n",
    "\n",
    "print(\"Hello {name}, your balance is {amount}.\".format(name=\"Cindy\", amount=50))\n",
    "\n",
    "print(\"Hello {0}, your balance is {amount}.\".format(\"Cindy\", amount=50))"
   ]
  },
  {
   "cell_type": "markdown",
   "metadata": {},
   "source": [
    "### Most Efficient way of String Formatting"
   ]
  },
  {
   "cell_type": "code",
   "execution_count": 28,
   "metadata": {},
   "outputs": [
    {
     "name": "stdout",
     "output_type": "stream",
     "text": [
      "Hello Cindy, your balance is 50.\n"
     ]
    }
   ],
   "source": [
    "name = 'Cindy'\n",
    "amount = 50\n",
    "print(f\"Hello {name}, your balance is {amount}.\")\n"
   ]
  },
  {
   "cell_type": "markdown",
   "metadata": {},
   "source": [
    "Format: `print(\"Hello {0}, your balance is {amount}.\".format(\"Cindy\", amount=50))`\n",
    "\n",
    "f string: ```print(f\"Hello {name}, your balance is {amount}.\")```"
   ]
  },
  {
   "cell_type": "markdown",
   "metadata": {},
   "source": [
    "### String Indexing:"
   ]
  },
  {
   "cell_type": "code",
   "execution_count": 4,
   "metadata": {},
   "outputs": [
    {
     "name": "stdout",
     "output_type": "stream",
     "text": [
      "m\n",
      "n\n"
     ]
    }
   ],
   "source": [
    "myself = 'i am learner'\n",
    "        # 0123456789\n",
    "x=myself[3]\n",
    "y=myself[9]\n",
    "print(x)\n",
    "print(y)"
   ]
  },
  {
   "cell_type": "markdown",
   "metadata": {},
   "source": [
    "##### String Slicing:"
   ]
  },
  {
   "cell_type": "code",
   "execution_count": 30,
   "metadata": {},
   "outputs": [
    {
     "name": "stdout",
     "output_type": "stream",
     "text": [
      "learn\n"
     ]
    }
   ],
   "source": [
    "myself = 'iamlearner'\n",
    "        # 0123456789\n",
    "#syntax=[start:stop]; we get stop-1 in output\n",
    "x=myself[3:8]\n",
    "print(x)"
   ]
  },
  {
   "cell_type": "code",
   "execution_count": 6,
   "metadata": {},
   "outputs": [
    {
     "name": "stdout",
     "output_type": "stream",
     "text": [
      "learn\n",
      "learn\n",
      "lan\n"
     ]
    }
   ],
   "source": [
    "myself = 'iamlearner'\n",
    "        # 0123456789\n",
    "#syntax=[start:stop:stepover]; we get stop-1 in output ---- default stepover is 1\n",
    "x=myself[3:8]\n",
    "y=myself[3:8:1]\n",
    "z=myself[3:8:2]\n",
    "print(x)\n",
    "print(y)\n",
    "print(z)"
   ]
  },
  {
   "cell_type": "code",
   "execution_count": 32,
   "metadata": {},
   "outputs": [
    {
     "name": "stdout",
     "output_type": "stream",
     "text": [
      "learner\n",
      "iamlearn\n",
      "iamlearner\n",
      "imere\n"
     ]
    }
   ],
   "source": [
    "myself = 'iamlearner'\n",
    "        # 0123456789\n",
    "#syntax=[start:stop:stepover]; we get stop-1 in output\n",
    "x=myself[3:]\n",
    "y=myself[:8]\n",
    "z=myself[::1]\n",
    "z1=myself[::2]\n",
    "print(x)\n",
    "print(y)\n",
    "print(z)\n",
    "print(z1)"
   ]
  },
  {
   "cell_type": "markdown",
   "metadata": {},
   "source": [
    "##### Negative Indexing and String Reversal"
   ]
  },
  {
   "cell_type": "code",
   "execution_count": 33,
   "metadata": {},
   "outputs": [
    {
     "name": "stdout",
     "output_type": "stream",
     "text": [
      "r\n",
      "renraelmai\n",
      "rnala\n"
     ]
    }
   ],
   "source": [
    "myself = 'iamlearner'\n",
    "        # 0123456789\n",
    "#-ve index indicates to start from the end of string\n",
    "x=myself[-1]\n",
    "y=myself[::-1] # string reversal\n",
    "z=myself[::-2]\n",
    "# z1=myself[::2]\n",
    "print(x)\n",
    "print(y)\n",
    "print(z)"
   ]
  },
  {
   "cell_type": "markdown",
   "metadata": {},
   "source": [
    "### IMP:\n",
    "> start index should be < stop index when stepover is positive value\n",
    ">> when stepover is positive value: o/p: start to stop-1\n",
    "\n",
    "\n",
    ">start index should be > stop index when stepover is negative value\n",
    "(-ve stepover means we are trying to get the values in reverse \n",
    "hence start index should be > stop index)\n",
    ">>when stepover is negative value: o/p: start to stop+1"
   ]
  },
  {
   "cell_type": "code",
   "execution_count": 7,
   "metadata": {},
   "outputs": [
    {
     "name": "stdout",
     "output_type": "stream",
     "text": [
      "m PYTH\n",
      "OHT\n",
      "redo\n"
     ]
    }
   ],
   "source": [
    "python = 'I am PYTHON coder'\n",
    "         #012345678910\n",
    "print(python[3:9:1])\n",
    "print(python[9:6:-1]) # 9,8,7\n",
    "print(python[-1:-5:-1]) # -1,-2,-3,-4"
   ]
  },
  {
   "cell_type": "code",
   "execution_count": 2,
   "metadata": {},
   "outputs": [],
   "source": [
    "str=\"I am Python developer\" #syntax=[start:stop:stepover]; we get stop-1 in output"
   ]
  },
  {
   "cell_type": "code",
   "execution_count": 3,
   "metadata": {},
   "outputs": [
    {
     "data": {
      "text/plain": [
       "' '"
      ]
     },
     "execution_count": 3,
     "metadata": {},
     "output_type": "execute_result"
    }
   ],
   "source": [
    "str[1]  # element present in the index:1"
   ]
  },
  {
   "cell_type": "code",
   "execution_count": 4,
   "metadata": {},
   "outputs": [
    {
     "data": {
      "text/plain": [
       "'a'"
      ]
     },
     "execution_count": 4,
     "metadata": {},
     "output_type": "execute_result"
    }
   ],
   "source": [
    "str[2]"
   ]
  },
  {
   "cell_type": "code",
   "execution_count": 5,
   "metadata": {},
   "outputs": [
    {
     "data": {
      "text/plain": [
       "'I am Python developer'"
      ]
     },
     "execution_count": 5,
     "metadata": {},
     "output_type": "execute_result"
    }
   ],
   "source": [
    "str[:] # All the elements present in the string"
   ]
  },
  {
   "cell_type": "code",
   "execution_count": 6,
   "metadata": {},
   "outputs": [
    {
     "data": {
      "text/plain": [
       "'r'"
      ]
     },
     "execution_count": 6,
     "metadata": {},
     "output_type": "execute_result"
    }
   ],
   "source": [
    "str[-1]  #last element of the string"
   ]
  },
  {
   "cell_type": "markdown",
   "metadata": {},
   "source": [
    "#### IMP:"
   ]
  },
  {
   "cell_type": "code",
   "execution_count": 5,
   "metadata": {},
   "outputs": [
    {
     "name": "stdout",
     "output_type": "stream",
     "text": [
      "I am Pyton develop\n",
      "er\n"
     ]
    }
   ],
   "source": [
    "print(str[:-2]) # starting of string to prefinal element\n",
    "print(str[-2:]) # from the prefinal element"
   ]
  },
  {
   "cell_type": "code",
   "execution_count": 12,
   "metadata": {},
   "outputs": [
    {
     "data": {
      "text/plain": [
       "''"
      ]
     },
     "execution_count": 12,
     "metadata": {},
     "output_type": "execute_result"
    }
   ],
   "source": [
    "str[4:6:-1]"
   ]
  },
  {
   "cell_type": "code",
   "execution_count": 13,
   "metadata": {},
   "outputs": [
    {
     "name": "stdout",
     "output_type": "stream",
     "text": [
      "not\n"
     ]
    }
   ],
   "source": [
    "str[9:6:-1]"
   ]
  },
  {
   "cell_type": "code",
   "execution_count": 15,
   "metadata": {},
   "outputs": [
    {
     "data": {
      "text/plain": [
       "''"
      ]
     },
     "execution_count": 15,
     "metadata": {},
     "output_type": "execute_result"
    }
   ],
   "source": [
    "str[-1:-6:1]"
   ]
  },
  {
   "cell_type": "code",
   "execution_count": 18,
   "metadata": {},
   "outputs": [
    {
     "data": {
      "text/plain": [
       "'repol'"
      ]
     },
     "execution_count": 18,
     "metadata": {},
     "output_type": "execute_result"
    }
   ],
   "source": [
    "str[-1:-6:-1]"
   ]
  },
  {
   "cell_type": "code",
   "execution_count": 4,
   "metadata": {},
   "outputs": [
    {
     "name": "stdout",
     "output_type": "stream",
     "text": [
      "I am PYTHON CODER\n"
     ]
    }
   ],
   "source": [
    "python = 'I am PYTHON'\n",
    "x=python+' CODER'\n",
    "print(x)"
   ]
  },
  {
   "cell_type": "markdown",
   "metadata": {},
   "source": [
    "### Built-in Functions + Methods"
   ]
  },
  {
   "cell_type": "markdown",
   "metadata": {},
   "source": [
    "https://docs.python.org/3/library/functions.html\n",
    "\n",
    "https://www.w3schools.com/python/python_ref_functions.asp\n",
    "\n",
    "https://www.w3schools.com/python/python_ref_keywords.asp\n",
    "\n",
    "\n",
    "* https://www.w3schools.com/python/ref_func_frozenset.asp\n",
    "* https://www.w3schools.com/python/ref_func_reversed.asp\n",
    "* https://www.w3schools.com/python/ref_func_sorted.asp"
   ]
  },
  {
   "cell_type": "code",
   "execution_count": 36,
   "metadata": {},
   "outputs": [
    {
     "name": "stdout",
     "output_type": "stream",
     "text": [
      "11\n"
     ]
    }
   ],
   "source": [
    "python = 'I am PYTHON'\n",
    "print(len(python))"
   ]
  },
  {
   "cell_type": "code",
   "execution_count": 37,
   "metadata": {},
   "outputs": [
    {
     "name": "stdout",
     "output_type": "stream",
     "text": [
      "I am PYTHON\n",
      "I am PYTHO\n"
     ]
    }
   ],
   "source": [
    "python = 'I am PYTHON'\n",
    "print(python[0:len(python)])\n",
    "print(python[0:len(python)-1])"
   ]
  },
  {
   "cell_type": "markdown",
   "metadata": {},
   "source": [
    "### Built-In Methods:"
   ]
  },
  {
   "cell_type": "code",
   "execution_count": 13,
   "metadata": {},
   "outputs": [
    {
     "name": "stdout",
     "output_type": "stream",
     "text": [
      "i am python coder\n",
      "I will be python coder\n",
      "I WILL BE PYTHON CODER\n",
      "I Will Be Python Coder\n",
      "10\n",
      "i am python coder\n",
      "i will be python coder\n"
     ]
    }
   ],
   "source": [
    "python = 'I am PYTHON coder'\n",
    "print(python.lower())\n",
    "python = 'i will be python coder'\n",
    "print(python.capitalize())\n",
    "print(python.upper())\n",
    "print(python.title())\n",
    "print(python.find('python'))# gives the index from where the word 'python' starts\n",
    "x=print(python.replace('will be','am'))\n",
    "print(python) #Strings are immutable"
   ]
  },
  {
   "cell_type": "code",
   "execution_count": 39,
   "metadata": {},
   "outputs": [
    {
     "name": "stdout",
     "output_type": "stream",
     "text": [
      "I am Python coder\n",
      "I will be Python coder\n"
     ]
    }
   ],
   "source": [
    "python = 'I will be Python coder'\n",
    "print(python.replace('will be','am'))\n",
    "print(python) #Strings are immutable"
   ]
  },
  {
   "cell_type": "code",
   "execution_count": 40,
   "metadata": {},
   "outputs": [
    {
     "name": "stdout",
     "output_type": "stream",
     "text": [
      "I will be Python coder\n",
      "I am Python coder\n"
     ]
    }
   ],
   "source": [
    "python = 'I will be Python coder'\n",
    "print(python)\n",
    "python=python.replace('will be','am')\n",
    "print(python) #Strings are immutable"
   ]
  },
  {
   "cell_type": "markdown",
   "metadata": {},
   "source": [
    "### all()"
   ]
  },
  {
   "cell_type": "markdown",
   "metadata": {},
   "source": [
    "The all() function returns True if all items in an iterable are true, otherwise it returns False.\n",
    "\n",
    "- If the iterable object is empty, the all() function also returns True."
   ]
  },
  {
   "cell_type": "code",
   "execution_count": 9,
   "metadata": {},
   "outputs": [
    {
     "data": {
      "text/plain": [
       "True"
      ]
     },
     "execution_count": 9,
     "metadata": {},
     "output_type": "execute_result"
    }
   ],
   "source": [
    "mylist = [True, True, True]\n",
    "x = all(mylist)\n",
    "x"
   ]
  },
  {
   "cell_type": "code",
   "execution_count": 10,
   "metadata": {},
   "outputs": [
    {
     "data": {
      "text/plain": [
       "False"
      ]
     },
     "execution_count": 10,
     "metadata": {},
     "output_type": "execute_result"
    }
   ],
   "source": [
    "mylist = [0, 1, 1]\n",
    "x = all(mylist)\n",
    "x"
   ]
  },
  {
   "cell_type": "code",
   "execution_count": 1,
   "metadata": {},
   "outputs": [
    {
     "data": {
      "text/plain": [
       "True"
      ]
     },
     "execution_count": 1,
     "metadata": {},
     "output_type": "execute_result"
    }
   ],
   "source": [
    "myls = []\n",
    "all(myls)"
   ]
  },
  {
   "cell_type": "markdown",
   "metadata": {},
   "source": [
    "### any()"
   ]
  },
  {
   "cell_type": "markdown",
   "metadata": {},
   "source": [
    "The any() function returns True if any item in an iterable are true, otherwise it returns False. \n",
    "\n",
    "- If the iterable object is empty, the any() function will return False."
   ]
  },
  {
   "cell_type": "code",
   "execution_count": 11,
   "metadata": {},
   "outputs": [
    {
     "data": {
      "text/plain": [
       "True"
      ]
     },
     "execution_count": 11,
     "metadata": {},
     "output_type": "execute_result"
    }
   ],
   "source": [
    "mylist = [False, True, False]\n",
    "x = any(mylist)\n",
    "x"
   ]
  },
  {
   "cell_type": "code",
   "execution_count": 1,
   "metadata": {},
   "outputs": [
    {
     "data": {
      "text/plain": [
       "False"
      ]
     },
     "execution_count": 1,
     "metadata": {},
     "output_type": "execute_result"
    }
   ],
   "source": [
    "mylist=[]\n",
    "x=any(mylist)\n",
    "x"
   ]
  },
  {
   "cell_type": "markdown",
   "metadata": {},
   "source": [
    "### Booleans:"
   ]
  },
  {
   "cell_type": "code",
   "execution_count": 41,
   "metadata": {},
   "outputs": [
    {
     "name": "stdout",
     "output_type": "stream",
     "text": [
      "True\n",
      "False\n",
      "True\n",
      "True\n",
      "False\n"
     ]
    }
   ],
   "source": [
    "print(bool(1))\n",
    "print(bool(0))\n",
    "print(bool('True'))\n",
    "print(bool('False'))\n",
    "print(bool())"
   ]
  },
  {
   "cell_type": "markdown",
   "metadata": {},
   "source": [
    "### Type Conversion-Type Casting:"
   ]
  },
  {
   "cell_type": "markdown",
   "metadata": {},
   "source": [
    ">Whatever you enter as input, the input() function converts it into a string.\n",
    "\n",
    "If you enter an integer value, still it will convert it into a string.\n",
    "\n",
    "- If you want to number input from a user, you need to perform type conversion on the input value."
   ]
  },
  {
   "cell_type": "code",
   "execution_count": 15,
   "metadata": {},
   "outputs": [
    {
     "name": "stdin",
     "output_type": "stream",
     "text": [
      "Enter your birth_year:  2000\n"
     ]
    },
    {
     "name": "stdout",
     "output_type": "stream",
     "text": [
      "<class 'str'>\n",
      "Your birth_year is: 2000\n",
      "your age is 20\n",
      "your age is 20\n"
     ]
    }
   ],
   "source": [
    "birth_year=input('Enter your birth_year: ')\n",
    "print(type(birth_year))\n",
    "print('Your birth_year is: '+ birth_year)\n",
    "age = 2020-int(birth_year)\n",
    "print('your age is '+ str(age))\n",
    "print(f'your age is {age}')"
   ]
  },
  {
   "cell_type": "markdown",
   "metadata": {},
   "source": [
    "### Task: Password Checker"
   ]
  },
  {
   "cell_type": "code",
   "execution_count": 44,
   "metadata": {},
   "outputs": [
    {
     "name": "stdout",
     "output_type": "stream",
     "text": [
      "Enter the User_Name:coder\n",
      "Enter the Password:coder\n",
      "<class 'str'>\n",
      "Hey there coder, your password ***** is 5 digits\n"
     ]
    }
   ],
   "source": [
    "User_Name=input('Enter the User_Name:')\n",
    "Password=input('Enter the Password:')\n",
    "print(type(Password))\n",
    "Hidden_Password='*'*len(Password)\n",
    "print(f'Hey{User_Name}, your password {Hidden_Password} is {len(Password)} digits')"
   ]
  },
  {
   "cell_type": "code",
   "execution_count": 45,
   "metadata": {},
   "outputs": [
    {
     "name": "stdout",
     "output_type": "stream",
     "text": [
      "Enter the User_Name:coder\n",
      "Enter the Password:coder\n",
      "coder, your password ***** is 5 digits\n"
     ]
    }
   ],
   "source": [
    "User_Name=input('Enter the User_Name:')\n",
    "Password=input('Enter the Password:')\n",
    "#print(type(Password))\n",
    "print(f\"{User_Name}, your password {'*'*len(Password)} is {len(Password)} digits\")"
   ]
  },
  {
   "cell_type": "code",
   "execution_count": 46,
   "metadata": {},
   "outputs": [
    {
     "name": "stdout",
     "output_type": "stream",
     "text": [
      "<class 'str'>\n"
     ]
    }
   ],
   "source": [
    "print(type('a'))"
   ]
  },
  {
   "cell_type": "markdown",
   "metadata": {},
   "source": [
    "### Data Structures:"
   ]
  },
  {
   "cell_type": "markdown",
   "metadata": {},
   "source": [
    "### Lists:"
   ]
  },
  {
   "cell_type": "code",
   "execution_count": 2,
   "metadata": {
    "slideshow": {
     "slide_type": ""
    },
    "tags": []
   },
   "outputs": [
    {
     "data": {
      "text/plain": [
       "'books'"
      ]
     },
     "execution_count": 2,
     "metadata": {},
     "output_type": "execute_result"
    }
   ],
   "source": [
    "amazon_cart=['books','pens']\n",
    "amazon_cart[0]"
   ]
  },
  {
   "cell_type": "markdown",
   "metadata": {},
   "source": [
    "##### My Finding:"
   ]
  },
  {
   "cell_type": "code",
   "execution_count": 3,
   "metadata": {},
   "outputs": [
    {
     "data": {
      "text/plain": [
       "['books', 'pens', 'books', 'pens', 'books', 'pens', 'books', 'pens']"
      ]
     },
     "execution_count": 3,
     "metadata": {},
     "output_type": "execute_result"
    }
   ],
   "source": [
    "4*amazon_cart"
   ]
  },
  {
   "cell_type": "code",
   "execution_count": 4,
   "metadata": {},
   "outputs": [
    {
     "data": {
      "text/plain": [
       "['books', 'pens', 'books', 'pens']"
      ]
     },
     "execution_count": 4,
     "metadata": {},
     "output_type": "execute_result"
    }
   ],
   "source": [
    "amazon_cart+amazon_cart"
   ]
  },
  {
   "cell_type": "code",
   "execution_count": 5,
   "metadata": {},
   "outputs": [
    {
     "data": {
      "text/plain": [
       "['books', 'pens', 'books', 'pens', 'books', 'pens']"
      ]
     },
     "execution_count": 5,
     "metadata": {},
     "output_type": "execute_result"
    }
   ],
   "source": [
    "amazon_cart+(2*amazon_cart)"
   ]
  },
  {
   "cell_type": "code",
   "execution_count": 6,
   "metadata": {},
   "outputs": [
    {
     "ename": "TypeError",
     "evalue": "unsupported operand type(s) for -: 'list' and 'list'",
     "output_type": "error",
     "traceback": [
      "\u001b[1;31m---------------------------------------------------------------------------\u001b[0m",
      "\u001b[1;31mTypeError\u001b[0m                                 Traceback (most recent call last)",
      "Cell \u001b[1;32mIn[6], line 1\u001b[0m\n\u001b[1;32m----> 1\u001b[0m \u001b[43mamazon_cart\u001b[49m\u001b[38;5;241;43m-\u001b[39;49m\u001b[43mamazon_cart\u001b[49m\n",
      "\u001b[1;31mTypeError\u001b[0m: unsupported operand type(s) for -: 'list' and 'list'"
     ]
    }
   ],
   "source": [
    "amazon_cart-amazon_cart"
   ]
  },
  {
   "cell_type": "code",
   "execution_count": 29,
   "metadata": {},
   "outputs": [
    {
     "data": {
      "text/plain": [
       "[1, 2, 3, 1, 2, 3]"
      ]
     },
     "execution_count": 29,
     "metadata": {},
     "output_type": "execute_result"
    }
   ],
   "source": [
    "list=[1,2,3]\n",
    "2*list"
   ]
  },
  {
   "cell_type": "code",
   "execution_count": 48,
   "metadata": {},
   "outputs": [
    {
     "data": {
      "text/plain": [
       "['books', 'pens']"
      ]
     },
     "execution_count": 48,
     "metadata": {},
     "output_type": "execute_result"
    }
   ],
   "source": [
    "amazon_cart"
   ]
  },
  {
   "cell_type": "markdown",
   "metadata": {},
   "source": [
    "> - Strings are immutable. i.e., we can't change the values\n",
    "> - Lists are mutable. i.e., we can change the values"
   ]
  },
  {
   "cell_type": "markdown",
   "metadata": {},
   "source": [
    "##### List Slicing:"
   ]
  },
  {
   "cell_type": "code",
   "execution_count": 49,
   "metadata": {},
   "outputs": [
    {
     "data": {
      "text/plain": [
       "'a'"
      ]
     },
     "execution_count": 49,
     "metadata": {},
     "output_type": "execute_result"
    }
   ],
   "source": [
    "string='abcdefgh'\n",
    "string[0]"
   ]
  },
  {
   "cell_type": "code",
   "execution_count": 50,
   "metadata": {},
   "outputs": [
    {
     "ename": "TypeError",
     "evalue": "'str' object does not support item assignment",
     "output_type": "error",
     "traceback": [
      "\u001b[1;31m---------------------------------------------------------------------------\u001b[0m",
      "\u001b[1;31mTypeError\u001b[0m                                 Traceback (most recent call last)",
      "\u001b[1;32m<ipython-input-50-033609a963b2>\u001b[0m in \u001b[0;36m<module>\u001b[1;34m\u001b[0m\n\u001b[1;32m----> 1\u001b[1;33m \u001b[0mstring\u001b[0m\u001b[1;33m[\u001b[0m\u001b[1;36m0\u001b[0m\u001b[1;33m]\u001b[0m\u001b[1;33m=\u001b[0m\u001b[1;34m'x'\u001b[0m \u001b[1;31m#Strings are immutable. i.e., we can't change the values\u001b[0m\u001b[1;33m\u001b[0m\u001b[1;33m\u001b[0m\u001b[0m\n\u001b[0m",
      "\u001b[1;31mTypeError\u001b[0m: 'str' object does not support item assignment"
     ]
    }
   ],
   "source": [
    "string[0]='x' #Strings are immutable. i.e., we can't change the values"
   ]
  },
  {
   "cell_type": "code",
   "execution_count": 8,
   "metadata": {},
   "outputs": [
    {
     "data": {
      "text/plain": [
       "['books', 'pens', 'toys', 'food']"
      ]
     },
     "execution_count": 8,
     "metadata": {},
     "output_type": "execute_result"
    }
   ],
   "source": [
    "amazon_cart=['books','pens','toys','food']\n",
    "amazon_cart[0:4:1]"
   ]
  },
  {
   "cell_type": "code",
   "execution_count": 9,
   "metadata": {},
   "outputs": [
    {
     "data": {
      "text/plain": [
       "['books', 'toys']"
      ]
     },
     "execution_count": 9,
     "metadata": {},
     "output_type": "execute_result"
    }
   ],
   "source": [
    "amazon_cart[0:3:2]"
   ]
  },
  {
   "cell_type": "code",
   "execution_count": 10,
   "metadata": {},
   "outputs": [],
   "source": [
    "amazon_cart[0]='papers' #Lists are mutable. i.,e we can change the values"
   ]
  },
  {
   "cell_type": "code",
   "execution_count": 11,
   "metadata": {},
   "outputs": [
    {
     "data": {
      "text/plain": [
       "['papers', 'pens', 'toys', 'food']"
      ]
     },
     "execution_count": 11,
     "metadata": {},
     "output_type": "execute_result"
    }
   ],
   "source": [
    "amazon_cart"
   ]
  },
  {
   "cell_type": "code",
   "execution_count": 12,
   "metadata": {},
   "outputs": [
    {
     "name": "stdout",
     "output_type": "stream",
     "text": [
      "['papers', 'tins', 'toys', 'food']\n",
      "['papers', 'pens', 'toys', 'food']\n"
     ]
    }
   ],
   "source": [
    "new_cart=amazon_cart[0:4]\n",
    "new_cart[1]='tins'\n",
    "print(new_cart)\n",
    "print(amazon_cart)"
   ]
  },
  {
   "cell_type": "markdown",
   "metadata": {},
   "source": [
    "##### Copying Vs Modifying the List:"
   ]
  },
  {
   "cell_type": "markdown",
   "metadata": {},
   "source": [
    "https://www.youtube.com/watch?v=SgUwPDT9tEs"
   ]
  },
  {
   "cell_type": "code",
   "execution_count": 16,
   "metadata": {},
   "outputs": [
    {
     "name": "stdout",
     "output_type": "stream",
     "text": [
      "['papers', 'tins', 'toys', 'food']\n",
      "['papers', 'tins', 'toys', 'food']\n"
     ]
    }
   ],
   "source": [
    "amazon_cart=['books','pens','toys','food']\n",
    "amazon_cart[0]='papers'\n",
    "new_cart=amazon_cart  \n",
    "new_cart[1]='tins'\n",
    "print(new_cart)\n",
    "print(amazon_cart)  \n",
    "\n",
    "#Here amazon_cart got modified, it contains 'tins' which we never assigned....\n",
    "#Something is fishy right?"
   ]
  },
  {
   "cell_type": "markdown",
   "metadata": {},
   "source": [
    "> always use list slicing to copy the list"
   ]
  },
  {
   "cell_type": "code",
   "execution_count": 57,
   "metadata": {},
   "outputs": [
    {
     "name": "stdout",
     "output_type": "stream",
     "text": [
      "['papers', 'tins', 'toys', 'food']\n",
      "['papers', 'pens', 'toys', 'food']\n"
     ]
    }
   ],
   "source": [
    "amazon_cart=[\n",
    "    'books',\n",
    "    'pens',\n",
    "    'toys',\n",
    "    'food'\n",
    "            ]\n",
    "amazon_cart[0]='papers'\n",
    "new_cart=amazon_cart[:]   #always use list slicing to copy the list\n",
    "new_cart[1]='tins'\n",
    "print(new_cart)\n",
    "print(amazon_cart) "
   ]
  },
  {
   "cell_type": "markdown",
   "metadata": {},
   "source": [
    "> ```new_cart=amazon_cart[:]   --- always use list slicing to copy the list```\n",
    "> - ```amazon_cart[:] --- will create a new copy of the list and that will be assigned to new_Cart```"
   ]
  },
  {
   "cell_type": "code",
   "execution_count": 17,
   "metadata": {},
   "outputs": [
    {
     "name": "stdout",
     "output_type": "stream",
     "text": [
      "[1, 2, 3, 4]\n",
      "[1, 2, 3, 4]\n",
      "2077876821696\n",
      "2077876821696\n"
     ]
    }
   ],
   "source": [
    "lst1=[1,2,3,4]\n",
    "lst2=lst1\n",
    "print(lst2)\n",
    "print(lst1)\n",
    "\n",
    "print(id(lst2)) # id() --- gives the address\n",
    "print(id(lst1)) \n",
    "# both list1, list2 are pointing to the same memory address, hence any change in list2 will also reflect in list1"
   ]
  },
  {
   "cell_type": "code",
   "execution_count": 18,
   "metadata": {},
   "outputs": [
    {
     "name": "stdout",
     "output_type": "stream",
     "text": [
      "[1, 2, 3, 4]\n",
      "[1, 2, 3, 4]\n",
      "2077878474752\n",
      "2077878478592\n"
     ]
    }
   ],
   "source": [
    "lst3=[1,2,3,4]\n",
    "lst4=lst3[:]\n",
    "print(lst3)\n",
    "print(lst4)\n",
    "\n",
    "print(id(lst3))\n",
    "print(id(lst4))\n",
    "\n",
    "# list3, list4 are pointing to different memory address, hence any change in list4 will not reflect in list3"
   ]
  },
  {
   "cell_type": "markdown",
   "metadata": {},
   "source": [
    "> `lst2=lst1`\n",
    ">- both list1, list2 are pointing to the same memory address, hence any change in list2 will also reflect in list1\n",
    "\n",
    "> `lst4=lst3[:]`\n",
    ">- list3, list4 are pointing to different memory address, hence any change in list4 will not reflect in list3"
   ]
  },
  {
   "cell_type": "markdown",
   "metadata": {},
   "source": [
    "### '=' operation --- Assignment operator"
   ]
  },
  {
   "cell_type": "code",
   "execution_count": 10,
   "metadata": {},
   "outputs": [
    {
     "name": "stdout",
     "output_type": "stream",
     "text": [
      "3\n",
      "[1, 2, 10, 4]\n",
      "[1, 2, 10, 4]\n"
     ]
    }
   ],
   "source": [
    "lst1=[1,2,3,4]\n",
    "lst2=lst1\n",
    "print(lst2[2])\n",
    "lst2[2]=10\n",
    "print(lst2)\n",
    "print(lst1)"
   ]
  },
  {
   "cell_type": "code",
   "execution_count": 9,
   "metadata": {},
   "outputs": [
    {
     "name": "stdout",
     "output_type": "stream",
     "text": [
      "address of lst1 is: 2382961210816\n"
     ]
    }
   ],
   "source": [
    "lst1=[1,2,3,4]\n",
    "print(f'address of lst1 is: {id(lst1)}')"
   ]
  },
  {
   "cell_type": "markdown",
   "metadata": {},
   "source": [
    "> `id()` gives the unique ID or address where the variable or object is stored in the memory."
   ]
  },
  {
   "cell_type": "code",
   "execution_count": 3,
   "metadata": {},
   "outputs": [
    {
     "name": "stdout",
     "output_type": "stream",
     "text": [
      "addr of lst1 is: 2246368252352\n",
      "addr of lst2 is: 2246368252352\n",
      "3\n",
      "[1, 2, 10, 4]\n",
      "[1, 2, 10, 4]\n"
     ]
    }
   ],
   "source": [
    "lst1=[1,2,3,4]\n",
    "print(f'addr of lst1 is: {id(lst1)}')\n",
    "lst2=lst1\n",
    "print(f'addr of lst2 is: {id(lst2)}')\n",
    "print(lst2[2])\n",
    "lst2[2]=10\n",
    "print(lst2)\n",
    "print(lst1)"
   ]
  },
  {
   "cell_type": "markdown",
   "metadata": {},
   "source": [
    ">```When assignment operator is used, lst2 will point to the same address of lst1. Hence whatever changes we make in lst2 will be reflected in lst1 also.```"
   ]
  },
  {
   "cell_type": "markdown",
   "metadata": {},
   "source": [
    "### Shallow Copy"
   ]
  },
  {
   "cell_type": "code",
   "execution_count": 11,
   "metadata": {},
   "outputs": [
    {
     "name": "stdout",
     "output_type": "stream",
     "text": [
      "3\n",
      "[1, 2, 10, 4]\n",
      "[1, 2, 3, 4]\n"
     ]
    }
   ],
   "source": [
    "# Shallow copy\n",
    "lst1=[1,2,3,4]\n",
    "lst2=lst1.copy()\n",
    "print(lst2[2])\n",
    "lst2[2]=10\n",
    "print(lst2)\n",
    "print(lst1) #lst1 is not modified"
   ]
  },
  {
   "cell_type": "code",
   "execution_count": 4,
   "metadata": {},
   "outputs": [
    {
     "name": "stdout",
     "output_type": "stream",
     "text": [
      "addr of lst1 is: 2246368254784\n",
      "addr of lst2 is: 2246368255296\n",
      "3\n",
      "[1, 2, 10, 4]\n",
      "[1, 2, 3, 4]\n"
     ]
    }
   ],
   "source": [
    "# Shallow copy\n",
    "lst1=[1,2,3,4]\n",
    "print(f'addr of lst1 is: {id(lst1)}')\n",
    "lst2=lst1.copy()\n",
    "print(f'addr of lst2 is: {id(lst2)}')\n",
    "print(lst2[2])\n",
    "lst2[2]=10\n",
    "print(lst2)\n",
    "print(lst1) #lst1 is not modified"
   ]
  },
  {
   "cell_type": "markdown",
   "metadata": {},
   "source": [
    ">`lst1.copy()` will create a new copy of the lst1 and that will be assigned to lst2"
   ]
  },
  {
   "cell_type": "code",
   "execution_count": 7,
   "metadata": {},
   "outputs": [
    {
     "name": "stdout",
     "output_type": "stream",
     "text": [
      "3\n",
      "[1, 2, 10, 4]\n",
      "[1, 2, 3, 4]\n"
     ]
    }
   ],
   "source": [
    "# Another approach of Shallow copy\n",
    "\n",
    "import copy\n",
    "lst1=[1,2,3,4]\n",
    "lst2=copy.copy(lst1)\n",
    "print(lst2[2])\n",
    "lst2[2]=10\n",
    "print(lst2)\n",
    "print(lst1) #lst1 is not modified"
   ]
  },
  {
   "cell_type": "code",
   "execution_count": 11,
   "metadata": {},
   "outputs": [
    {
     "name": "stdout",
     "output_type": "stream",
     "text": [
      "[[1, 2, 3, 4], [5, 6, 7]]\n",
      "1\n",
      "[[1, 2, 3, 4], [190, 6, 7]]\n",
      "[[1, 2, 3, 4], [190, 6, 7]]\n"
     ]
    }
   ],
   "source": [
    "# Shallow copy\n",
    "\n",
    "lst1=[[1,2,3,4],[5,6,7]] #nested list\n",
    "lst2=lst1.copy()\n",
    "print(lst2)\n",
    "print(lst2[0][0])\n",
    "lst2[1][0]=190\n",
    "print(lst2)\n",
    "print(lst1) #lst1 is  modified --hence to avoid this in nested list deep copy is used"
   ]
  },
  {
   "cell_type": "markdown",
   "metadata": {},
   "source": [
    ">In the above example, lst1 is  modified --- shallow copy is not applicable for nested lists.\n",
    "\n",
    "> - In nested list `deep copy` is used"
   ]
  },
  {
   "cell_type": "markdown",
   "metadata": {},
   "source": [
    "### Deep Copy:"
   ]
  },
  {
   "cell_type": "code",
   "execution_count": 13,
   "metadata": {},
   "outputs": [
    {
     "name": "stdout",
     "output_type": "stream",
     "text": [
      "30\n",
      "[10, 20, 100, 40]\n",
      "[10, 20, 30, 40]\n"
     ]
    }
   ],
   "source": [
    "# Deep copy\n",
    "import copy\n",
    "lst1=[10,20,30,40]\n",
    "lst2=copy.deepcopy(lst1)\n",
    "print(lst2[2])\n",
    "lst2[2]=100\n",
    "print(lst2)\n",
    "print(lst1) #lst1 is not modified"
   ]
  },
  {
   "cell_type": "markdown",
   "metadata": {},
   "source": [
    "> - for non-nested list, shallow copy works same as deep copy"
   ]
  },
  {
   "cell_type": "code",
   "execution_count": 15,
   "metadata": {},
   "outputs": [
    {
     "name": "stdout",
     "output_type": "stream",
     "text": [
      "[[11, 21, 31, 41], [51, 61, 71]]\n",
      "51\n",
      "[[11, 21, 31, 41], [191, 61, 71]]\n",
      "[[11, 21, 31, 41], [51, 61, 71]]\n"
     ]
    }
   ],
   "source": [
    "# Deep copy\n",
    "lst1=[[11,21,31,41],[51,61,71]]\n",
    "lst2=copy.deepcopy(lst1)\n",
    "print(lst2)\n",
    "print(lst2[1][0])\n",
    "lst2[1][0]=191\n",
    "print(lst2)\n",
    "print(lst1) #lst1 is not modified "
   ]
  },
  {
   "cell_type": "markdown",
   "metadata": {},
   "source": [
    "> `Shallow copy` works for non-nested lists\n",
    "\n",
    "> `Deep copy` works for non-nested lists and nested lists"
   ]
  },
  {
   "cell_type": "markdown",
   "metadata": {},
   "source": [
    "##### Exercise on List:"
   ]
  },
  {
   "cell_type": "code",
   "execution_count": 58,
   "metadata": {},
   "outputs": [
    {
     "name": "stdout",
     "output_type": "stream",
     "text": [
      "b\n",
      "b\n",
      "['b', 'c']\n",
      "['z', 'b', 'c']\n",
      "['z', 2, 3]\n",
      "[1, 2, 3, 5]\n"
     ]
    }
   ],
   "source": [
    "new_list = ['a', 'b', 'c']\n",
    "print(new_list[1])\n",
    "print(new_list[-2])\n",
    "print(new_list[1:3])\n",
    "new_list[0] = 'z'\n",
    "print(new_list)\n",
    "\n",
    "my_list = [1,2,3]\n",
    "bonus = my_list + [5]\n",
    "my_list[0] = 'z'\n",
    "print(my_list)\n",
    "print(bonus)"
   ]
  },
  {
   "cell_type": "code",
   "execution_count": 59,
   "metadata": {},
   "outputs": [
    {
     "name": "stdout",
     "output_type": "stream",
     "text": [
      "['a', 'b', 'c']\n",
      "['a', 'd', 'c']\n"
     ]
    }
   ],
   "source": [
    "new_list = ['a', 'b', 'c']\n",
    "print(new_list)\n",
    "new_list[1]='d'\n",
    "print(new_list)"
   ]
  },
  {
   "cell_type": "markdown",
   "metadata": {},
   "source": [
    "### Matrix:"
   ]
  },
  {
   "cell_type": "code",
   "execution_count": 60,
   "metadata": {},
   "outputs": [],
   "source": [
    "matrix=[\n",
    "    [1,0,1],\n",
    "    [0,1,0],\n",
    "    [1,0,1]\n",
    "       ]"
   ]
  },
  {
   "cell_type": "code",
   "execution_count": 61,
   "metadata": {},
   "outputs": [
    {
     "data": {
      "text/plain": [
       "[[1, 0, 1], [0, 1, 0], [1, 0, 1]]"
      ]
     },
     "execution_count": 61,
     "metadata": {},
     "output_type": "execute_result"
    }
   ],
   "source": [
    "matrix"
   ]
  },
  {
   "cell_type": "code",
   "execution_count": 62,
   "metadata": {},
   "outputs": [
    {
     "name": "stdout",
     "output_type": "stream",
     "text": [
      "[[1, 5, 1], [0, 1, 0], [1, 0, 1]]\n"
     ]
    }
   ],
   "source": [
    "matrix[0][1]=5\n",
    "print(matrix)"
   ]
  },
  {
   "cell_type": "code",
   "execution_count": 63,
   "metadata": {},
   "outputs": [],
   "source": [
    "matrix1=[\n",
    "    [[1],0,1],\n",
    "    [0,1,0],\n",
    "    [1,0,1]\n",
    "       ]"
   ]
  },
  {
   "cell_type": "markdown",
   "metadata": {},
   "source": [
    "Multidimensional matrix:"
   ]
  },
  {
   "cell_type": "code",
   "execution_count": 64,
   "metadata": {},
   "outputs": [
    {
     "data": {
      "text/plain": [
       "[[[1], 0, 1], [0, 1, 0], [1, 0, 1]]"
      ]
     },
     "execution_count": 64,
     "metadata": {},
     "output_type": "execute_result"
    }
   ],
   "source": [
    "matrix1"
   ]
  },
  {
   "cell_type": "code",
   "execution_count": 65,
   "metadata": {},
   "outputs": [
    {
     "name": "stdout",
     "output_type": "stream",
     "text": [
      "[1]\n",
      "1\n"
     ]
    }
   ],
   "source": [
    "print(matrix1[0][0])\n",
    "print(matrix1[0][0][0])\n"
   ]
  },
  {
   "cell_type": "markdown",
   "metadata": {},
   "source": [
    "### List & Matrix:"
   ]
  },
  {
   "cell_type": "markdown",
   "metadata": {},
   "source": [
    "##### My Findings:"
   ]
  },
  {
   "cell_type": "code",
   "execution_count": 66,
   "metadata": {},
   "outputs": [
    {
     "name": "stdout",
     "output_type": "stream",
     "text": [
      "['a', 'd', 'c']\n",
      "['a', 'd', 'c']\n",
      "[[1, 5, 1], [0, 1, 0], [1, 0, 1]]\n",
      "[[1, 4, 1], [0, 1, 0], [1, 0, 1]]\n"
     ]
    }
   ],
   "source": [
    "print(new_list)\n",
    "new_list[1]='d'\n",
    "print(new_list)\n",
    "\n",
    "print(matrix)\n",
    "matrix[0][1]=4\n",
    "print(matrix)"
   ]
  },
  {
   "cell_type": "code",
   "execution_count": 67,
   "metadata": {},
   "outputs": [
    {
     "name": "stdout",
     "output_type": "stream",
     "text": [
      "['a', 'b', 'c']\n",
      "['a', 'd', 'c']\n",
      "[[1, 0, 1], [0, 1, 0], [1, 0, 1]]\n",
      "[[1, 5, 1], [0, 1, 0], [1, 0, 1]]\n"
     ]
    }
   ],
   "source": [
    "new_list = ['a', 'b', 'c']\n",
    "print(new_list)\n",
    "new_list[1]='d'\n",
    "print(new_list)\n",
    "\n",
    "matrix=[[1,0,1],[0,1,0],[1,0,1]]\n",
    "print(matrix)\n",
    "matrix[0][1]=5  \n",
    "print(matrix)"
   ]
  },
  {
   "cell_type": "markdown",
   "metadata": {},
   "source": [
    "##### Exercise:"
   ]
  },
  {
   "cell_type": "code",
   "execution_count": 68,
   "metadata": {},
   "outputs": [
    {
     "name": "stdout",
     "output_type": "stream",
     "text": [
      "['Oranges']\n",
      "Oranges\n",
      "Banana\n"
     ]
    }
   ],
   "source": [
    "# using this list: \n",
    "basket = [\n",
    "          \"Banana\",\n",
    "          [\"Apples\", [\"Oranges\"], \"Blueberries\"]\n",
    "         ];\n",
    "# access \"Oranges\" and print it:\n",
    "print(basket[1][1])\n",
    "print(basket[1][1][0])\n",
    "\n",
    "\n",
    "print(basket[0])"
   ]
  },
  {
   "cell_type": "code",
   "execution_count": 69,
   "metadata": {},
   "outputs": [
    {
     "name": "stdout",
     "output_type": "stream",
     "text": [
      "[1]\n",
      "1\n",
      "['Oranges']\n",
      "Oranges\n"
     ]
    }
   ],
   "source": [
    "matrix1=[\n",
    "    [[1],0,1],\n",
    "    [0,1,0],\n",
    "    [1,0,1]\n",
    "       ]\n",
    "print(matrix1[0][0])\n",
    "print(matrix1[0][0][0])\n",
    "\n",
    "\n",
    "# using this list: \n",
    "basket = [\n",
    "          [\"Banana\",\"grapes\"],\n",
    "          [\"Apples\", [\"Oranges\"], \"Blueberries\"]\n",
    "         ]\n",
    "# access \"Oranges\" and print it:\n",
    "print(basket[1][1])\n",
    "print(basket[1][1][0])"
   ]
  },
  {
   "cell_type": "markdown",
   "metadata": {},
   "source": [
    "### Semicolons in Python:"
   ]
  },
  {
   "cell_type": "markdown",
   "metadata": {},
   "source": [
    "Semicolons have very little use in Python, and the use of them is not considered “Pythonic.” \n",
    "Nevertheless, they typically do not do anything, as one who has moved from a language such as C or Java may observe. ... \n",
    "The semicolon does have use in Python, however. It is used to separate commands on a single line.\n",
    "\n",
    "Python does let you use a semi-colon to denote the end of a statement if you are including more than one statement in a line.\n",
    "Semicolons can be used to one line two or more commands. \n",
    "They don't have to be used, but they aren't restricted.\n",
    "\n",
    "> Use a semi-colon to denote the end of a statement if you are including more than one statement in a line."
   ]
  },
  {
   "cell_type": "code",
   "execution_count": 1,
   "metadata": {},
   "outputs": [
    {
     "ename": "SyntaxError",
     "evalue": "invalid syntax (2974061559.py, line 4)",
     "output_type": "error",
     "traceback": [
      "\u001b[1;36m  Cell \u001b[1;32mIn[1], line 4\u001b[1;36m\u001b[0m\n\u001b[1;33m    ] print(basket[1][2])\u001b[0m\n\u001b[1;37m      ^\u001b[0m\n\u001b[1;31mSyntaxError\u001b[0m\u001b[1;31m:\u001b[0m invalid syntax\n"
     ]
    }
   ],
   "source": [
    "basket = [\n",
    "          [\"Banana\",\"grapes\"],\n",
    "          [\"Apples\", \"Oranges\", \"Blueberries\"]\n",
    "         ] print(basket[1][2])"
   ]
  },
  {
   "cell_type": "code",
   "execution_count": 20,
   "metadata": {},
   "outputs": [
    {
     "name": "stdout",
     "output_type": "stream",
     "text": [
      "Blueberries\n"
     ]
    }
   ],
   "source": [
    "basket = [\n",
    "          [\"Banana\",\"grapes\"],\n",
    "          [\"Apples\", \"Oranges\", \"Blueberries\"]\n",
    "         ]; print(basket[1][2])\n"
   ]
  },
  {
   "cell_type": "code",
   "execution_count": 19,
   "metadata": {},
   "outputs": [
    {
     "name": "stdout",
     "output_type": "stream",
     "text": [
      "Blueberries\n"
     ]
    }
   ],
   "source": [
    "basket = [\n",
    "          [\"Banana\",\"grapes\"],\n",
    "          [\"Apples\", \"Oranges\", \"Blueberries\"]\n",
    "         ]\n",
    "print(basket[1][2])\n"
   ]
  },
  {
   "cell_type": "markdown",
   "metadata": {},
   "source": [
    "### List Methods:"
   ]
  },
  {
   "cell_type": "markdown",
   "metadata": {},
   "source": [
    "https://www.w3schools.com/python/python_ref_list.asp"
   ]
  },
  {
   "cell_type": "code",
   "execution_count": 71,
   "metadata": {},
   "outputs": [
    {
     "name": "stdout",
     "output_type": "stream",
     "text": [
      "5\n"
     ]
    }
   ],
   "source": [
    "basket=[1,2,3,4,5]\n",
    "print(len(basket))"
   ]
  },
  {
   "cell_type": "markdown",
   "metadata": {},
   "source": [
    "> - `append` modifies the list inplace."
   ]
  },
  {
   "cell_type": "code",
   "execution_count": 72,
   "metadata": {},
   "outputs": [
    {
     "name": "stdout",
     "output_type": "stream",
     "text": [
      "[1, 2, 3, 4, 5, 100]\n",
      "None\n"
     ]
    }
   ],
   "source": [
    "basket=[1,2,3,4,5]\n",
    "new_list=basket.append(100)\n",
    "print(basket)\n",
    "print(new_list) #append modifies the list inplace. \n",
    "#i.e.,basket.append(100) only appends 100 to basket\n"
   ]
  },
  {
   "cell_type": "code",
   "execution_count": 3,
   "metadata": {},
   "outputs": [
    {
     "name": "stdout",
     "output_type": "stream",
     "text": [
      "None\n"
     ]
    }
   ],
   "source": [
    "basket=[1,2,3,4,5]\n",
    "print(basket.append(100))"
   ]
  },
  {
   "cell_type": "code",
   "execution_count": 4,
   "metadata": {},
   "outputs": [
    {
     "name": "stdout",
     "output_type": "stream",
     "text": [
      "[1, 2, 3, 4, 5, 100]\n"
     ]
    }
   ],
   "source": [
    "basket=[1,2,3,4,5]\n",
    "basket.append(100)\n",
    "print(basket)"
   ]
  },
  {
   "cell_type": "code",
   "execution_count": 73,
   "metadata": {},
   "outputs": [
    {
     "name": "stdout",
     "output_type": "stream",
     "text": [
      "[1, 2, 3, 4, 5, 100]\n"
     ]
    }
   ],
   "source": [
    "basket=[1,2,3,4,5]\n",
    "basket.append(100)\n",
    "new_list=basket\n",
    "print(new_list)"
   ]
  },
  {
   "cell_type": "code",
   "execution_count": 74,
   "metadata": {},
   "outputs": [
    {
     "name": "stdout",
     "output_type": "stream",
     "text": [
      "[10, 1, 2, 3, 4, 5]\n"
     ]
    }
   ],
   "source": [
    "basket=[1,2,3,4,5]\n",
    "basket.insert(0,10) #basket.insert(index,value)\n",
    "new_list=basket\n",
    "print(new_list)"
   ]
  },
  {
   "cell_type": "code",
   "execution_count": 75,
   "metadata": {},
   "outputs": [
    {
     "name": "stdout",
     "output_type": "stream",
     "text": [
      "[1, 2, 3, 4, 5, 100, 101]\n"
     ]
    }
   ],
   "source": [
    "basket=[1,2,3,4,5]\n",
    "basket.extend([100,101])\n",
    "new_list=basket\n",
    "print(new_list)"
   ]
  },
  {
   "cell_type": "markdown",
   "metadata": {},
   "source": [
    "> - pop(index): removes the element in the mentioned index\n",
    "> - pop(): removes the last element when index is not defined "
   ]
  },
  {
   "cell_type": "code",
   "execution_count": 76,
   "metadata": {},
   "outputs": [
    {
     "name": "stdout",
     "output_type": "stream",
     "text": [
      "[1, 2, 3, 4, 5, 100]\n"
     ]
    }
   ],
   "source": [
    "basket=[1,2,3,4,5]\n",
    "basket.extend([100,101])\n",
    "basket.pop() # removes the last element when index is not defined\n",
    "print(basket)"
   ]
  },
  {
   "cell_type": "code",
   "execution_count": 77,
   "metadata": {},
   "outputs": [
    {
     "name": "stdout",
     "output_type": "stream",
     "text": [
      "[1, 2, 3, 4, 5, 100, 101]\n",
      "[1, 2, 3, 4, 5, 100]\n",
      "[1, 2, 3, 4, 5]\n"
     ]
    }
   ],
   "source": [
    "basket=[1,2,3,4,5]\n",
    "basket.extend([100,101])\n",
    "print(basket)\n",
    "basket.pop()# removes the last element\n",
    "print(basket)\n",
    "basket.pop()# removes the last element\n",
    "print(basket)"
   ]
  },
  {
   "cell_type": "code",
   "execution_count": 78,
   "metadata": {},
   "outputs": [
    {
     "name": "stdout",
     "output_type": "stream",
     "text": [
      "[2, 3, 4, 5]\n"
     ]
    }
   ],
   "source": [
    "basket=[1,2,3,4,5]\n",
    "basket.pop(0)# removes the element in the mentioned index\n",
    "print(basket)"
   ]
  },
  {
   "cell_type": "code",
   "execution_count": 79,
   "metadata": {},
   "outputs": [
    {
     "name": "stdout",
     "output_type": "stream",
     "text": [
      "[1, 2, 3, 5]\n"
     ]
    }
   ],
   "source": [
    "basket=[1,2,3,4,5]\n",
    "basket.remove(4)# removes the value mentioned\n",
    "print(basket)"
   ]
  },
  {
   "cell_type": "markdown",
   "metadata": {},
   "source": [
    "#### Difference between pop() & remove():"
   ]
  },
  {
   "cell_type": "markdown",
   "metadata": {},
   "source": [
    " > - pop(index) --- removes the element in the mentioned index\n",
    " > - remove(element) --- removes the element"
   ]
  },
  {
   "cell_type": "code",
   "execution_count": 3,
   "metadata": {},
   "outputs": [
    {
     "name": "stdout",
     "output_type": "stream",
     "text": [
      "[1, 2, 4, 5]\n",
      "[1, 2, 3, 5]\n"
     ]
    }
   ],
   "source": [
    "basket=[1,2,3,4,5]\n",
    "basket.pop(2) #pop(index)\n",
    "print(basket)\n",
    "basket=[1,2,3,4,5]\n",
    "basket.remove(4) #remove(element)\n",
    "print(basket)"
   ]
  },
  {
   "cell_type": "code",
   "execution_count": 5,
   "metadata": {},
   "outputs": [
    {
     "name": "stdout",
     "output_type": "stream",
     "text": [
      "[]\n"
     ]
    }
   ],
   "source": [
    "basket=[1,2,3,4,5]\n",
    "basket.clear()\n",
    "print(basket)"
   ]
  },
  {
   "cell_type": "markdown",
   "metadata": {},
   "source": [
    "> `basket.append(), basket.insert(), basket.extend([]), basket.remove(),basket.clear()`: These methods doesn't return anything --- These methods does inplace modifications/changes\n",
    "\n",
    "> `basket.pop()`: This method returns the value that it removed from the list"
   ]
  },
  {
   "cell_type": "code",
   "execution_count": 22,
   "metadata": {},
   "outputs": [
    {
     "name": "stdout",
     "output_type": "stream",
     "text": [
      "None\n",
      "[1, 2, 3, 4, 5, 100]\n",
      "None\n",
      "[10, 1, 2, 3, 4, 5]\n",
      "None\n",
      "[1, 2, 3, 4, 5, 100, 101]\n",
      "1\n",
      "[2, 3, 4, 5]\n",
      "None\n",
      "[1, 2, 3, 5]\n",
      "None\n",
      "[]\n"
     ]
    }
   ],
   "source": [
    "basket=[1,2,3,4,5]\n",
    "new_list=basket.append(100)\n",
    "print(new_list)\n",
    "print(basket) # Inplace modification\n",
    "\n",
    "basket=[1,2,3,4,5]\n",
    "new_list=basket.insert(0,10)\n",
    "print(new_list)\n",
    "print(basket) # Inplace modification\n",
    "\n",
    "basket=[1,2,3,4,5]\n",
    "new_list=basket.extend([100,101])\n",
    "print(new_list)\n",
    "print(basket) # Inplace modification\n",
    "\n",
    "basket=[1,2,3,4,5]\n",
    "new_list=basket.pop(0)\n",
    "print(new_list)\n",
    "print(basket) # Inplace modification\n",
    "\n",
    "basket=[1,2,3,4,5]\n",
    "new_list=basket.remove(4)\n",
    "print(new_list)\n",
    "print(basket) # Inplace modification\n",
    "\n",
    "basket=[1,2,3,4,5]\n",
    "new_list=basket.clear()\n",
    "print(new_list)\n",
    "print(basket) # Inplace modification\n"
   ]
  },
  {
   "cell_type": "code",
   "execution_count": 7,
   "metadata": {},
   "outputs": [
    {
     "ename": "TypeError",
     "evalue": "list.extend() takes exactly one argument (2 given)",
     "output_type": "error",
     "traceback": [
      "\u001b[1;31m---------------------------------------------------------------------------\u001b[0m",
      "\u001b[1;31mTypeError\u001b[0m                                 Traceback (most recent call last)",
      "Cell \u001b[1;32mIn[7], line 2\u001b[0m\n\u001b[0;32m      1\u001b[0m basket\u001b[38;5;241m=\u001b[39m[\u001b[38;5;241m1\u001b[39m,\u001b[38;5;241m2\u001b[39m,\u001b[38;5;241m3\u001b[39m,\u001b[38;5;241m4\u001b[39m,\u001b[38;5;241m5\u001b[39m]\n\u001b[1;32m----> 2\u001b[0m new_list\u001b[38;5;241m=\u001b[39m\u001b[43mbasket\u001b[49m\u001b[38;5;241;43m.\u001b[39;49m\u001b[43mextend\u001b[49m\u001b[43m(\u001b[49m\u001b[38;5;241;43m100\u001b[39;49m\u001b[43m,\u001b[49m\u001b[38;5;241;43m101\u001b[39;49m\u001b[43m)\u001b[49m\n\u001b[0;32m      3\u001b[0m \u001b[38;5;28mprint\u001b[39m(new_list)\n",
      "\u001b[1;31mTypeError\u001b[0m: list.extend() takes exactly one argument (2 given)"
     ]
    }
   ],
   "source": [
    "basket=[1,2,3,4,5]\n",
    "new_list=basket.extend(100,101) # extend usually takes one iterable\n",
    "print(new_list)"
   ]
  },
  {
   "cell_type": "code",
   "execution_count": 1,
   "metadata": {},
   "outputs": [
    {
     "name": "stdout",
     "output_type": "stream",
     "text": [
      "[1, 2, 3, 4, 5, 100]\n",
      "[10, 1, 2, 3, 4, 5]\n",
      "[1, 2, 3, 4, 5, 100, 101]\n",
      "[1, 2, 3, 4, 5, 'hello']\n",
      "['hello', 1, 2, 3, 4, 5]\n",
      "[1, 2, 3, 4, 5, 'h', 'e', 'l', 'l', 'o']\n"
     ]
    }
   ],
   "source": [
    "basket=[1,2,3,4,5]\n",
    "basket.append(100)\n",
    "print(basket)\n",
    "     \n",
    "basket=[1,2,3,4,5]\n",
    "basket.insert(0,10)\n",
    "print(basket)\n",
    "\n",
    "basket=[1,2,3,4,5]\n",
    "basket.extend([100,101])\n",
    "print(basket)\n",
    "\n",
    "basket=[1,2,3,4,5]\n",
    "basket.append('hello')\n",
    "print(basket)\n",
    "\n",
    "basket=[1,2,3,4,5]\n",
    "basket.insert(0,'hello')\n",
    "print(basket)\n",
    "\n",
    "basket2=[1,2,3,4,5]\n",
    "basket2.extend('hello')\n",
    "print(basket2)"
   ]
  },
  {
   "cell_type": "markdown",
   "metadata": {},
   "source": [
    "#### Differencce between extend() and append():"
   ]
  },
  {
   "cell_type": "code",
   "execution_count": 16,
   "metadata": {},
   "outputs": [
    {
     "name": "stdout",
     "output_type": "stream",
     "text": [
      "[1, 2, 3, 4, 5, 100, 101]\n",
      "[1, 2, 3, 4, 5, 'h', 'e', 'l', 'l', 'o']\n"
     ]
    },
    {
     "ename": "TypeError",
     "evalue": "'int' object is not iterable",
     "output_type": "error",
     "traceback": [
      "\u001b[1;31m---------------------------------------------------------------------------\u001b[0m",
      "\u001b[1;31mTypeError\u001b[0m                                 Traceback (most recent call last)",
      "Cell \u001b[1;32mIn[16], line 10\u001b[0m\n\u001b[0;32m      7\u001b[0m \u001b[38;5;28mprint\u001b[39m(basket2)\n\u001b[0;32m      9\u001b[0m basket2\u001b[38;5;241m=\u001b[39m[\u001b[38;5;241m1\u001b[39m,\u001b[38;5;241m2\u001b[39m,\u001b[38;5;241m3\u001b[39m,\u001b[38;5;241m4\u001b[39m,\u001b[38;5;241m5\u001b[39m]\n\u001b[1;32m---> 10\u001b[0m \u001b[43mbasket2\u001b[49m\u001b[38;5;241;43m.\u001b[39;49m\u001b[43mextend\u001b[49m\u001b[43m(\u001b[49m\u001b[38;5;241;43m13\u001b[39;49m\u001b[43m)\u001b[49m\n\u001b[0;32m     11\u001b[0m \u001b[38;5;28mprint\u001b[39m(basket2)\n",
      "\u001b[1;31mTypeError\u001b[0m: 'int' object is not iterable"
     ]
    }
   ],
   "source": [
    "basket=[1,2,3,4,5]\n",
    "basket.extend([100,101])\n",
    "print(basket)\n",
    "\n",
    "basket2=[1,2,3,4,5]\n",
    "basket2.extend('hello')\n",
    "print(basket2)\n",
    "\n",
    "basket2=[1,2,3,4,5]\n",
    "basket2.extend(13)\n",
    "print(basket2)"
   ]
  },
  {
   "cell_type": "code",
   "execution_count": 15,
   "metadata": {},
   "outputs": [
    {
     "name": "stdout",
     "output_type": "stream",
     "text": [
      "[1, 2, 3, 4, 5, 'hello']\n",
      "[1, 2, 3, 4, 5, 100]\n",
      "[1, 2, 3, 4, 5, ['hello', 12]]\n"
     ]
    },
    {
     "ename": "TypeError",
     "evalue": "list.append() takes exactly one argument (2 given)",
     "output_type": "error",
     "traceback": [
      "\u001b[1;31m---------------------------------------------------------------------------\u001b[0m",
      "\u001b[1;31mTypeError\u001b[0m                                 Traceback (most recent call last)",
      "Cell \u001b[1;32mIn[15], line 15\u001b[0m\n\u001b[0;32m     11\u001b[0m \u001b[38;5;28mprint\u001b[39m(basket)\n\u001b[0;32m     14\u001b[0m basket\u001b[38;5;241m=\u001b[39m[\u001b[38;5;241m1\u001b[39m,\u001b[38;5;241m2\u001b[39m,\u001b[38;5;241m3\u001b[39m,\u001b[38;5;241m4\u001b[39m,\u001b[38;5;241m5\u001b[39m]\n\u001b[1;32m---> 15\u001b[0m \u001b[43mbasket\u001b[49m\u001b[38;5;241;43m.\u001b[39;49m\u001b[43mappend\u001b[49m\u001b[43m(\u001b[49m\u001b[38;5;241;43m100\u001b[39;49m\u001b[43m,\u001b[49m\u001b[38;5;241;43m1\u001b[39;49m\u001b[43m)\u001b[49m\n\u001b[0;32m     16\u001b[0m \u001b[38;5;28mprint\u001b[39m(basket)\n",
      "\u001b[1;31mTypeError\u001b[0m: list.append() takes exactly one argument (2 given)"
     ]
    }
   ],
   "source": [
    "basket=[1,2,3,4,5]\n",
    "basket.append('hello')\n",
    "print(basket)\n",
    "\n",
    "basket=[1,2,3,4,5]\n",
    "basket.append(100)\n",
    "print(basket)\n",
    "\n",
    "basket=[1,2,3,4,5]\n",
    "basket.append(['hello',12])\n",
    "print(basket)\n",
    "\n",
    "\n",
    "basket=[1,2,3,4,5]\n",
    "basket.append(100,1)\n",
    "print(basket)"
   ]
  },
  {
   "cell_type": "markdown",
   "metadata": {},
   "source": [
    "--------------------"
   ]
  },
  {
   "cell_type": "markdown",
   "metadata": {},
   "source": [
    "> `index(value,start,stop)` \n",
    " >- Here start and stop values are where to start and stop looking in the list.\n",
    " > - starts looking at start index value and stops at stop-1\n"
   ]
  },
  {
   "cell_type": "code",
   "execution_count": 4,
   "metadata": {},
   "outputs": [
    {
     "name": "stdout",
     "output_type": "stream",
     "text": [
      "2\n"
     ]
    }
   ],
   "source": [
    "basket=['a','b','c','d']\n",
    "print(basket.index('c')) "
   ]
  },
  {
   "cell_type": "code",
   "execution_count": 4,
   "metadata": {},
   "outputs": [
    {
     "ename": "ValueError",
     "evalue": "'c' is not in list",
     "output_type": "error",
     "traceback": [
      "\u001b[1;31m---------------------------------------------------------------------------\u001b[0m",
      "\u001b[1;31mValueError\u001b[0m                                Traceback (most recent call last)",
      "Cell \u001b[1;32mIn[4], line 2\u001b[0m\n\u001b[0;32m      1\u001b[0m basket\u001b[38;5;241m=\u001b[39m[\u001b[38;5;124m'\u001b[39m\u001b[38;5;124ma\u001b[39m\u001b[38;5;124m'\u001b[39m,\u001b[38;5;124m'\u001b[39m\u001b[38;5;124mb\u001b[39m\u001b[38;5;124m'\u001b[39m,\u001b[38;5;124m'\u001b[39m\u001b[38;5;124mc\u001b[39m\u001b[38;5;124m'\u001b[39m,\u001b[38;5;124m'\u001b[39m\u001b[38;5;124md\u001b[39m\u001b[38;5;124m'\u001b[39m]\n\u001b[1;32m----> 2\u001b[0m \u001b[38;5;28mprint\u001b[39m(\u001b[43mbasket\u001b[49m\u001b[38;5;241;43m.\u001b[39;49m\u001b[43mindex\u001b[49m\u001b[43m(\u001b[49m\u001b[38;5;124;43m'\u001b[39;49m\u001b[38;5;124;43mc\u001b[39;49m\u001b[38;5;124;43m'\u001b[39;49m\u001b[43m,\u001b[49m\u001b[38;5;241;43m0\u001b[39;49m\u001b[43m,\u001b[49m\u001b[38;5;241;43m1\u001b[39;49m\u001b[43m)\u001b[49m)\n",
      "\u001b[1;31mValueError\u001b[0m: 'c' is not in list"
     ]
    }
   ],
   "source": [
    "basket=['a','b','c','d']\n",
    "print(basket.index('c',0,1)) \n",
    "\n",
    "# Here the interpreter start looking at index 0 and stops looking at index=0 but c is present at index2 "
   ]
  },
  {
   "cell_type": "code",
   "execution_count": 5,
   "metadata": {},
   "outputs": [
    {
     "ename": "ValueError",
     "evalue": "'c' is not in list",
     "output_type": "error",
     "traceback": [
      "\u001b[1;31m---------------------------------------------------------------------------\u001b[0m",
      "\u001b[1;31mValueError\u001b[0m                                Traceback (most recent call last)",
      "Cell \u001b[1;32mIn[5], line 2\u001b[0m\n\u001b[0;32m      1\u001b[0m basket\u001b[38;5;241m=\u001b[39m[\u001b[38;5;124m'\u001b[39m\u001b[38;5;124ma\u001b[39m\u001b[38;5;124m'\u001b[39m,\u001b[38;5;124m'\u001b[39m\u001b[38;5;124mb\u001b[39m\u001b[38;5;124m'\u001b[39m,\u001b[38;5;124m'\u001b[39m\u001b[38;5;124mc\u001b[39m\u001b[38;5;124m'\u001b[39m,\u001b[38;5;124m'\u001b[39m\u001b[38;5;124md\u001b[39m\u001b[38;5;124m'\u001b[39m]\n\u001b[1;32m----> 2\u001b[0m \u001b[38;5;28mprint\u001b[39m(\u001b[43mbasket\u001b[49m\u001b[38;5;241;43m.\u001b[39;49m\u001b[43mindex\u001b[49m\u001b[43m(\u001b[49m\u001b[38;5;124;43m'\u001b[39;49m\u001b[38;5;124;43mc\u001b[39;49m\u001b[38;5;124;43m'\u001b[39;49m\u001b[43m,\u001b[49m\u001b[38;5;241;43m0\u001b[39;49m\u001b[43m,\u001b[49m\u001b[38;5;241;43m2\u001b[39;49m\u001b[43m)\u001b[49m)\n",
      "\u001b[1;31mValueError\u001b[0m: 'c' is not in list"
     ]
    }
   ],
   "source": [
    "basket=['a','b','c','d']\n",
    "print(basket.index('c',0,2)) \n",
    "#starts looking at start index value and stops at stop-1"
   ]
  },
  {
   "cell_type": "code",
   "execution_count": 15,
   "metadata": {},
   "outputs": [
    {
     "name": "stdout",
     "output_type": "stream",
     "text": [
      "2\n"
     ]
    }
   ],
   "source": [
    "basket=['a','b','c','d']\n",
    "print(basket.index('c', 0, 4))"
   ]
  },
  {
   "cell_type": "code",
   "execution_count": 16,
   "metadata": {},
   "outputs": [
    {
     "name": "stdout",
     "output_type": "stream",
     "text": [
      "True\n"
     ]
    }
   ],
   "source": [
    "basket=['a','b','c','d']\n",
    "print('d' in basket)"
   ]
  },
  {
   "cell_type": "code",
   "execution_count": 18,
   "metadata": {},
   "outputs": [
    {
     "name": "stdout",
     "output_type": "stream",
     "text": [
      "False\n"
     ]
    }
   ],
   "source": [
    "basket=['a','b','c','d']\n",
    "print ('x' in basket)"
   ]
  },
  {
   "cell_type": "code",
   "execution_count": 19,
   "metadata": {},
   "outputs": [
    {
     "name": "stdout",
     "output_type": "stream",
     "text": [
      "True\n"
     ]
    }
   ],
   "source": [
    "print('i' in 'thi sstory is purely based on imagination')"
   ]
  },
  {
   "cell_type": "code",
   "execution_count": 20,
   "metadata": {},
   "outputs": [
    {
     "name": "stdout",
     "output_type": "stream",
     "text": [
      "1\n"
     ]
    }
   ],
   "source": [
    "basket=['a','b','c','d']\n",
    "print (basket.count('d')) #count gives the number of times a value occurs"
   ]
  },
  {
   "cell_type": "code",
   "execution_count": 21,
   "metadata": {},
   "outputs": [
    {
     "name": "stdout",
     "output_type": "stream",
     "text": [
      "2\n"
     ]
    }
   ],
   "source": [
    "basket=['a','b','c','d','d']\n",
    "print (basket.count('d'))"
   ]
  },
  {
   "cell_type": "markdown",
   "metadata": {},
   "source": [
    "##### Exercise:"
   ]
  },
  {
   "cell_type": "code",
   "execution_count": 35,
   "metadata": {},
   "outputs": [
    {
     "name": "stdout",
     "output_type": "stream",
     "text": [
      "['Apples', 'Oranges', 'Blueberries']\n",
      "['Apples', 'Oranges']\n",
      "['Apples', 'Oranges', 'Kiwi']\n",
      "['Apples', 'Apples', 'Oranges', 'Kiwi']\n",
      "2\n"
     ]
    }
   ],
   "source": [
    "# using this list, \n",
    "basket = [\"Banana\", \"Apples\", \"Oranges\", \"Blueberries\"];\n",
    "\n",
    "# 1. Remove the Banana from the list\n",
    "\n",
    "# 2. Remove \"Blueberries\" from the list.\n",
    "\n",
    "# 3. Put \"Kiwi\" at the end of the list.\n",
    "\n",
    "# 4. Add \"Apples\" at the beginning of the list\n",
    "\n",
    "# 5. Count how many apples in the basket\n",
    "\n",
    "# 6. empty the basket\n",
    "\n",
    "basket = [\"Banana\", \"Apples\", \"Oranges\", \"Blueberries\"];\n",
    "basket.remove('Banana')\n",
    "print(basket)\n",
    "basket.pop()\n",
    "print(basket)\n",
    "basket.append(\"Kiwi\")\n",
    "print(basket)\n",
    "basket.insert(0,\"Apples\")\n",
    "print(basket)\n",
    "print(basket.count(\"Apples\"))\n",
    "basket.clear()"
   ]
  },
  {
   "cell_type": "code",
   "execution_count": 33,
   "metadata": {},
   "outputs": [
    {
     "name": "stdout",
     "output_type": "stream",
     "text": [
      "[]\n"
     ]
    }
   ],
   "source": [
    "print(basket)"
   ]
  },
  {
   "cell_type": "markdown",
   "metadata": {},
   "source": [
    "#### Difference between sort() and sorted():"
   ]
  },
  {
   "cell_type": "markdown",
   "metadata": {},
   "source": [
    "https://www.w3schools.com/python/ref_list_sort.asp\n",
    "\n",
    "https://www.w3schools.com/python/ref_func_sorted.asp"
   ]
  },
  {
   "cell_type": "markdown",
   "metadata": {},
   "source": [
    "> - `sort()` --- sorts the list Inplace.\n",
    "> - `sorted()` --- this creates a new copy of list and sorts. sorted(list) --- gives a new sorted list.\n",
    "\n",
    ">> - `ls.sort(reverse=True)` ---  descending order\n",
    ">> - `ls.sort(reverse=False)` --- by default `reverse=False` --- ascending order"
   ]
  },
  {
   "cell_type": "code",
   "execution_count": 17,
   "metadata": {},
   "outputs": [
    {
     "name": "stdout",
     "output_type": "stream",
     "text": [
      "None\n",
      "[1, 3, 3, 4, 5, 5, 7, 7, 8, 9, 12]\n"
     ]
    }
   ],
   "source": [
    "basket=[8,5,7,12,3,9,7,1,3,5,4]\n",
    "basket.sort()\n",
    "print(basket.sort()) #sorts the list - Inplace modification\n",
    "print(basket)"
   ]
  },
  {
   "cell_type": "code",
   "execution_count": 37,
   "metadata": {},
   "outputs": [
    {
     "name": "stdout",
     "output_type": "stream",
     "text": [
      "[1, 3, 3, 4, 5, 5, 7, 7, 8, 9, 12]\n",
      "[8, 5, 7, 12, 3, 9, 7, 1, 3, 5, 4]\n"
     ]
    }
   ],
   "source": [
    "basket=[8,5,7,12,3,9,7,1,3,5,4]\n",
    "\n",
    "print(sorted(basket)) # this creates a new copy of basket and sorts\n",
    "\n",
    "print(basket)"
   ]
  },
  {
   "cell_type": "code",
   "execution_count": 39,
   "metadata": {},
   "outputs": [
    {
     "name": "stdout",
     "output_type": "stream",
     "text": [
      "[1, 3, 3, 4, 5, 5, 7, 7, 8, 9, 12]\n",
      "[8, 5, 7, 12, 3, 9, 7, 1, 3, 5, 4]\n"
     ]
    }
   ],
   "source": [
    "# sorted builtin function equals to:\n",
    "basket=[8,5,7,12,3,9,7,1,3,5,4]\n",
    "\n",
    "new_basket=basket[:]\n",
    "new_basket.sort()\n",
    "print(new_basket)\n",
    "\n",
    "print(basket)"
   ]
  },
  {
   "cell_type": "code",
   "execution_count": 40,
   "metadata": {},
   "outputs": [
    {
     "name": "stdout",
     "output_type": "stream",
     "text": [
      "[1, 3, 3, 4, 5, 5, 7, 7, 8, 9, 12]\n",
      "[8, 5, 7, 12, 3, 9, 7, 1, 3, 5, 4]\n"
     ]
    }
   ],
   "source": [
    "# sorted builtin function equals to:\n",
    "basket=[8,5,7,12,3,9,7,1,3,5,4]\n",
    "\n",
    "new_basket=basket.copy() #copies the list and returns the new list\n",
    "new_basket.sort()\n",
    "print(new_basket)\n",
    "\n",
    "print(basket)"
   ]
  },
  {
   "cell_type": "code",
   "execution_count": 5,
   "metadata": {},
   "outputs": [
    {
     "name": "stdout",
     "output_type": "stream",
     "text": [
      "[1, 3, 3, 4, 5, 5, 7, 7, 8, 9, 12]\n"
     ]
    }
   ],
   "source": [
    "ls = [8,5,7,12,3,9,7,1,3,5,4]\n",
    "ls.sort()\n",
    "print(ls)"
   ]
  },
  {
   "cell_type": "code",
   "execution_count": 4,
   "metadata": {},
   "outputs": [
    {
     "name": "stdout",
     "output_type": "stream",
     "text": [
      "[12, 9, 8, 7, 7, 5, 5, 4, 3, 3, 1]\n"
     ]
    }
   ],
   "source": [
    "ls = [8,5,7,12,3,9,7,1,3,5,4]\n",
    "ls.sort(reverse=True) # descending order\n",
    "print(ls)"
   ]
  },
  {
   "cell_type": "code",
   "execution_count": 11,
   "metadata": {},
   "outputs": [
    {
     "name": "stdout",
     "output_type": "stream",
     "text": [
      "['a', 'b', 'c', 'd', 'e', 'f', 'g', 'h']\n"
     ]
    }
   ],
   "source": [
    "a = (\"h\", \"b\", \"a\", \"c\", \"f\", \"d\", \"e\", \"g\")\n",
    "x = sorted(a) #by default reverse=False # ascending order\n",
    "print(x)"
   ]
  },
  {
   "cell_type": "code",
   "execution_count": 9,
   "metadata": {},
   "outputs": [
    {
     "name": "stdout",
     "output_type": "stream",
     "text": [
      "['h', 'g', 'f', 'e', 'd', 'c', 'b', 'a']\n"
     ]
    }
   ],
   "source": [
    "a = (\"h\", \"b\", \"a\", \"c\", \"f\", \"d\", \"e\", \"g\")\n",
    "x = sorted(a, reverse=True)\n",
    "print(x)"
   ]
  },
  {
   "cell_type": "code",
   "execution_count": 12,
   "metadata": {},
   "outputs": [
    {
     "name": "stdout",
     "output_type": "stream",
     "text": [
      "['a', 'b', 'c', 'd', 'e', 'f', 'g', 'h']\n"
     ]
    }
   ],
   "source": [
    "a = (\"h\", \"b\", \"a\", \"c\", \"f\", \"d\", \"e\", \"g\")\n",
    "x = sorted(a, reverse=False)\n",
    "print(x)"
   ]
  },
  {
   "cell_type": "markdown",
   "metadata": {},
   "source": [
    "---------------------"
   ]
  },
  {
   "cell_type": "code",
   "execution_count": 41,
   "metadata": {},
   "outputs": [
    {
     "name": "stdout",
     "output_type": "stream",
     "text": [
      "[4, 5, 3, 1, 7, 9, 3, 12, 7, 5, 8]\n"
     ]
    }
   ],
   "source": [
    "basket=[8,5,7,12,3,9,7,1,3,5,4]\n",
    "basket.reverse() #reverses the list\n",
    "print(basket)"
   ]
  },
  {
   "cell_type": "code",
   "execution_count": 43,
   "metadata": {},
   "outputs": [
    {
     "name": "stdout",
     "output_type": "stream",
     "text": [
      "[1, 3, 3, 4, 5, 5, 7, 7, 8, 9, 12]\n",
      "[12, 9, 8, 7, 7, 5, 5, 4, 3, 3, 1]\n"
     ]
    }
   ],
   "source": [
    "basket=[8,5,7,12,3,9,7,1,3,5,4]\n",
    "basket.sort()\n",
    "print(basket)\n",
    "basket.reverse() #reverses the list - Inplace\n",
    "print(basket)"
   ]
  },
  {
   "cell_type": "code",
   "execution_count": 44,
   "metadata": {},
   "outputs": [
    {
     "name": "stdout",
     "output_type": "stream",
     "text": [
      "11\n"
     ]
    }
   ],
   "source": [
    "basket=[8,5,7,12,3,9,7,1,3,5,4]\n",
    "print(len(basket))"
   ]
  },
  {
   "cell_type": "code",
   "execution_count": 50,
   "metadata": {},
   "outputs": [
    {
     "name": "stdout",
     "output_type": "stream",
     "text": [
      "[4, 5, 3, 1, 7, 9, 3, 12, 7, 5, 8]\n",
      "[8, 5, 7, 12, 3, 9, 7, 1, 3, 5, 4]\n"
     ]
    }
   ],
   "source": [
    "basket=[8,5,7,12,3,9,7,1,3,5,4]\n",
    "print(basket[::-1]) #reverse and creates a new list\n",
    "print(basket)"
   ]
  },
  {
   "cell_type": "markdown",
   "metadata": {},
   "source": [
    "#### Difference between reverse() and reversed():"
   ]
  },
  {
   "cell_type": "markdown",
   "metadata": {},
   "source": [
    "> - `list.reverse()` --- reverses the list inplace\n",
    ">  - `reversed(list)` --- gives an reverse iterator object "
   ]
  },
  {
   "cell_type": "code",
   "execution_count": 1,
   "metadata": {},
   "outputs": [
    {
     "name": "stdout",
     "output_type": "stream",
     "text": [
      "None\n",
      "[4, 5, 3, 1, 7, 9, 3, 12, 7, 5, 8]\n"
     ]
    }
   ],
   "source": [
    "basket=[8,5,7,12,3,9,7,1,3,5,4]\n",
    "print(basket.reverse()) #reverses the list inplace\n",
    "print(basket)"
   ]
  },
  {
   "cell_type": "markdown",
   "metadata": {},
   "source": [
    "https://www.w3schools.com/python/ref_func_reversed.asp"
   ]
  },
  {
   "cell_type": "code",
   "execution_count": 9,
   "metadata": {},
   "outputs": [
    {
     "name": "stdout",
     "output_type": "stream",
     "text": [
      "<list_reverseiterator object at 0x000001DDC2CE1DE0>\n",
      "[4, 5, 3, 1, 7, 9, 3, 12, 7, 5, 8]\n"
     ]
    }
   ],
   "source": [
    "basket=[8,5,7,12,3,9,7,1,3,5,4]\n",
    "print(reversed(basket)) # gives an reverse iterator object \n",
    "lst=[]\n",
    "for i in reversed(basket):\n",
    "    lst.append(i)\n",
    "print(lst)"
   ]
  },
  {
   "cell_type": "markdown",
   "metadata": {},
   "source": [
    "##### Exercise:"
   ]
  },
  {
   "cell_type": "code",
   "execution_count": 23,
   "metadata": {},
   "outputs": [
    {
     "ename": "TypeError",
     "evalue": "unsupported operand type(s) for +: 'NoneType' and 'list'",
     "output_type": "error",
     "traceback": [
      "\u001b[1;31m---------------------------------------------------------------------------\u001b[0m",
      "\u001b[1;31mTypeError\u001b[0m                                 Traceback (most recent call last)",
      "Cell \u001b[1;32mIn[23], line 6\u001b[0m\n\u001b[0;32m      2\u001b[0m friends \u001b[38;5;241m=\u001b[39m [\u001b[38;5;124m'\u001b[39m\u001b[38;5;124mSimon\u001b[39m\u001b[38;5;124m'\u001b[39m, \u001b[38;5;124m'\u001b[39m\u001b[38;5;124mPatty\u001b[39m\u001b[38;5;124m'\u001b[39m, \u001b[38;5;124m'\u001b[39m\u001b[38;5;124mJoy\u001b[39m\u001b[38;5;124m'\u001b[39m, \u001b[38;5;124m'\u001b[39m\u001b[38;5;124mCarrie\u001b[39m\u001b[38;5;124m'\u001b[39m, \u001b[38;5;124m'\u001b[39m\u001b[38;5;124mAmira\u001b[39m\u001b[38;5;124m'\u001b[39m, \u001b[38;5;124m'\u001b[39m\u001b[38;5;124mChu\u001b[39m\u001b[38;5;124m'\u001b[39m]\n\u001b[0;32m      4\u001b[0m new_friend \u001b[38;5;241m=\u001b[39m [\u001b[38;5;124m'\u001b[39m\u001b[38;5;124mStanley\u001b[39m\u001b[38;5;124m'\u001b[39m]\n\u001b[1;32m----> 6\u001b[0m \u001b[38;5;28mprint\u001b[39m(\u001b[43mfriends\u001b[49m\u001b[38;5;241;43m.\u001b[39;49m\u001b[43msort\u001b[49m\u001b[43m(\u001b[49m\u001b[43m)\u001b[49m\u001b[43m \u001b[49m\u001b[38;5;241;43m+\u001b[39;49m\u001b[43m \u001b[49m\u001b[43mnew_friend\u001b[49m)\n",
      "\u001b[1;31mTypeError\u001b[0m: unsupported operand type(s) for +: 'NoneType' and 'list'"
     ]
    }
   ],
   "source": [
    "#fix this code so that it prints a sorted list of all of our friends (alphabetical).\n",
    "friends = ['Simon', 'Patty', 'Joy', 'Carrie', 'Amira', 'Chu']\n",
    "\n",
    "new_friend = ['Stanley']\n",
    "\n",
    "print(friends.sort() + new_friend)"
   ]
  },
  {
   "cell_type": "markdown",
   "metadata": {},
   "source": [
    "`print(friends.sort() + new_friend)`\n",
    "> gives error because `friends.sort()` returns None as `.sort()` does inplace modification"
   ]
  },
  {
   "cell_type": "code",
   "execution_count": 58,
   "metadata": {},
   "outputs": [
    {
     "name": "stdout",
     "output_type": "stream",
     "text": [
      "['Simon', 'Patty', 'Joy', 'Carrie', 'Amira', 'Chu', 'Stanley']\n",
      "['Amira', 'Carrie', 'Chu', 'Joy', 'Patty', 'Simon', 'Stanley']\n"
     ]
    }
   ],
   "source": [
    "friends = ['Simon', 'Patty', 'Joy', 'Carrie', 'Amira', 'Chu']\n",
    "new_friend = ['Stanley']\n",
    "friends.extend(new_friend)\n",
    "print(friends)\n",
    "friends.sort()\n",
    "print(friends)"
   ]
  },
  {
   "cell_type": "markdown",
   "metadata": {},
   "source": [
    "### Range():"
   ]
  },
  {
   "cell_type": "code",
   "execution_count": 17,
   "metadata": {},
   "outputs": [
    {
     "name": "stdout",
     "output_type": "stream",
     "text": [
      "range(1, 100)\n",
      "[1, 2, 3, 4, 5, 6, 7, 8, 9, 10, 11, 12, 13, 14, 15, 16, 17, 18, 19, 20, 21, 22, 23, 24, 25, 26, 27, 28, 29, 30, 31, 32, 33, 34, 35, 36, 37, 38, 39, 40, 41, 42, 43, 44, 45, 46, 47, 48, 49, 50, 51, 52, 53, 54, 55, 56, 57, 58, 59, 60, 61, 62, 63, 64, 65, 66, 67, 68, 69, 70, 71, 72, 73, 74, 75, 76, 77, 78, 79, 80, 81, 82, 83, 84, 85, 86, 87, 88, 89, 90, 91, 92, 93, 94, 95, 96, 97, 98, 99]\n",
      "[0, 1, 2, 3, 4, 5, 6, 7, 8, 9, 10, 11, 12, 13, 14, 15, 16, 17, 18, 19, 20, 21, 22, 23, 24, 25, 26, 27, 28, 29, 30, 31, 32, 33, 34, 35, 36, 37, 38, 39, 40, 41, 42, 43, 44, 45, 46, 47, 48, 49, 50, 51, 52, 53, 54, 55, 56, 57, 58, 59, 60, 61, 62, 63, 64, 65, 66, 67, 68, 69, 70, 71, 72, 73, 74, 75, 76, 77, 78, 79, 80, 81, 82, 83, 84, 85, 86, 87, 88, 89, 90, 91, 92, 93, 94, 95, 96, 97, 98, 99]\n"
     ]
    }
   ],
   "source": [
    "print(range(1,100)) #range(start value, stop value, step)\n",
    "print(list(range(1,100))) #prints a list with start, stop-1 values\n",
    "print(list(range(100)))"
   ]
  },
  {
   "cell_type": "markdown",
   "metadata": {},
   "source": [
    "### join():"
   ]
  },
  {
   "cell_type": "code",
   "execution_count": 25,
   "metadata": {},
   "outputs": [
    {
     "ename": "TypeError",
     "evalue": "str.join() takes exactly one argument (4 given)",
     "output_type": "error",
     "traceback": [
      "\u001b[1;31m---------------------------------------------------------------------------\u001b[0m",
      "\u001b[1;31mTypeError\u001b[0m                                 Traceback (most recent call last)",
      "Cell \u001b[1;32mIn[25], line 3\u001b[0m\n\u001b[0;32m      1\u001b[0m \u001b[38;5;66;03m#join()\u001b[39;00m\n\u001b[0;32m      2\u001b[0m symbol\u001b[38;5;241m=\u001b[39m\u001b[38;5;124m'\u001b[39m\u001b[38;5;124m!\u001b[39m\u001b[38;5;124m'\u001b[39m\n\u001b[1;32m----> 3\u001b[0m new_sentence\u001b[38;5;241m=\u001b[39m\u001b[43msymbol\u001b[49m\u001b[38;5;241;43m.\u001b[39;49m\u001b[43mjoin\u001b[49m\u001b[43m(\u001b[49m\u001b[38;5;124;43m'\u001b[39;49m\u001b[38;5;124;43mhi\u001b[39;49m\u001b[38;5;124;43m'\u001b[39;49m\u001b[43m,\u001b[49m\u001b[38;5;124;43m'\u001b[39;49m\u001b[38;5;124;43mthis\u001b[39;49m\u001b[38;5;124;43m'\u001b[39;49m\u001b[43m,\u001b[49m\u001b[38;5;124;43m'\u001b[39;49m\u001b[38;5;124;43mis\u001b[39;49m\u001b[38;5;124;43m'\u001b[39;49m\u001b[43m,\u001b[49m\u001b[38;5;124;43m'\u001b[39;49m\u001b[38;5;124;43mpratice\u001b[39;49m\u001b[38;5;124;43m'\u001b[39;49m\u001b[43m)\u001b[49m\n\u001b[0;32m      4\u001b[0m \u001b[38;5;28mprint\u001b[39m(new_sentence)\n",
      "\u001b[1;31mTypeError\u001b[0m: str.join() takes exactly one argument (4 given)"
     ]
    }
   ],
   "source": [
    "#join()\n",
    "symbol='!'\n",
    "new_sentence=symbol.join('hi','this','is','pratice')\n",
    "print(new_sentence)"
   ]
  },
  {
   "cell_type": "code",
   "execution_count": 26,
   "metadata": {},
   "outputs": [
    {
     "name": "stdout",
     "output_type": "stream",
     "text": [
      "hi!this!is!practice\n"
     ]
    }
   ],
   "source": [
    "#join()\n",
    "symbol='!'\n",
    "sent = symbol.join(['hi','this','is','practice'])\n",
    "print(sent)"
   ]
  },
  {
   "cell_type": "code",
   "execution_count": 24,
   "metadata": {},
   "outputs": [
    {
     "name": "stdout",
     "output_type": "stream",
     "text": [
      "hi!this!is!pratice\n",
      "hithisispratice\n",
      "hi this is pratice\n",
      "hithisispratice\n",
      "hi this is pratice\n"
     ]
    }
   ],
   "source": [
    "symbol='!'\n",
    "new_sentence=symbol.join(['hi','this','is','pratice'])\n",
    "#joins the entire list with the given symbol\n",
    "print(new_sentence)\n",
    "\n",
    "symbol=''\n",
    "new_sentence=symbol.join(['hi','this','is','pratice'])\n",
    "#joins the entire list with the given symbol\n",
    "print(new_sentence)\n",
    "\n",
    "symbol=' '\n",
    "new_sentence=symbol.join(['hi','this','is','pratice']) \n",
    "#joins the entire list with the given symbol\n",
    "print(new_sentence)\n",
    "\n",
    "\n",
    "sentence=''.join(['hi','this','is','pratice'])\n",
    "print(sentence)\n",
    "\n",
    "sentence=' '.join(['hi','this','is','pratice'])\n",
    "print(sentence)"
   ]
  },
  {
   "cell_type": "code",
   "execution_count": 7,
   "metadata": {},
   "outputs": [
    {
     "name": "stdout",
     "output_type": "stream",
     "text": [
      "hey#there#hello\n",
      "heyOSthereOShello\n",
      "hey there hello\n"
     ]
    }
   ],
   "source": [
    "x='#'\n",
    "print(x.join(['hey','there','hello']))\n",
    "print('OS'.join(['hey','there','hello']))\n",
    "print(' '.join(['hey','there','hello']))"
   ]
  },
  {
   "cell_type": "markdown",
   "metadata": {},
   "source": [
    "### List Unpacking:"
   ]
  },
  {
   "cell_type": "code",
   "execution_count": 6,
   "metadata": {},
   "outputs": [
    {
     "name": "stdout",
     "output_type": "stream",
     "text": [
      "[1, 2, 3]\n",
      "1\n"
     ]
    }
   ],
   "source": [
    "list=[1,2,3]\n",
    "print(list)\n",
    "print(list[0])"
   ]
  },
  {
   "cell_type": "code",
   "execution_count": 4,
   "metadata": {},
   "outputs": [
    {
     "name": "stdout",
     "output_type": "stream",
     "text": [
      "1 2 3\n",
      "1\n",
      "2\n",
      "3\n"
     ]
    }
   ],
   "source": [
    "a,b,c=[1,2,3] #assigning each value in a list to each variable\n",
    "print(a,b,c)\n",
    "print(a)\n",
    "print(b)\n",
    "print(c)"
   ]
  },
  {
   "cell_type": "code",
   "execution_count": 5,
   "metadata": {},
   "outputs": [
    {
     "name": "stdout",
     "output_type": "stream",
     "text": [
      "1\n",
      "2\n",
      "3\n",
      "[4, 5, 6, 7, 8, 9]\n"
     ]
    }
   ],
   "source": [
    "#list unpacking\n",
    "a,b,c, *others=[1,2,3,4,5,6,7,8,9] #assigning each value in a list to each variable\n",
    "print(a)\n",
    "print(b)\n",
    "print(c)\n",
    "print(others)"
   ]
  },
  {
   "cell_type": "code",
   "execution_count": 6,
   "metadata": {},
   "outputs": [
    {
     "name": "stdout",
     "output_type": "stream",
     "text": [
      "1\n",
      "2\n",
      "3\n",
      "[4, 5, 6, 7, 8]\n",
      "9\n"
     ]
    }
   ],
   "source": [
    "a,b,c,*others,d=[1,2,3,4,5,6,7,8,9] #assigning each value in a list to each variable\n",
    "print(a)\n",
    "print(b)\n",
    "print(c)\n",
    "print(others)\n",
    "print(d)"
   ]
  },
  {
   "cell_type": "code",
   "execution_count": 27,
   "metadata": {},
   "outputs": [
    {
     "ename": "SyntaxError",
     "evalue": "starred assignment target must be in a list or tuple (<ipython-input-27-75bf5b27c5e0>, line 4)",
     "output_type": "error",
     "traceback": [
      "\u001b[1;36m  File \u001b[1;32m\"<ipython-input-27-75bf5b27c5e0>\"\u001b[1;36m, line \u001b[1;32m4\u001b[0m\n\u001b[1;31mSyntaxError\u001b[0m\u001b[1;31m:\u001b[0m starred assignment target must be in a list or tuple\n"
     ]
    }
   ],
   "source": [
    "*hello=[1,2,3,4,5,6,7,8,9]\n",
    "print(hello)"
   ]
  },
  {
   "cell_type": "code",
   "execution_count": 62,
   "metadata": {},
   "outputs": [
    {
     "name": "stdout",
     "output_type": "stream",
     "text": [
      "1 2 3 4 5 6 7 8 9\n"
     ]
    }
   ],
   "source": [
    "hello=[1,2,3,4,5,6,7,8,9]\n",
    "print(*hello)"
   ]
  },
  {
   "cell_type": "code",
   "execution_count": 63,
   "metadata": {},
   "outputs": [
    {
     "ename": "TypeError",
     "evalue": "print() argument after * must be an iterable, not int",
     "output_type": "error",
     "traceback": [
      "\u001b[1;31m---------------------------------------------------------------------------\u001b[0m",
      "\u001b[1;31mTypeError\u001b[0m                                 Traceback (most recent call last)",
      "\u001b[1;32m<ipython-input-63-3a16418c240a>\u001b[0m in \u001b[0;36m<module>\u001b[1;34m\u001b[0m\n\u001b[0;32m      1\u001b[0m \u001b[0mhello\u001b[0m\u001b[1;33m=\u001b[0m\u001b[1;33m[\u001b[0m\u001b[1;36m1\u001b[0m\u001b[1;33m,\u001b[0m\u001b[1;36m2\u001b[0m\u001b[1;33m,\u001b[0m\u001b[1;36m3\u001b[0m\u001b[1;33m,\u001b[0m\u001b[1;36m4\u001b[0m\u001b[1;33m,\u001b[0m\u001b[1;36m5\u001b[0m\u001b[1;33m,\u001b[0m\u001b[1;36m6\u001b[0m\u001b[1;33m,\u001b[0m\u001b[1;36m7\u001b[0m\u001b[1;33m,\u001b[0m\u001b[1;36m8\u001b[0m\u001b[1;33m,\u001b[0m\u001b[1;36m9\u001b[0m\u001b[1;33m]\u001b[0m\u001b[1;33m\u001b[0m\u001b[1;33m\u001b[0m\u001b[0m\n\u001b[1;32m----> 2\u001b[1;33m \u001b[0mprint\u001b[0m\u001b[1;33m(\u001b[0m\u001b[1;33m*\u001b[0m\u001b[0mhello\u001b[0m\u001b[1;33m[\u001b[0m\u001b[1;36m2\u001b[0m\u001b[1;33m]\u001b[0m\u001b[1;33m)\u001b[0m\u001b[1;33m\u001b[0m\u001b[1;33m\u001b[0m\u001b[0m\n\u001b[0m",
      "\u001b[1;31mTypeError\u001b[0m: print() argument after * must be an iterable, not int"
     ]
    }
   ],
   "source": [
    "hello=[1,2,3,4,5,6,7,8,9]\n",
    "print(*hello[2])"
   ]
  },
  {
   "cell_type": "code",
   "execution_count": 8,
   "metadata": {},
   "outputs": [
    {
     "name": "stdout",
     "output_type": "stream",
     "text": [
      "3\n"
     ]
    }
   ],
   "source": [
    "hello=[1,2,3,4,5,6,7,8,9]\n",
    "print([*hello][2]) #accesing an elemnt after unpacking the list completely."
   ]
  },
  {
   "cell_type": "markdown",
   "metadata": {},
   "source": [
    "### Important Finding:"
   ]
  },
  {
   "cell_type": "code",
   "execution_count": 16,
   "metadata": {},
   "outputs": [
    {
     "ename": "SyntaxError",
     "evalue": "starred assignment target must be in a list or tuple (1538771205.py, line 1)",
     "output_type": "error",
     "traceback": [
      "\u001b[1;36m  Cell \u001b[1;32mIn[16], line 1\u001b[1;36m\u001b[0m\n\u001b[1;33m    *hello=[1,2,3,4,5,6,7,8,9]\u001b[0m\n\u001b[1;37m    ^\u001b[0m\n\u001b[1;31mSyntaxError\u001b[0m\u001b[1;31m:\u001b[0m starred assignment target must be in a list or tuple\n"
     ]
    }
   ],
   "source": [
    "*hello=[1,2,3,4,5,6,7,8,9]\n",
    "print(hello)"
   ]
  },
  {
   "cell_type": "code",
   "execution_count": 13,
   "metadata": {},
   "outputs": [
    {
     "name": "stdout",
     "output_type": "stream",
     "text": [
      "1 2 3 4 5 6 7 8 9\n"
     ]
    }
   ],
   "source": [
    "hello=[1,2,3,4,5,6,7,8,9]\n",
    "print(*hello)"
   ]
  },
  {
   "cell_type": "code",
   "execution_count": 14,
   "metadata": {},
   "outputs": [
    {
     "ename": "TypeError",
     "evalue": "print() argument after * must be an iterable, not int",
     "output_type": "error",
     "traceback": [
      "\u001b[1;31m---------------------------------------------------------------------------\u001b[0m",
      "\u001b[1;31mTypeError\u001b[0m                                 Traceback (most recent call last)",
      "Cell \u001b[1;32mIn[14], line 2\u001b[0m\n\u001b[0;32m      1\u001b[0m hello\u001b[38;5;241m=\u001b[39m[\u001b[38;5;241m1\u001b[39m,\u001b[38;5;241m2\u001b[39m,\u001b[38;5;241m3\u001b[39m,\u001b[38;5;241m4\u001b[39m,\u001b[38;5;241m5\u001b[39m,\u001b[38;5;241m6\u001b[39m,\u001b[38;5;241m7\u001b[39m,\u001b[38;5;241m8\u001b[39m,\u001b[38;5;241m9\u001b[39m]\n\u001b[1;32m----> 2\u001b[0m \u001b[38;5;28;43mprint\u001b[39;49m\u001b[43m(\u001b[49m\u001b[38;5;241;43m*\u001b[39;49m\u001b[43mhello\u001b[49m\u001b[43m[\u001b[49m\u001b[38;5;241;43m2\u001b[39;49m\u001b[43m]\u001b[49m\u001b[43m)\u001b[49m\n",
      "\u001b[1;31mTypeError\u001b[0m: print() argument after * must be an iterable, not int"
     ]
    }
   ],
   "source": [
    "hello=[1,2,3,4,5,6,7,8,9]\n",
    "print(*hello[2])"
   ]
  },
  {
   "cell_type": "code",
   "execution_count": 15,
   "metadata": {},
   "outputs": [
    {
     "name": "stdout",
     "output_type": "stream",
     "text": [
      "3\n"
     ]
    }
   ],
   "source": [
    "hello=[1,2,3,4,5,6,7,8,9]\n",
    "print([*hello][2])"
   ]
  },
  {
   "cell_type": "code",
   "execution_count": 9,
   "metadata": {},
   "outputs": [
    {
     "name": "stdout",
     "output_type": "stream",
     "text": [
      "[1, 2, 3, 4]\n",
      "[1, 2, 3, 4]\n",
      "1 2 3 4\n"
     ]
    }
   ],
   "source": [
    "[*others] = [1,2,3,4]\n",
    "print(others)\n",
    "\n",
    "*others1, = [1,2,3,4]\n",
    "print(others1)\n",
    "\n",
    "others2= [1,2,3,4]\n",
    "print(*others2)"
   ]
  },
  {
   "cell_type": "code",
   "execution_count": 67,
   "metadata": {},
   "outputs": [
    {
     "name": "stdout",
     "output_type": "stream",
     "text": [
      "1 2 3 4 5 6 7 8 9\n",
      "3\n",
      "9\n"
     ]
    }
   ],
   "source": [
    "hello=[1,2,3,4,5,6,7,8,9]\n",
    "print(*hello)#unpacking the list completely.\n",
    "print([*hello][2])  #accesing an elemnt after unpacking the list completely.\n",
    "print([*hello][8])"
   ]
  },
  {
   "cell_type": "code",
   "execution_count": 41,
   "metadata": {},
   "outputs": [
    {
     "data": {
      "text/plain": [
       "{'one': 3, 'two': 2, 'three': 1}"
      ]
     },
     "execution_count": 41,
     "metadata": {},
     "output_type": "execute_result"
    }
   ],
   "source": [
    "lst=['one','one','two','three','one','two']\n",
    "{x:lst.count(x) for x in lst}"
   ]
  },
  {
   "cell_type": "markdown",
   "metadata": {},
   "source": [
    "### None:"
   ]
  },
  {
   "cell_type": "code",
   "execution_count": 5,
   "metadata": {},
   "outputs": [
    {
     "name": "stdout",
     "output_type": "stream",
     "text": [
      "None\n"
     ]
    }
   ],
   "source": [
    "weapons= None\n",
    "print(weapons)"
   ]
  },
  {
   "cell_type": "markdown",
   "metadata": {},
   "source": [
    "### Dictionary:"
   ]
  },
  {
   "cell_type": "code",
   "execution_count": 18,
   "metadata": {},
   "outputs": [],
   "source": [
    "dict= {\n",
    "    'a':1,\n",
    "    'b':2\n",
    "          }                                   \n",
    "# Dictionary is unordered key:value pair...:\n",
    "#unordered means that they are not right next to each other in memory "
   ]
  },
  {
   "cell_type": "code",
   "execution_count": 19,
   "metadata": {},
   "outputs": [
    {
     "name": "stdout",
     "output_type": "stream",
     "text": [
      "2\n"
     ]
    }
   ],
   "source": [
    "print(dict['b'])                     \n",
    "#A key is a string for us to grab the value what we need."
   ]
  },
  {
   "cell_type": "code",
   "execution_count": 11,
   "metadata": {},
   "outputs": [
    {
     "ename": "KeyError",
     "evalue": "'c'",
     "output_type": "error",
     "traceback": [
      "\u001b[1;31m---------------------------------------------------------------------------\u001b[0m",
      "\u001b[1;31mKeyError\u001b[0m                                  Traceback (most recent call last)",
      "\u001b[1;32m<ipython-input-11-c69c8779aef8>\u001b[0m in \u001b[0;36m<module>\u001b[1;34m\u001b[0m\n\u001b[1;32m----> 1\u001b[1;33m \u001b[0mprint\u001b[0m\u001b[1;33m(\u001b[0m\u001b[0mdict\u001b[0m\u001b[1;33m[\u001b[0m\u001b[1;34m'c'\u001b[0m\u001b[1;33m]\u001b[0m\u001b[1;33m)\u001b[0m\u001b[1;33m\u001b[0m\u001b[1;33m\u001b[0m\u001b[0m\n\u001b[0m",
      "\u001b[1;31mKeyError\u001b[0m: 'c'"
     ]
    }
   ],
   "source": [
    "print(dict['c'])    "
   ]
  },
  {
   "cell_type": "code",
   "execution_count": 12,
   "metadata": {},
   "outputs": [
    {
     "name": "stdout",
     "output_type": "stream",
     "text": [
      "{'a': 1, 'b': 2}\n"
     ]
    }
   ],
   "source": [
    "print(dict)"
   ]
  },
  {
   "cell_type": "markdown",
   "metadata": {},
   "source": [
    "I actually return the entire dictionary maybe I don't have this in order these are all just scattered all across our memory as you see here \n",
    "when I receive the dictionary I get these things in order but that's only because it's small if I had a really really large dictionary I might not have them in order\n",
    "that I've inserted a so a dictionary is an unordered key value pair and as long as we know the key that is whatever the key that we're looking for then we just give that and our computer is going to know \n",
    "hey where in memory to look to grab the values.\n",
    "\n",
    ">`dictionary is an unordered data structure but list is ordered, we can acess the values in the list by their index as thay are stored in the memory in an order.`"
   ]
  },
  {
   "cell_type": "code",
   "execution_count": 20,
   "metadata": {},
   "outputs": [],
   "source": [
    "dict= {\n",
    "    'a':[1,2,3],\n",
    "    'b':\"Hello\",\n",
    "    'c':True\n",
    "          }        # dictionary having list, string and boolean values"
   ]
  },
  {
   "cell_type": "code",
   "execution_count": 15,
   "metadata": {},
   "outputs": [
    {
     "name": "stdout",
     "output_type": "stream",
     "text": [
      "{'a': [1, 2, 3], 'b': 'Hello', 'c': True}\n"
     ]
    }
   ],
   "source": [
    "print(dict)"
   ]
  },
  {
   "cell_type": "code",
   "execution_count": 16,
   "metadata": {},
   "outputs": [
    {
     "name": "stdout",
     "output_type": "stream",
     "text": [
      "[1, 2, 3]\n"
     ]
    }
   ],
   "source": [
    "print(dict['a'])"
   ]
  },
  {
   "cell_type": "code",
   "execution_count": 17,
   "metadata": {},
   "outputs": [
    {
     "name": "stdout",
     "output_type": "stream",
     "text": [
      "1\n"
     ]
    }
   ],
   "source": [
    "print(dict['a'][0])"
   ]
  },
  {
   "cell_type": "code",
   "execution_count": 23,
   "metadata": {},
   "outputs": [],
   "source": [
    "my_list= [\n",
    "    {\n",
    "    'a':[1,2,3],\n",
    "    'b':\"Hello\",\n",
    "    'c':True\n",
    "    }, \n",
    "     {\n",
    "    'a':[4,5,6],\n",
    "    'b':\"Hi\",\n",
    "    'c':False\n",
    "    }, \n",
    "    \n",
    "            ]   # list containing dictinary"
   ]
  },
  {
   "cell_type": "code",
   "execution_count": 24,
   "metadata": {},
   "outputs": [
    {
     "name": "stdout",
     "output_type": "stream",
     "text": [
      "{'a': [1, 2, 3], 'b': 'Hello', 'c': True}\n"
     ]
    }
   ],
   "source": [
    "print(my_list[0])"
   ]
  },
  {
   "cell_type": "markdown",
   "metadata": {},
   "source": [
    "#### IMP:"
   ]
  },
  {
   "cell_type": "markdown",
   "metadata": {},
   "source": [
    "`when list contains dict, we needs to access the elements using the key`"
   ]
  },
  {
   "cell_type": "code",
   "execution_count": 25,
   "metadata": {},
   "outputs": [
    {
     "name": "stdout",
     "output_type": "stream",
     "text": [
      "[1, 2, 3]\n"
     ]
    }
   ],
   "source": [
    "print(my_list[0]['a'])"
   ]
  },
  {
   "cell_type": "code",
   "execution_count": 26,
   "metadata": {},
   "outputs": [
    {
     "name": "stdout",
     "output_type": "stream",
     "text": [
      "3\n"
     ]
    }
   ],
   "source": [
    "print(my_list[0]['a'][2])"
   ]
  },
  {
   "cell_type": "markdown",
   "metadata": {},
   "source": [
    "### Dictionary Keys"
   ]
  },
  {
   "cell_type": "code",
   "execution_count": 19,
   "metadata": {},
   "outputs": [],
   "source": [
    "dictionary= {\n",
    "    123:[1,2,3],            #dictionary can have strings and int as keys\n",
    "    'b':\"Hello\",\n",
    "    'c':True\n",
    "          } "
   ]
  },
  {
   "cell_type": "code",
   "execution_count": 20,
   "metadata": {},
   "outputs": [
    {
     "name": "stdout",
     "output_type": "stream",
     "text": [
      "[1, 2, 3]\n"
     ]
    }
   ],
   "source": [
    "print(dictionary[123])"
   ]
  },
  {
   "cell_type": "code",
   "execution_count": 21,
   "metadata": {},
   "outputs": [],
   "source": [
    "dictionary= {\n",
    "    123:[1,2,3],\n",
    "    True:\"Hello\",             #dictionary can have boolean  as keys\n",
    "    'c':True\n",
    "          } "
   ]
  },
  {
   "cell_type": "code",
   "execution_count": 22,
   "metadata": {},
   "outputs": [
    {
     "name": "stdout",
     "output_type": "stream",
     "text": [
      "Hello\n"
     ]
    }
   ],
   "source": [
    "print(dictionary[True])"
   ]
  },
  {
   "cell_type": "code",
   "execution_count": 23,
   "metadata": {},
   "outputs": [
    {
     "ename": "TypeError",
     "evalue": "unhashable type: 'list'",
     "output_type": "error",
     "traceback": [
      "\u001b[1;31m---------------------------------------------------------------------------\u001b[0m",
      "\u001b[1;31mTypeError\u001b[0m                                 Traceback (most recent call last)",
      "\u001b[1;32m<ipython-input-23-31aa0e1a4f33>\u001b[0m in \u001b[0;36m<module>\u001b[1;34m\u001b[0m\n\u001b[0;32m      2\u001b[0m     \u001b[1;36m123\u001b[0m\u001b[1;33m:\u001b[0m\u001b[1;33m[\u001b[0m\u001b[1;36m1\u001b[0m\u001b[1;33m,\u001b[0m\u001b[1;36m2\u001b[0m\u001b[1;33m,\u001b[0m\u001b[1;36m3\u001b[0m\u001b[1;33m]\u001b[0m\u001b[1;33m,\u001b[0m\u001b[1;33m\u001b[0m\u001b[1;33m\u001b[0m\u001b[0m\n\u001b[0;32m      3\u001b[0m     \u001b[1;32mTrue\u001b[0m\u001b[1;33m:\u001b[0m\u001b[1;34m\"Hello\"\u001b[0m\u001b[1;33m,\u001b[0m             \u001b[1;31m#dictionary can't have list  as keys\u001b[0m\u001b[1;33m\u001b[0m\u001b[1;33m\u001b[0m\u001b[0m\n\u001b[1;32m----> 4\u001b[1;33m     \u001b[1;33m[\u001b[0m\u001b[1;36m100\u001b[0m\u001b[1;33m]\u001b[0m\u001b[1;33m:\u001b[0m\u001b[1;32mTrue\u001b[0m\u001b[1;33m\u001b[0m\u001b[1;33m\u001b[0m\u001b[0m\n\u001b[0m\u001b[0;32m      5\u001b[0m           } \n",
      "\u001b[1;31mTypeError\u001b[0m: unhashable type: 'list'"
     ]
    }
   ],
   "source": [
    "dictionarydictionary= {\n",
    "    123:[1,2,3],\n",
    "    True:\"Hello\",             # dictionary can't have list  as keys\n",
    "    [100]:True\n",
    "          } "
   ]
  },
  {
   "cell_type": "markdown",
   "metadata": {},
   "source": [
    "#### Note:\n",
    "dictionary can't have list  as keys"
   ]
  },
  {
   "cell_type": "markdown",
   "metadata": {},
   "source": [
    "`Dictionary key needs to be immutable (not changable)`\n",
    "\n",
    "Dictionary can have strings, numbers, booleans as keys but dictionary can't have list  as keys. \n",
    "Mostly dictionary will have strings as keys\n",
    "\n",
    ">`key in dictionary need to be unique....if we use the same key then the value will be overwritten.`"
   ]
  },
  {
   "cell_type": "code",
   "execution_count": 1,
   "metadata": {},
   "outputs": [],
   "source": [
    "dictionary= {\n",
    "    123:[1,2,3],\n",
    "    123:\"Hello\",          \n",
    "    #key in dictionary need to be unique.... \n",
    "    #if we use the same key then the value will be overwritten.\n",
    "    'c':True\n",
    "          }"
   ]
  },
  {
   "cell_type": "code",
   "execution_count": 2,
   "metadata": {},
   "outputs": [
    {
     "name": "stdout",
     "output_type": "stream",
     "text": [
      "Hello\n"
     ]
    }
   ],
   "source": [
    "print(dictionary[123])"
   ]
  },
  {
   "cell_type": "markdown",
   "metadata": {},
   "source": [
    "#### Other ways of defining dictionary:"
   ]
  },
  {
   "cell_type": "code",
   "execution_count": 1,
   "metadata": {},
   "outputs": [
    {
     "name": "stdout",
     "output_type": "stream",
     "text": [
      "{'name': 'developer', 'age': 25}\n"
     ]
    }
   ],
   "source": [
    "user= dict(name='developer', age=25) \n",
    "#dict() is a built-in function which  will create an empty dictionary\n",
    "print(user)"
   ]
  },
  {
   "cell_type": "code",
   "execution_count": 2,
   "metadata": {},
   "outputs": [
    {
     "name": "stdout",
     "output_type": "stream",
     "text": [
      "{'greet': 'hello', 'name': 'developer'}\n"
     ]
    }
   ],
   "source": [
    "user=dict()\n",
    "user['greet']='hello'; user['name']='developer'\n",
    "print(user)"
   ]
  },
  {
   "cell_type": "markdown",
   "metadata": {},
   "source": [
    "### Dictionary Methods:"
   ]
  },
  {
   "cell_type": "markdown",
   "metadata": {},
   "source": [
    "https://www.w3schools.com/python/python_ref_dictionary.asp"
   ]
  },
  {
   "cell_type": "code",
   "execution_count": 3,
   "metadata": {},
   "outputs": [],
   "source": [
    "dictionary= {\n",
    "    'basket':[1,2,3],\n",
    "    'greet':\"Hello\",            \n",
    "    'c':True\n",
    "          }"
   ]
  },
  {
   "cell_type": "code",
   "execution_count": 4,
   "metadata": {},
   "outputs": [
    {
     "name": "stdout",
     "output_type": "stream",
     "text": [
      "[1, 2, 3]\n"
     ]
    }
   ],
   "source": [
    "print(dictionary['basket'])"
   ]
  },
  {
   "cell_type": "code",
   "execution_count": 5,
   "metadata": {},
   "outputs": [
    {
     "name": "stdout",
     "output_type": "stream",
     "text": [
      "{'basket': [1, 2, 3], 'greet': 'Hello', 'c': True}\n"
     ]
    }
   ],
   "source": [
    "print(dictionary.copy())"
   ]
  },
  {
   "cell_type": "code",
   "execution_count": 6,
   "metadata": {},
   "outputs": [
    {
     "ename": "TypeError",
     "evalue": "'type' object is not subscriptable",
     "output_type": "error",
     "traceback": [
      "\u001b[1;31m---------------------------------------------------------------------------\u001b[0m",
      "\u001b[1;31mTypeError\u001b[0m                                 Traceback (most recent call last)",
      "\u001b[1;32m<ipython-input-6-df37446b5b13>\u001b[0m in \u001b[0;36m<module>\u001b[1;34m\u001b[0m\n\u001b[1;32m----> 1\u001b[1;33m \u001b[0mprint\u001b[0m\u001b[1;33m(\u001b[0m\u001b[0mdict\u001b[0m\u001b[1;33m[\u001b[0m\u001b[1;34m'age'\u001b[0m\u001b[1;33m]\u001b[0m\u001b[1;33m)\u001b[0m\u001b[1;33m\u001b[0m\u001b[1;33m\u001b[0m\u001b[0m\n\u001b[0m",
      "\u001b[1;31mTypeError\u001b[0m: 'type' object is not subscriptable"
     ]
    }
   ],
   "source": [
    "print(dict['age'])"
   ]
  },
  {
   "cell_type": "code",
   "execution_count": 30,
   "metadata": {},
   "outputs": [
    {
     "name": "stdout",
     "output_type": "stream",
     "text": [
      "None\n"
     ]
    }
   ],
   "source": [
    "print(dictionary.get('age'))\n",
    "\n",
    "#get is a method on the object or the dictionary in Python."
   ]
  },
  {
   "cell_type": "markdown",
   "metadata": {},
   "source": [
    ">If let's say there's no age (key) in the user but you want to have a default value.\n",
    " you add a comma and then here you say whatever you want as the default value "
   ]
  },
  {
   "cell_type": "code",
   "execution_count": 7,
   "metadata": {},
   "outputs": [
    {
     "name": "stdout",
     "output_type": "stream",
     "text": [
      "55\n"
     ]
    }
   ],
   "source": [
    "print(dictionary.get('age', 55))"
   ]
  },
  {
   "cell_type": "code",
   "execution_count": 8,
   "metadata": {},
   "outputs": [
    {
     "name": "stdout",
     "output_type": "stream",
     "text": [
      "{'basket': [1, 2, 3], 'greet': 'Hello', 'c': True}\n"
     ]
    }
   ],
   "source": [
    "print(dictionary)"
   ]
  },
  {
   "cell_type": "markdown",
   "metadata": {},
   "source": [
    "----------"
   ]
  },
  {
   "cell_type": "code",
   "execution_count": 9,
   "metadata": {},
   "outputs": [],
   "source": [
    "dictionary= {\n",
    "    'basket':[1,2,3],\n",
    "    'greet':\"Hello\",            \n",
    "    'c':True\n",
    "          }"
   ]
  },
  {
   "cell_type": "code",
   "execution_count": 10,
   "metadata": {},
   "outputs": [
    {
     "name": "stdout",
     "output_type": "stream",
     "text": [
      "None\n"
     ]
    }
   ],
   "source": [
    "print(dictionary.get('age'))"
   ]
  },
  {
   "cell_type": "code",
   "execution_count": 13,
   "metadata": {},
   "outputs": [
    {
     "name": "stdout",
     "output_type": "stream",
     "text": [
      "55\n"
     ]
    }
   ],
   "source": [
    "print(dictionary.get('age', 55))"
   ]
  },
  {
   "cell_type": "code",
   "execution_count": 12,
   "metadata": {},
   "outputs": [
    {
     "name": "stdout",
     "output_type": "stream",
     "text": [
      "None\n"
     ]
    }
   ],
   "source": [
    "print(dictionary.get('age'))"
   ]
  },
  {
   "cell_type": "code",
   "execution_count": 14,
   "metadata": {},
   "outputs": [
    {
     "data": {
      "text/plain": [
       "{'basket': [1, 2, 3], 'greet': 'Hello', 'c': True}"
      ]
     },
     "execution_count": 14,
     "metadata": {},
     "output_type": "execute_result"
    }
   ],
   "source": [
    "dictionary"
   ]
  },
  {
   "cell_type": "markdown",
   "metadata": {},
   "source": [
    "--------"
   ]
  },
  {
   "cell_type": "code",
   "execution_count": 9,
   "metadata": {},
   "outputs": [],
   "source": [
    "dictionary= {\n",
    "    'basket':[1,2,3],\n",
    "    'greet':\"Hello\",            \n",
    "    'age':20\n",
    "          }"
   ]
  },
  {
   "cell_type": "code",
   "execution_count": 10,
   "metadata": {},
   "outputs": [
    {
     "name": "stdout",
     "output_type": "stream",
     "text": [
      "20\n"
     ]
    }
   ],
   "source": [
    "print(dictionary.get('age', 55)) \n",
    "# here age is mentioned in the dict it doesnt take the default value.."
   ]
  },
  {
   "cell_type": "code",
   "execution_count": 3,
   "metadata": {},
   "outputs": [],
   "source": [
    "dictionary= {\n",
    "    'basket':[1,2,3],\n",
    "    'greet':\"Hello\",            \n",
    "    'age':20\n",
    "          }"
   ]
  },
  {
   "cell_type": "code",
   "execution_count": 6,
   "metadata": {},
   "outputs": [
    {
     "name": "stdout",
     "output_type": "stream",
     "text": [
      "True\n",
      "False\n"
     ]
    }
   ],
   "source": [
    "print('basket' in dictionary)\n",
    "print('size' in dictionary)"
   ]
  },
  {
   "cell_type": "code",
   "execution_count": 7,
   "metadata": {},
   "outputs": [
    {
     "name": "stdout",
     "output_type": "stream",
     "text": [
      "True\n"
     ]
    }
   ],
   "source": [
    "print('basket' in dictionary.keys())"
   ]
  },
  {
   "cell_type": "code",
   "execution_count": 8,
   "metadata": {},
   "outputs": [
    {
     "name": "stdout",
     "output_type": "stream",
     "text": [
      "True\n"
     ]
    }
   ],
   "source": [
    "print('Hello' in dictionary.values())"
   ]
  },
  {
   "cell_type": "code",
   "execution_count": 10,
   "metadata": {},
   "outputs": [
    {
     "name": "stdout",
     "output_type": "stream",
     "text": [
      "dict_items([('basket', [1, 2, 3]), ('greet', 'Hello'), ('age', 20)])\n"
     ]
    }
   ],
   "source": [
    "print(dictionary.items()) #Returns a list containing a tuple for each key value pair"
   ]
  },
  {
   "cell_type": "code",
   "execution_count": 11,
   "metadata": {},
   "outputs": [],
   "source": [
    "dictionary= {\n",
    "    'basket':[1,2,3],\n",
    "    'greet':\"Hello\",            \n",
    "    'age':20\n",
    "          }"
   ]
  },
  {
   "cell_type": "code",
   "execution_count": 12,
   "metadata": {},
   "outputs": [],
   "source": [
    "dictionary.clear()"
   ]
  },
  {
   "cell_type": "code",
   "execution_count": 13,
   "metadata": {},
   "outputs": [
    {
     "name": "stdout",
     "output_type": "stream",
     "text": [
      "{}\n"
     ]
    }
   ],
   "source": [
    "print(dictionary)"
   ]
  },
  {
   "cell_type": "code",
   "execution_count": 17,
   "metadata": {},
   "outputs": [
    {
     "name": "stdout",
     "output_type": "stream",
     "text": [
      "{'basket': [1, 2, 3], 'greet': 'Hello', 'age': 20}\n",
      "{'basket': [1, 2, 3], 'greet': 'Hello', 'age': 20}\n"
     ]
    }
   ],
   "source": [
    "dictionary= {\n",
    "    'basket':[1,2,3],\n",
    "    'greet':\"Hello\",            \n",
    "    'age':20\n",
    "          }\n",
    "dictionary2=dictionary.copy()\n",
    "print(dictionary)\n",
    "print(dictionary2)"
   ]
  },
  {
   "cell_type": "markdown",
   "metadata": {},
   "source": [
    "-----------------"
   ]
  },
  {
   "cell_type": "markdown",
   "metadata": {},
   "source": [
    "#### IMP:"
   ]
  },
  {
   "cell_type": "code",
   "execution_count": 19,
   "metadata": {},
   "outputs": [
    {
     "name": "stdout",
     "output_type": "stream",
     "text": [
      "{}\n",
      "{'basket': [1, 2, 3], 'greet': 'Hello', 'age': 20}\n"
     ]
    }
   ],
   "source": [
    "dictionary= {\n",
    "    'basket':[1,2,3],\n",
    "    'greet':\"Hello\",            \n",
    "    'age':20\n",
    "          }\n",
    "dictionary2=dictionary.copy()\n",
    "dictionary.clear()\n",
    "print(dictionary)\n",
    "print(dictionary2)"
   ]
  },
  {
   "cell_type": "markdown",
   "metadata": {},
   "source": [
    "----------------"
   ]
  },
  {
   "cell_type": "code",
   "execution_count": 20,
   "metadata": {},
   "outputs": [
    {
     "data": {
      "text/plain": [
       "20"
      ]
     },
     "execution_count": 20,
     "metadata": {},
     "output_type": "execute_result"
    }
   ],
   "source": [
    "dd= {\n",
    "    'basket':[1,2,3],\n",
    "    'greet':\"Hello\",            \n",
    "    'age':20\n",
    "          }\n",
    "\n",
    "dd['age']"
   ]
  },
  {
   "cell_type": "code",
   "execution_count": 21,
   "metadata": {},
   "outputs": [
    {
     "data": {
      "text/plain": [
       "20"
      ]
     },
     "execution_count": 21,
     "metadata": {},
     "output_type": "execute_result"
    }
   ],
   "source": [
    "dd= {\n",
    "    'basket':[1,2,3],\n",
    "    'greet':\"Hello\",            \n",
    "    'age':20\n",
    "          }\n",
    "\n",
    "dd.get('age')"
   ]
  },
  {
   "cell_type": "code",
   "execution_count": 22,
   "metadata": {},
   "outputs": [
    {
     "name": "stdout",
     "output_type": "stream",
     "text": [
      "{'key1': 0, 'key2': 0, 'key3': 0}\n"
     ]
    }
   ],
   "source": [
    "x = ('key1', 'key2', 'key3')\n",
    "y = 0\n",
    "\n",
    "thisdict = dict.fromkeys(x, y)\n",
    "\n",
    "print(thisdict)"
   ]
  },
  {
   "cell_type": "code",
   "execution_count": 23,
   "metadata": {},
   "outputs": [
    {
     "name": "stdout",
     "output_type": "stream",
     "text": [
      "{'key1': (0, 2, 3), 'key2': (0, 2, 3), 'key3': (0, 2, 3)}\n"
     ]
    }
   ],
   "source": [
    "x = ('key1', 'key2', 'key3')\n",
    "y = 0,2,3\n",
    "\n",
    "thisdict = dict.fromkeys(x, y)\n",
    "\n",
    "print(thisdict)"
   ]
  },
  {
   "cell_type": "markdown",
   "metadata": {},
   "source": [
    " > - pop(key): removes the value present in the key and returns that value"
   ]
  },
  {
   "cell_type": "code",
   "execution_count": 4,
   "metadata": {},
   "outputs": [
    {
     "name": "stdout",
     "output_type": "stream",
     "text": [
      "20\n"
     ]
    }
   ],
   "source": [
    "user= {\n",
    "    'basket':[1,2,3],\n",
    "    'greet':\"Hello\",            \n",
    "    'age':20\n",
    "          }\n",
    "\n",
    "print(user.pop('age')) "
   ]
  },
  {
   "cell_type": "code",
   "execution_count": 5,
   "metadata": {},
   "outputs": [
    {
     "name": "stdout",
     "output_type": "stream",
     "text": [
      "{'basket': [1, 2, 3], 'greet': 'Hello'}\n"
     ]
    }
   ],
   "source": [
    "print(user)"
   ]
  },
  {
   "cell_type": "markdown",
   "metadata": {},
   "source": [
    "> - popitem(): removes the last key:value pair and returns that pair"
   ]
  },
  {
   "cell_type": "code",
   "execution_count": 6,
   "metadata": {},
   "outputs": [
    {
     "name": "stdout",
     "output_type": "stream",
     "text": [
      "('greet', 'Hello')\n",
      "{'basket': [1, 2, 3]}\n"
     ]
    }
   ],
   "source": [
    "print(user.popitem())\n",
    "print(user)"
   ]
  },
  {
   "cell_type": "markdown",
   "metadata": {},
   "source": [
    "`update(): ` \n",
    "\n",
    "* value gets updated if key is present in the dictionary\n",
    "* value gets added if key is is not present in the dictionary"
   ]
  },
  {
   "cell_type": "code",
   "execution_count": 7,
   "metadata": {},
   "outputs": [
    {
     "name": "stdout",
     "output_type": "stream",
     "text": [
      "None\n",
      "{'basket': [1, 2, 3], 'greet': 'Hello', 'age': 55}\n"
     ]
    }
   ],
   "source": [
    "user= {\n",
    "    'basket':[1,2,3],\n",
    "    'greet':\"Hello\",            \n",
    "    'age':20\n",
    "          }\n",
    "print(user.update({'age':55})) \n",
    "\n",
    "\n",
    "#check the syntax properly\n",
    "#age values gets updated if age is present in the dictionary\n",
    "\n",
    "\n",
    "print(user)"
   ]
  },
  {
   "cell_type": "code",
   "execution_count": 31,
   "metadata": {},
   "outputs": [
    {
     "name": "stdout",
     "output_type": "stream",
     "text": [
      "None\n",
      "{'basket': [1, 2, 3], 'greet': 'Hello', 'age': 20, 'ages': 55}\n"
     ]
    }
   ],
   "source": [
    "dictionary= {\n",
    "    'basket':[1,2,3],\n",
    "    'greet':\"Hello\",            \n",
    "    'age':20\n",
    "          }\n",
    "print(dictionary.update({'ages':55})) \n",
    "#ages values gets added as it is is not present in the dictionary\n",
    "print(dictionary)"
   ]
  },
  {
   "cell_type": "code",
   "execution_count": 34,
   "metadata": {},
   "outputs": [],
   "source": [
    "dictionary= {\n",
    "    'basket':[1,2,3],\n",
    "    'greet':\"Hello\",             \n",
    "    'c':True\n",
    "          }"
   ]
  },
  {
   "cell_type": "code",
   "execution_count": 38,
   "metadata": {},
   "outputs": [
    {
     "ename": "KeyError",
     "evalue": "'age'",
     "output_type": "error",
     "traceback": [
      "\u001b[1;31m---------------------------------------------------------------------------\u001b[0m",
      "\u001b[1;31mKeyError\u001b[0m                                  Traceback (most recent call last)",
      "\u001b[1;32m<ipython-input-38-16413cf84b7a>\u001b[0m in \u001b[0;36m<module>\u001b[1;34m\u001b[0m\n\u001b[1;32m----> 1\u001b[1;33m \u001b[0mprint\u001b[0m\u001b[1;33m(\u001b[0m\u001b[0mdictionary\u001b[0m\u001b[1;33m[\u001b[0m\u001b[1;34m'age'\u001b[0m\u001b[1;33m]\u001b[0m\u001b[1;33m)\u001b[0m\u001b[1;33m\u001b[0m\u001b[1;33m\u001b[0m\u001b[0m\n\u001b[0m",
      "\u001b[1;31mKeyError\u001b[0m: 'age'"
     ]
    }
   ],
   "source": [
    "print(dictionary['age'])"
   ]
  },
  {
   "cell_type": "markdown",
   "metadata": {},
   "source": [
    "`setdefault():`\n",
    "\n",
    "* value gets added if the key is is not present in the dictionary\n",
    "* nothing happens, if the key is already present in the dictionary"
   ]
  },
  {
   "cell_type": "code",
   "execution_count": 15,
   "metadata": {},
   "outputs": [
    {
     "data": {
      "text/plain": [
       "{'basket': [1, 2, 3], 'greet': 'Hello', 'c': True}"
      ]
     },
     "execution_count": 15,
     "metadata": {},
     "output_type": "execute_result"
    }
   ],
   "source": [
    "d= {\n",
    "    'basket':[1,2,3],\n",
    "    'greet':\"Hello\",             \n",
    "    'c':True\n",
    "          }\n",
    "d"
   ]
  },
  {
   "cell_type": "code",
   "execution_count": 10,
   "metadata": {},
   "outputs": [
    {
     "ename": "KeyError",
     "evalue": "'age'",
     "output_type": "error",
     "traceback": [
      "\u001b[1;31m---------------------------------------------------------------------------\u001b[0m",
      "\u001b[1;31mKeyError\u001b[0m                                  Traceback (most recent call last)",
      "Cell \u001b[1;32mIn[10], line 1\u001b[0m\n\u001b[1;32m----> 1\u001b[0m \u001b[43md\u001b[49m\u001b[43m[\u001b[49m\u001b[38;5;124;43m'\u001b[39;49m\u001b[38;5;124;43mage\u001b[39;49m\u001b[38;5;124;43m'\u001b[39;49m\u001b[43m]\u001b[49m\n",
      "\u001b[1;31mKeyError\u001b[0m: 'age'"
     ]
    }
   ],
   "source": [
    "d['age']"
   ]
  },
  {
   "cell_type": "code",
   "execution_count": 11,
   "metadata": {},
   "outputs": [
    {
     "name": "stdout",
     "output_type": "stream",
     "text": [
      "65\n",
      "{'basket': [1, 2, 3], 'greet': 'Hello', 'c': True, 'age': 65}\n"
     ]
    }
   ],
   "source": [
    "d.setdefault('age',65) #age value gets added as it is is not present in the dictionary\n",
    "print(d['age'])\n",
    "print(d)"
   ]
  },
  {
   "cell_type": "code",
   "execution_count": 40,
   "metadata": {},
   "outputs": [
    {
     "name": "stdout",
     "output_type": "stream",
     "text": [
      "{'basket': [1, 2, 3], 'greet': 'Hello', 'c': True, 'age': 65}\n"
     ]
    }
   ],
   "source": [
    "dictionary.setdefault('age',65)\n",
    "print(dictionary)"
   ]
  },
  {
   "cell_type": "code",
   "execution_count": 15,
   "metadata": {},
   "outputs": [
    {
     "data": {
      "text/plain": [
       "{'basket': [1, 2, 3], 'greet': 'Hello', 'age': 65, 'c': True}"
      ]
     },
     "execution_count": 15,
     "metadata": {},
     "output_type": "execute_result"
    }
   ],
   "source": [
    "d= {\n",
    "    'basket':[1,2,3],\n",
    "    'greet':\"Hello\",\n",
    "    'age':65,\n",
    "    'c':True\n",
    "          }\n",
    "d"
   ]
  },
  {
   "cell_type": "code",
   "execution_count": 16,
   "metadata": {},
   "outputs": [
    {
     "name": "stdout",
     "output_type": "stream",
     "text": [
      "{'basket': [1, 2, 3], 'greet': 'Hello', 'age': 65, 'c': True}\n"
     ]
    }
   ],
   "source": [
    "d.setdefault('age',75)\n",
    "print(d)"
   ]
  },
  {
   "cell_type": "markdown",
   "metadata": {},
   "source": [
    "#### Exercise:"
   ]
  },
  {
   "cell_type": "code",
   "execution_count": null,
   "metadata": {},
   "outputs": [],
   "source": [
    "#1 Create a user profile for your new game. \n",
    "#This user profile will be stored in a dictionary\n",
    "#with keys: 'age', 'username', 'weapons', 'is_active' and 'clan'\n",
    "\n",
    "#2 iterate and print all the keys in the above user.\n",
    "\n",
    "#3 Add a new weapon to your user\n",
    "\n",
    "#4 Add a new key to include 'is_banned'. Set it to false\n",
    "\n",
    "#5 Ban the user by setting the previous key to True\n",
    "\n",
    "#6 create a new user2 my copying the previous user and \n",
    "#update the age value and username value. \n"
   ]
  },
  {
   "cell_type": "code",
   "execution_count": 6,
   "metadata": {},
   "outputs": [
    {
     "name": "stdout",
     "output_type": "stream",
     "text": [
      "{'age': 21, 'username': 'gamer', 'weapons': 'coding', 'is_active': 'Yes', 'clan': 'India'}\n"
     ]
    }
   ],
   "source": [
    "user={\n",
    " 'age':21,\n",
    "'username':'gamer',\n",
    "'weapons':'coding',\n",
    "'is_active':'Yes',\n",
    "'clan':'India'\n",
    "}\n",
    "print(user)"
   ]
  },
  {
   "cell_type": "code",
   "execution_count": 1,
   "metadata": {},
   "outputs": [
    {
     "name": "stdout",
     "output_type": "stream",
     "text": [
      "{'age': 21, 'username': 'gamer', 'weapons': 'coding', 'is_active': 'Yes', 'clan': 'India', 'check': 'hey'}\n"
     ]
    }
   ],
   "source": [
    "user={\n",
    " 'age':21,\n",
    "'username':'gamer',\n",
    "'weapons':'coding',\n",
    "'is_active':'Yes',\n",
    "'clan':'India'\n",
    "}\n",
    "user['check'] = 'hey'\n",
    "print(user)"
   ]
  },
  {
   "cell_type": "code",
   "execution_count": 7,
   "metadata": {},
   "outputs": [
    {
     "name": "stdout",
     "output_type": "stream",
     "text": [
      "dict_keys(['age', 'username', 'weapons', 'is_active', 'clan'])\n"
     ]
    }
   ],
   "source": [
    "print(user.keys())"
   ]
  },
  {
   "cell_type": "code",
   "execution_count": 10,
   "metadata": {},
   "outputs": [
    {
     "name": "stdout",
     "output_type": "stream",
     "text": [
      "{'age': 21, 'username': 'gamer', 'weapons': 'skills', 'is_active': 'Yes', 'clan': 'India'}\n"
     ]
    }
   ],
   "source": [
    "user.update({'weapons':'skills'})\n",
    "print(user)"
   ]
  },
  {
   "cell_type": "code",
   "execution_count": 11,
   "metadata": {},
   "outputs": [
    {
     "name": "stdout",
     "output_type": "stream",
     "text": [
      "{'age': 21, 'username': 'gamer', 'weapons': 'skills', 'is_active': 'Yes', 'clan': 'India', 'is_banned': False}\n"
     ]
    }
   ],
   "source": [
    "user.update({'is_banned':False})\n",
    "print(user)"
   ]
  },
  {
   "cell_type": "code",
   "execution_count": 12,
   "metadata": {},
   "outputs": [
    {
     "name": "stdout",
     "output_type": "stream",
     "text": [
      "{'age': 21, 'username': 'gamer', 'weapons': 'skills', 'is_active': 'Yes', 'clan': 'India', 'is_banned': True}\n"
     ]
    }
   ],
   "source": [
    "user.update({'is_banned':True})\n",
    "print(user)"
   ]
  },
  {
   "cell_type": "code",
   "execution_count": 9,
   "metadata": {},
   "outputs": [
    {
     "name": "stdout",
     "output_type": "stream",
     "text": [
      "{'age': 28, 'username': 'coder', 'weapons': 'coding', 'is_active': 'Yes', 'clan': 'India', 'check': 'hey'}\n"
     ]
    }
   ],
   "source": [
    "user2=user.copy()\n",
    "print(user2)"
   ]
  },
  {
   "cell_type": "code",
   "execution_count": 10,
   "metadata": {},
   "outputs": [
    {
     "name": "stdout",
     "output_type": "stream",
     "text": [
      "{'age': 28, 'username': 'coder', 'weapons': 'coding', 'is_active': 'Yes', 'clan': 'India', 'check': 'hey'}\n"
     ]
    }
   ],
   "source": [
    "user2.update({'age':28,'username':'coder'})\n",
    "print(user2)"
   ]
  },
  {
   "cell_type": "code",
   "execution_count": 19,
   "metadata": {},
   "outputs": [
    {
     "name": "stdout",
     "output_type": "stream",
     "text": [
      "{'age': 22, 'username': 'Shogun', 'weapons': ['katana', 'shuriken'], 'is_active': True, 'clan': 'Japan'}\n",
      "dict_keys(['age', 'username', 'weapons', 'is_active', 'clan'])\n",
      "{'age': 22, 'username': 'Shogun', 'weapons': ['katana', 'shuriken', 'shield'], 'is_active': True, 'clan': 'Japan'}\n",
      "{'age': 22, 'username': 'Shogun', 'weapons': ['katana', 'shuriken', 'shield'], 'is_active': True, 'clan': 'Japan', 'is_banned': False}\n",
      "{'age': 22, 'username': 'Shogun', 'weapons': ['katana', 'shuriken', 'shield'], 'is_active': True, 'clan': 'Japan', 'is_banned': False}\n",
      "{'age': 100, 'username': 'Timbo', 'weapons': ['katana', 'shuriken', 'shield'], 'is_active': True, 'clan': 'Japan', 'is_banned': False}\n"
     ]
    }
   ],
   "source": [
    "# Solutions:\n",
    "# 1 Create a user profile for your new game. \n",
    "#This user profile will be stored in a dictionary with keys: \n",
    "#'age', 'username', 'weapons', 'is_active' and 'clan'\n",
    "user = {\n",
    "    'age': 22,\n",
    "    'username': 'Shogun',\n",
    "    'weapons': ['katana', 'shuriken'],\n",
    "    'is_active': True,\n",
    "    'clan': 'Japan'\n",
    "}\n",
    "print(user)\n",
    "\n",
    "# 2 iterate and print all the keys in the above user.\n",
    "print(user.keys())\n",
    "\n",
    "# 3 Add a new weapon to your user\n",
    "user['weapons'].append('shield')\n",
    "print(user)\n",
    "\n",
    "# 4 Add a new key to include 'is_banned'. Set it to false\n",
    "user.update({'is_banned': False}) \n",
    "print(user)\n",
    "\n",
    "# 5 Ban the user by setting the previous key to True\n",
    "# user['is_banned'] = True\n",
    "print(user)\n",
    "\n",
    "# 6 create a new user2 my copying the previous user \n",
    "#and update the age value and username value. \n",
    "user2 = user.copy()\n",
    "user2.update({'age': 100, 'username': 'Timbo'})\n",
    "print(user2)"
   ]
  },
  {
   "cell_type": "code",
   "execution_count": 17,
   "metadata": {},
   "outputs": [
    {
     "name": "stdout",
     "output_type": "stream",
     "text": [
      "name\n",
      "age\n",
      "('name', 'coder')\n",
      "('age', 22)\n",
      "coder\n",
      "22\n",
      "name\n",
      "age\n"
     ]
    }
   ],
   "source": [
    "user={\n",
    "    'name':\"coder\",\n",
    "    \"age\":22\n",
    "}\n",
    "for x in user:\n",
    "    print(x) #prints keys\n",
    "for x in user.items():\n",
    "    print(x)\n",
    "for x in user.values():\n",
    "    print(x)\n",
    "for x in user.keys():\n",
    "    print(x)"
   ]
  },
  {
   "cell_type": "code",
   "execution_count": 18,
   "metadata": {},
   "outputs": [
    {
     "name": "stdout",
     "output_type": "stream",
     "text": [
      "dict_items([('name', 'coder'), ('age', 22)])\n",
      "('name', 'coder')\n",
      "('age', 22)\n"
     ]
    }
   ],
   "source": [
    "user={\n",
    "    'name':\"coder\",\n",
    "    \"age\":22\n",
    "}\n",
    "print(user.items())\n",
    "for x in user.items():\n",
    "    print(x)"
   ]
  },
  {
   "cell_type": "code",
   "execution_count": 19,
   "metadata": {},
   "outputs": [
    {
     "name": "stdout",
     "output_type": "stream",
     "text": [
      "name coder\n",
      "age 22\n"
     ]
    }
   ],
   "source": [
    "user={\n",
    "    'name':\"coder\",\n",
    "    \"age\":22\n",
    "}\n",
    "for i in user.items():\n",
    "    key,value=i;\n",
    "    print(key,value)"
   ]
  },
  {
   "cell_type": "code",
   "execution_count": 1,
   "metadata": {},
   "outputs": [
    {
     "name": "stdout",
     "output_type": "stream",
     "text": [
      "name coder\n",
      "age 22\n"
     ]
    }
   ],
   "source": [
    "user={\n",
    "    'name':\"coder\",\n",
    "    \"age\":22\n",
    "}\n",
    "for i in user.items():\n",
    "    key,value=i\n",
    "    print(key,value)"
   ]
  },
  {
   "cell_type": "code",
   "execution_count": 3,
   "metadata": {},
   "outputs": [
    {
     "name": "stdout",
     "output_type": "stream",
     "text": [
      "name coder\n",
      "age 22\n"
     ]
    }
   ],
   "source": [
    "user={\n",
    "    'name':\"coder\",\n",
    "    \"age\":22\n",
    "}\n",
    "for key,value in user.items():\n",
    "    print(key,value)"
   ]
  },
  {
   "cell_type": "code",
   "execution_count": 19,
   "metadata": {},
   "outputs": [
    {
     "name": "stdout",
     "output_type": "stream",
     "text": [
      "name\n",
      "age\n"
     ]
    }
   ],
   "source": [
    "user={\n",
    "    'name':\"coder\",\n",
    "    \"age\":22\n",
    "}\n",
    "for key,value in user.items():\n",
    "    print(key)"
   ]
  },
  {
   "cell_type": "code",
   "execution_count": 18,
   "metadata": {},
   "outputs": [
    {
     "name": "stdout",
     "output_type": "stream",
     "text": [
      "coder\n",
      "22\n"
     ]
    }
   ],
   "source": [
    "user={\n",
    "    'name':\"coder\",\n",
    "    \"age\":22\n",
    "}\n",
    "for key,value in user.items():\n",
    "    print(value)"
   ]
  },
  {
   "cell_type": "markdown",
   "metadata": {},
   "source": [
    "### Tuples:"
   ]
  },
  {
   "cell_type": "markdown",
   "metadata": {},
   "source": [
    "Tuples are immutable lists"
   ]
  },
  {
   "cell_type": "code",
   "execution_count": 1,
   "metadata": {},
   "outputs": [
    {
     "name": "stdout",
     "output_type": "stream",
     "text": [
      "(1, 2, 3, 4, 5)\n",
      "1\n",
      "True\n"
     ]
    },
    {
     "ename": "TypeError",
     "evalue": "'tuple' object does not support item assignment",
     "output_type": "error",
     "traceback": [
      "\u001b[1;31m---------------------------------------------------------------------------\u001b[0m",
      "\u001b[1;31mTypeError\u001b[0m                                 Traceback (most recent call last)",
      "Cell \u001b[1;32mIn[1], line 6\u001b[0m\n\u001b[0;32m      4\u001b[0m \u001b[38;5;66;03m#we can access the values in the tuples using their index  same like the lists.\u001b[39;00m\n\u001b[0;32m      5\u001b[0m \u001b[38;5;28mprint\u001b[39m(\u001b[38;5;241m5\u001b[39m \u001b[38;5;129;01min\u001b[39;00m my_tuple)\n\u001b[1;32m----> 6\u001b[0m my_tuple[\u001b[38;5;241m1\u001b[39m]\u001b[38;5;241m=\u001b[39m\u001b[38;5;124m'\u001b[39m\u001b[38;5;124mx\u001b[39m\u001b[38;5;124m'\u001b[39m\n\u001b[0;32m      7\u001b[0m \u001b[38;5;28mprint\u001b[39m(my_tuple)\n",
      "\u001b[1;31mTypeError\u001b[0m: 'tuple' object does not support item assignment"
     ]
    }
   ],
   "source": [
    "my_tuple=(1,2,3,4,5)\n",
    "print(my_tuple)\n",
    "print(my_tuple[0])        \n",
    "#we can access the values in the tuples using their index  same like the lists.\n",
    "print(5 in my_tuple)\n",
    "my_tuple[1]='x'\n",
    "print(my_tuple)"
   ]
  },
  {
   "cell_type": "markdown",
   "metadata": {},
   "source": [
    ">So a good use of a tuple is for example if you work at Uber is a geographic location and coordinates right.\n",
    "\n",
    "You can have latitude and longitude here and because let's say this won't change or maybe a user's location or pickup point doesn't often change we can just use a tuple.\n",
    "\n",
    "However maybe when you're in a car as a driver and you're Uber driver well you probably need your coordinates your latitude longitude\n",
    "and a list because your car is moving that's constantly changing."
   ]
  },
  {
   "cell_type": "code",
   "execution_count": 26,
   "metadata": {},
   "outputs": [
    {
     "name": "stdout",
     "output_type": "stream",
     "text": [
      "dict_items([('age', 22), ('username', 'coder'), ('weapons', ['katana', 'shuriken']), ('is_active', True), ('clan', 'India')])\n"
     ]
    }
   ],
   "source": [
    "user = {\n",
    "    'age': 22,\n",
    "    'username': 'coder',\n",
    "    'weapons': ['katana', 'shuriken'],\n",
    "    'is_active': True,\n",
    "    'clan': 'India'\n",
    "}\n",
    "print(user.items())  #returns key:value pairs as tuples"
   ]
  },
  {
   "cell_type": "code",
   "execution_count": 5,
   "metadata": {},
   "outputs": [
    {
     "name": "stdout",
     "output_type": "stream",
     "text": [
      "[1, 2, 3]\n"
     ]
    }
   ],
   "source": [
    "user = {\n",
    "    (1,2): [1,2,3],    #tuples can be used as keys in dictionaries\n",
    "    'clan': 'India'\n",
    "}\n",
    "print(user[(1,2)])"
   ]
  },
  {
   "cell_type": "code",
   "execution_count": 32,
   "metadata": {},
   "outputs": [
    {
     "name": "stdout",
     "output_type": "stream",
     "text": [
      "3\n"
     ]
    }
   ],
   "source": [
    "user = {\n",
    "    (1,2): [1,2,3],\n",
    "    'clan': 'India'\n",
    "}\n",
    "print(user[(1,2)][2])"
   ]
  },
  {
   "cell_type": "markdown",
   "metadata": {},
   "source": [
    "#### Tuple Methods:"
   ]
  },
  {
   "cell_type": "markdown",
   "metadata": {},
   "source": [
    "https://www.w3schools.com/python/python_ref_tuple.asp"
   ]
  },
  {
   "cell_type": "code",
   "execution_count": 38,
   "metadata": {},
   "outputs": [
    {
     "name": "stdout",
     "output_type": "stream",
     "text": [
      "(2,)\n",
      "(2, 3)\n"
     ]
    }
   ],
   "source": [
    "my_tuple=(1,2,3,4,5)\n",
    "my_tup2=my_tuple[1:2]\n",
    "my_tup3=my_tuple[1:3]\n",
    "print(my_tup2)\n",
    "print(my_tup3)"
   ]
  },
  {
   "cell_type": "code",
   "execution_count": 2,
   "metadata": {},
   "outputs": [
    {
     "name": "stdout",
     "output_type": "stream",
     "text": [
      "(2, 3, 4, 5)\n",
      "[2, 3, 4, 5]\n"
     ]
    }
   ],
   "source": [
    "my_tuple=(1,2,3,4,5)\n",
    "my_tup2=my_tuple[1:7]\n",
    "print(my_tup2)\n",
    "\n",
    "\n",
    "mylist=[1,2,3,4,5]\n",
    "mylist2=mylist[1:7]\n",
    "print(mylist2)"
   ]
  },
  {
   "cell_type": "code",
   "execution_count": 41,
   "metadata": {},
   "outputs": [
    {
     "name": "stdout",
     "output_type": "stream",
     "text": [
      "2 3\n"
     ]
    }
   ],
   "source": [
    "my_tuple=(1,2,3,4,5)\n",
    "x=my_tuple[1]\n",
    "y=my_tuple[2]\n",
    "print(x,y)"
   ]
  },
  {
   "cell_type": "code",
   "execution_count": 42,
   "metadata": {},
   "outputs": [
    {
     "name": "stdout",
     "output_type": "stream",
     "text": [
      "1 2 [3, 4, 5]\n"
     ]
    }
   ],
   "source": [
    "x,y,*others=(1,2,3,4,5)\n",
    "print(x,y,others)"
   ]
  },
  {
   "cell_type": "code",
   "execution_count": 47,
   "metadata": {},
   "outputs": [
    {
     "name": "stdout",
     "output_type": "stream",
     "text": [
      "3\n",
      "4\n",
      "7\n"
     ]
    }
   ],
   "source": [
    "my_tuple=(1,2,3,4,5,5,5)\n",
    "         #0,1,2,3,4,5,6\n",
    "print(my_tuple.count(5))\n",
    "print(my_tuple.index(5))  \n",
    "#Well the index of 5 is 4 because , \n",
    "#for the first value that it finds it's going to return the index of.\n",
    "print(len(my_tuple)) "
   ]
  },
  {
   "cell_type": "markdown",
   "metadata": {},
   "source": [
    "### Sets:"
   ]
  },
  {
   "cell_type": "markdown",
   "metadata": {},
   "source": [
    ">Unordered collection of unique objects"
   ]
  },
  {
   "cell_type": "markdown",
   "metadata": {},
   "source": [
    "https://www.w3schools.com/python/python_ref_set.asp"
   ]
  },
  {
   "cell_type": "code",
   "execution_count": 48,
   "metadata": {},
   "outputs": [
    {
     "name": "stdout",
     "output_type": "stream",
     "text": [
      "{1, 2, 3, 4, 5}\n"
     ]
    }
   ],
   "source": [
    "#Unordered collection of unique objects\n",
    "my_set={1,2,3,4,5}\n",
    "print(my_set)"
   ]
  },
  {
   "cell_type": "code",
   "execution_count": 49,
   "metadata": {},
   "outputs": [
    {
     "name": "stdout",
     "output_type": "stream",
     "text": [
      "{1, 2, 3, 4, 5}\n"
     ]
    }
   ],
   "source": [
    "my_set={1,2,3,4,5,5}\n",
    "print(my_set)    # only returns the unique values.i.e., not duplications"
   ]
  },
  {
   "cell_type": "code",
   "execution_count": 50,
   "metadata": {},
   "outputs": [
    {
     "name": "stdout",
     "output_type": "stream",
     "text": [
      "{1, 2, 3, 4, 5, 100}\n"
     ]
    }
   ],
   "source": [
    "my_set={1,2,3,4,5,5}\n",
    "my_set.add(100)\n",
    "my_set.add(1)\n",
    "print(my_set) "
   ]
  },
  {
   "cell_type": "code",
   "execution_count": 9,
   "metadata": {},
   "outputs": [
    {
     "data": {
      "text/plain": [
       "{1, 2, 3, 4, 5}"
      ]
     },
     "execution_count": 9,
     "metadata": {},
     "output_type": "execute_result"
    }
   ],
   "source": [
    "my_list=[1,2,3,4,5,5,5]\n",
    "set(my_list)      #we can remove duplicates form  the list using set()"
   ]
  },
  {
   "cell_type": "markdown",
   "metadata": {},
   "source": [
    "#### Note:\n",
    "set is not subscriptable"
   ]
  },
  {
   "cell_type": "code",
   "execution_count": 2,
   "metadata": {},
   "outputs": [
    {
     "ename": "TypeError",
     "evalue": "'set' object is not subscriptable",
     "output_type": "error",
     "traceback": [
      "\u001b[1;31m---------------------------------------------------------------------------\u001b[0m",
      "\u001b[1;31mTypeError\u001b[0m                                 Traceback (most recent call last)",
      "Cell \u001b[1;32mIn[2], line 2\u001b[0m\n\u001b[0;32m      1\u001b[0m my_set\u001b[38;5;241m=\u001b[39m{\u001b[38;5;241m1\u001b[39m,\u001b[38;5;241m2\u001b[39m,\u001b[38;5;241m3\u001b[39m,\u001b[38;5;241m4\u001b[39m,\u001b[38;5;241m5\u001b[39m,\u001b[38;5;241m5\u001b[39m}\n\u001b[1;32m----> 2\u001b[0m \u001b[38;5;28mprint\u001b[39m(my_set[\u001b[38;5;241m1\u001b[39m])\n",
      "\u001b[1;31mTypeError\u001b[0m: 'set' object is not subscriptable"
     ]
    }
   ],
   "source": [
    "my_set={1,2,3,4,5,5}\n",
    "print(my_set[1])\n",
    "#The error is indicating that the function or method is not subscriptable;\n",
    "# means they are not indexable like a list or sequence."
   ]
  },
  {
   "cell_type": "code",
   "execution_count": 3,
   "metadata": {},
   "outputs": [
    {
     "name": "stdout",
     "output_type": "stream",
     "text": [
      "True\n",
      "5\n",
      "[1, 2, 3, 4, 5]\n"
     ]
    }
   ],
   "source": [
    "print(1 in my_set)\n",
    "print(len(my_set)) #only counts the unique things.\n",
    "print(list(my_set))"
   ]
  },
  {
   "cell_type": "code",
   "execution_count": 10,
   "metadata": {},
   "outputs": [
    {
     "name": "stdout",
     "output_type": "stream",
     "text": [
      "{1, 2, 3, 4, 5}\n"
     ]
    }
   ],
   "source": [
    "my_set={1,2,3,4,5,5}\n",
    "new_set=my_set.copy()\n",
    "print(new_set)"
   ]
  },
  {
   "cell_type": "code",
   "execution_count": 12,
   "metadata": {},
   "outputs": [
    {
     "name": "stdout",
     "output_type": "stream",
     "text": [
      "{1, 2, 3, 4, 5}\n",
      "set()\n"
     ]
    }
   ],
   "source": [
    "my_set={1,2,3,4,5,5}\n",
    "new_set=my_set.copy()\n",
    "print(new_set)\n",
    "my_set.clear()\n",
    "print(my_set)"
   ]
  },
  {
   "cell_type": "code",
   "execution_count": 46,
   "metadata": {},
   "outputs": [
    {
     "data": {
      "text/plain": [
       "{1, 2, 3}"
      ]
     },
     "execution_count": 46,
     "metadata": {},
     "output_type": "execute_result"
    }
   ],
   "source": [
    "set1={1,2,3,4,5}\n",
    "set2={4,5,6,7,8,9}\n",
    "set1.difference(set2)"
   ]
  },
  {
   "cell_type": "code",
   "execution_count": 44,
   "metadata": {},
   "outputs": [
    {
     "name": "stdout",
     "output_type": "stream",
     "text": [
      "{1, 2, 3}\n",
      "{1, 2, 3, 4, 5}\n",
      "{4, 5, 6, 7, 8, 9}\n"
     ]
    }
   ],
   "source": [
    "set1={1,2,3,4,5}\n",
    "set2={4,5,6,7,8,9}\n",
    "print(set1.difference(set2))\n",
    "print(set1)\n",
    "print(set2)"
   ]
  },
  {
   "cell_type": "code",
   "execution_count": 2,
   "metadata": {},
   "outputs": [
    {
     "name": "stdout",
     "output_type": "stream",
     "text": [
      "{1, 2, 3}\n",
      "{4, 5, 6, 7, 8, 9}\n"
     ]
    }
   ],
   "source": [
    "set1={1,2,3,4,5}\n",
    "set2={4,5,6,7,8,9}\n",
    "set1.difference_update(set2)    #removes the differences and updates set1\n",
    "print(set1)\n",
    "print(set2)"
   ]
  },
  {
   "cell_type": "code",
   "execution_count": 39,
   "metadata": {},
   "outputs": [
    {
     "name": "stdout",
     "output_type": "stream",
     "text": [
      "{1, 2, 3, 4}\n"
     ]
    }
   ],
   "source": [
    "set1={1,2,3,4,5}\n",
    "set2={4,5,6,7,8,9}\n",
    "set1.discard(5)\n",
    "print(set1)"
   ]
  },
  {
   "cell_type": "code",
   "execution_count": 2,
   "metadata": {},
   "outputs": [
    {
     "data": {
      "text/plain": [
       "{4, 5}"
      ]
     },
     "execution_count": 2,
     "metadata": {},
     "output_type": "execute_result"
    }
   ],
   "source": [
    "set1={1,2,3,4,5}\n",
    "set2={4,5,6,7,8,9}\n",
    "set1.intersection(set2)"
   ]
  },
  {
   "cell_type": "code",
   "execution_count": 10,
   "metadata": {},
   "outputs": [
    {
     "data": {
      "text/plain": [
       "{4, 5}"
      ]
     },
     "execution_count": 10,
     "metadata": {},
     "output_type": "execute_result"
    }
   ],
   "source": [
    "set1={1,2,3,4,5}\n",
    "set2={4,5,6,7,8,9}\n",
    "set1&set2 #intersection"
   ]
  },
  {
   "cell_type": "code",
   "execution_count": 4,
   "metadata": {},
   "outputs": [
    {
     "data": {
      "text/plain": [
       "False"
      ]
     },
     "execution_count": 4,
     "metadata": {},
     "output_type": "execute_result"
    }
   ],
   "source": [
    "set1={1,2,3,4,5}\n",
    "set2={4,5,6,7,8,9}\n",
    "set1.isdisjoint(set2)#is disjoint means the 2 sets doesn't have any intersection"
   ]
  },
  {
   "cell_type": "code",
   "execution_count": 5,
   "metadata": {},
   "outputs": [
    {
     "data": {
      "text/plain": [
       "True"
      ]
     },
     "execution_count": 5,
     "metadata": {},
     "output_type": "execute_result"
    }
   ],
   "source": [
    "set1={1,2,3}\n",
    "set2={4,5,6,7,8,9}\n",
    "set1.isdisjoint(set2)"
   ]
  },
  {
   "cell_type": "code",
   "execution_count": 7,
   "metadata": {},
   "outputs": [
    {
     "data": {
      "text/plain": [
       "{1, 2, 3, 4, 5, 6, 7, 8, 9}"
      ]
     },
     "execution_count": 7,
     "metadata": {},
     "output_type": "execute_result"
    }
   ],
   "source": [
    "set1={1,2,3,4,5}\n",
    "set2={4,5,6,7,8,9}\n",
    "set1.union(set2)"
   ]
  },
  {
   "cell_type": "code",
   "execution_count": 9,
   "metadata": {},
   "outputs": [
    {
     "data": {
      "text/plain": [
       "{1, 2, 3, 4, 5, 6, 7, 8, 9}"
      ]
     },
     "execution_count": 9,
     "metadata": {},
     "output_type": "execute_result"
    }
   ],
   "source": [
    "set1={1,2,3,4,5}\n",
    "set2={4,5,6,7,8,9}\n",
    "set1|set2  #union"
   ]
  },
  {
   "cell_type": "code",
   "execution_count": 11,
   "metadata": {},
   "outputs": [
    {
     "data": {
      "text/plain": [
       "True"
      ]
     },
     "execution_count": 11,
     "metadata": {},
     "output_type": "execute_result"
    }
   ],
   "source": [
    "set1={4,5}\n",
    "set2={4,5,6,7,8,9}\n",
    "set1.issubset(set2)"
   ]
  },
  {
   "cell_type": "code",
   "execution_count": 15,
   "metadata": {},
   "outputs": [
    {
     "data": {
      "text/plain": [
       "False"
      ]
     },
     "execution_count": 15,
     "metadata": {},
     "output_type": "execute_result"
    }
   ],
   "source": [
    "set1={4,5}\n",
    "set2={4,5,6,7,8,9}\n",
    "set1.issuperset(set2)"
   ]
  },
  {
   "cell_type": "code",
   "execution_count": 14,
   "metadata": {},
   "outputs": [
    {
     "data": {
      "text/plain": [
       "True"
      ]
     },
     "execution_count": 14,
     "metadata": {},
     "output_type": "execute_result"
    }
   ],
   "source": [
    "set1={4,5}\n",
    "set2={4,5,6,7,8,9}\n",
    "set2.issuperset(set1)"
   ]
  },
  {
   "cell_type": "markdown",
   "metadata": {},
   "source": [
    "#### Discard(), Remove(), Pop():"
   ]
  },
  {
   "cell_type": "code",
   "execution_count": 3,
   "metadata": {},
   "outputs": [
    {
     "name": "stdout",
     "output_type": "stream",
     "text": [
      "{'cherry', 'apple'}\n"
     ]
    }
   ],
   "source": [
    "fruits = {\"apple\", \"banana\", \"cherry\"}\n",
    "fruits.discard(\"banana\")\n",
    "print(fruits)"
   ]
  },
  {
   "cell_type": "code",
   "execution_count": 4,
   "metadata": {},
   "outputs": [
    {
     "name": "stdout",
     "output_type": "stream",
     "text": [
      "{'cherry', 'apple', 'banana'}\n"
     ]
    }
   ],
   "source": [
    "fruits = {\"apple\", \"banana\", \"cherry\"}\n",
    "fruits.discard(\"mango\")\n",
    "print(fruits)"
   ]
  },
  {
   "cell_type": "code",
   "execution_count": 5,
   "metadata": {},
   "outputs": [
    {
     "name": "stdout",
     "output_type": "stream",
     "text": [
      "{'cherry', 'apple'}\n"
     ]
    }
   ],
   "source": [
    "fruits = {\"apple\", \"banana\", \"cherry\"}\n",
    "fruits.remove(\"banana\")\n",
    "print(fruits)"
   ]
  },
  {
   "cell_type": "code",
   "execution_count": 6,
   "metadata": {},
   "outputs": [
    {
     "ename": "KeyError",
     "evalue": "'mango'",
     "output_type": "error",
     "traceback": [
      "\u001b[1;31m---------------------------------------------------------------------------\u001b[0m",
      "\u001b[1;31mKeyError\u001b[0m                                  Traceback (most recent call last)",
      "Cell \u001b[1;32mIn[6], line 2\u001b[0m\n\u001b[0;32m      1\u001b[0m fruits \u001b[38;5;241m=\u001b[39m {\u001b[38;5;124m\"\u001b[39m\u001b[38;5;124mapple\u001b[39m\u001b[38;5;124m\"\u001b[39m, \u001b[38;5;124m\"\u001b[39m\u001b[38;5;124mbanana\u001b[39m\u001b[38;5;124m\"\u001b[39m, \u001b[38;5;124m\"\u001b[39m\u001b[38;5;124mcherry\u001b[39m\u001b[38;5;124m\"\u001b[39m}\n\u001b[1;32m----> 2\u001b[0m \u001b[43mfruits\u001b[49m\u001b[38;5;241;43m.\u001b[39;49m\u001b[43mremove\u001b[49m\u001b[43m(\u001b[49m\u001b[38;5;124;43m\"\u001b[39;49m\u001b[38;5;124;43mmango\u001b[39;49m\u001b[38;5;124;43m\"\u001b[39;49m\u001b[43m)\u001b[49m\n\u001b[0;32m      3\u001b[0m \u001b[38;5;28mprint\u001b[39m(fruits)\n",
      "\u001b[1;31mKeyError\u001b[0m: 'mango'"
     ]
    }
   ],
   "source": [
    "fruits = {\"apple\", \"banana\", \"cherry\"}\n",
    "fruits.remove(\"mango\")\n",
    "print(fruits)"
   ]
  },
  {
   "cell_type": "markdown",
   "metadata": {},
   "source": [
    ">`The remove() method will raise an error if the specified item does not exist, and the discard() method will not.`"
   ]
  },
  {
   "cell_type": "code",
   "execution_count": 8,
   "metadata": {},
   "outputs": [
    {
     "name": "stdout",
     "output_type": "stream",
     "text": [
      "{'apple', 'banana'}\n"
     ]
    }
   ],
   "source": [
    "fruits = {\"apple\", \"banana\", \"cherry\"}\n",
    "fruits.pop() #removes a random item from the set.\n",
    "print(fruits)"
   ]
  },
  {
   "cell_type": "markdown",
   "metadata": {},
   "source": [
    "### Exercise:"
   ]
  },
  {
   "cell_type": "code",
   "execution_count": null,
   "metadata": {},
   "outputs": [],
   "source": [
    "# You are working for the school Principal. We have a database of school students:\n",
    "school = {'Bobby','Tammy','Jammy','Sally','Danny'}\n",
    "\n",
    "#during class, the teachers take attendance and compile it into a list. \n",
    "attendance_list = ['Jammy', 'Bobby', 'Danny', 'Sally']\n",
    "\n",
    "'''using what you learned about sets, create a piece of code that the \n",
    "school principal can use to\n",
    "immediately find out who missed class so they can call the parents.\n",
    "Imagine if the list had 1000s of students.\n",
    "The principal can use the lists generated by the teachers + the school database\n",
    "to use python & make his/her job easier'''\n",
    "#Find the students that miss class!"
   ]
  },
  {
   "cell_type": "code",
   "execution_count": 32,
   "metadata": {},
   "outputs": [
    {
     "name": "stdout",
     "output_type": "stream",
     "text": [
      "{'Tammy'}\n"
     ]
    }
   ],
   "source": [
    "# Solution: Notice how we don't have to convert the attendance_list to a set\n",
    "#...it does it for you.\n",
    "print(school.difference(attendance_list))"
   ]
  },
  {
   "cell_type": "markdown",
   "metadata": {},
   "source": [
    "### Conditional Logic:"
   ]
  },
  {
   "cell_type": "code",
   "execution_count": 10,
   "metadata": {},
   "outputs": [
    {
     "name": "stdout",
     "output_type": "stream",
     "text": [
      "its true\n",
      "Check\n"
     ]
    }
   ],
   "source": [
    "x= True\n",
    "if x:\n",
    "    print(\"its true\")\n",
    "print(\"Check\")"
   ]
  },
  {
   "cell_type": "code",
   "execution_count": 11,
   "metadata": {},
   "outputs": [
    {
     "name": "stdout",
     "output_type": "stream",
     "text": [
      "Check\n"
     ]
    }
   ],
   "source": [
    "x= False\n",
    "if x:\n",
    "    print(\"its true\")\n",
    "print(\"Check\")"
   ]
  },
  {
   "cell_type": "code",
   "execution_count": 12,
   "metadata": {},
   "outputs": [
    {
     "name": "stdout",
     "output_type": "stream",
     "text": [
      "Check\n"
     ]
    }
   ],
   "source": [
    "x= False\n",
    "if x:\n",
    "    print(\"its true\")\n",
    "else:\n",
    "    print(\"Check\")"
   ]
  },
  {
   "cell_type": "code",
   "execution_count": 13,
   "metadata": {},
   "outputs": [
    {
     "name": "stdout",
     "output_type": "stream",
     "text": [
      "its true\n"
     ]
    }
   ],
   "source": [
    "x= True\n",
    "if x:\n",
    "    print(\"its true\")\n",
    "else:\n",
    "    print(\"Check\")"
   ]
  },
  {
   "cell_type": "code",
   "execution_count": 14,
   "metadata": {},
   "outputs": [
    {
     "name": "stdout",
     "output_type": "stream",
     "text": [
      "ok\n"
     ]
    }
   ],
   "source": [
    "x= False\n",
    "y=True\n",
    "if x:\n",
    "    print(\"its true\")\n",
    "elif y:\n",
    "    print(\"ok\")\n",
    "else:\n",
    "    print(\"Check\")"
   ]
  },
  {
   "cell_type": "code",
   "execution_count": 15,
   "metadata": {},
   "outputs": [
    {
     "name": "stdout",
     "output_type": "stream",
     "text": [
      "Check\n"
     ]
    }
   ],
   "source": [
    "x= False\n",
    "y=False\n",
    "if x:\n",
    "    print(\"its true\")\n",
    "elif y:\n",
    "    print(\"ok\")\n",
    "else:\n",
    "    print(\"Check\")"
   ]
  },
  {
   "cell_type": "code",
   "execution_count": 17,
   "metadata": {},
   "outputs": [
    {
     "name": "stdout",
     "output_type": "stream",
     "text": [
      "Perfect\n"
     ]
    }
   ],
   "source": [
    "x= True\n",
    "y=True\n",
    "if x and y:\n",
    "    print(\"Perfect\")\n",
    "else:\n",
    "    print(\"Check\")"
   ]
  },
  {
   "cell_type": "markdown",
   "metadata": {},
   "source": [
    "> `In python, indentation in a loop should have 4 spaces as per standard`"
   ]
  },
  {
   "cell_type": "code",
   "execution_count": 18,
   "metadata": {},
   "outputs": [
    {
     "name": "stdout",
     "output_type": "stream",
     "text": [
      "True\n",
      "True\n",
      "Perfect\n"
     ]
    }
   ],
   "source": [
    "x= 'Hello'\n",
    "y=5\n",
    "print(bool(\"Hello\"))\n",
    "print(bool(5))\n",
    "if x and y:\n",
    "    print(\"Perfect\")\n",
    "else:\n",
    "    print(\"Check\")"
   ]
  },
  {
   "cell_type": "code",
   "execution_count": 20,
   "metadata": {},
   "outputs": [
    {
     "name": "stdout",
     "output_type": "stream",
     "text": [
      "False\n",
      "False\n",
      "Check\n"
     ]
    }
   ],
   "source": [
    "x= ''\n",
    "y=0\n",
    "print(bool(\"\"))\n",
    "print(bool(0))\n",
    "if x and y:\n",
    "    print(\"Perfect\")\n",
    "else:\n",
    "    print(\"Check\")"
   ]
  },
  {
   "cell_type": "markdown",
   "metadata": {},
   "source": [
    "### Ternary Operators(Conditional Expressions):"
   ]
  },
  {
   "cell_type": "code",
   "execution_count": 11,
   "metadata": {},
   "outputs": [
    {
     "name": "stdout",
     "output_type": "stream",
     "text": [
      "msg allowed\n",
      "not allowed to msg\n"
     ]
    }
   ],
   "source": [
    "'''syntax:condition_if_true if condition else condition_if_else\n",
    "\n",
    "if condition is true.......condition_if_true will execute\n",
    "if condition is false.......condition_if_else will execute'''\n",
    "\n",
    "is_frnd=True\n",
    "can_msg=\"msg allowed\" if is_frnd else \"not allowed to msg\"\n",
    "print(can_msg)\n",
    "\n",
    "is_frnd=False\n",
    "can_msg=\"msg allowed\" if is_frnd else \"not allowed to msg\"\n",
    "print(can_msg)"
   ]
  },
  {
   "cell_type": "markdown",
   "metadata": {},
   "source": [
    "Short circuiting:\n",
    "By short circuiting we mean the stoppage of execution of boolean operation if the truth value of expression has been determined already.\n",
    "The evaluation of expression takes place from left to right. \n",
    "In python, short circuiting is supported by various boolean operators and functions.\n",
    "\n",
    "or: When the Python interpreter scans or expression, it takes first statement and checks to see if it is true. \n",
    "    If the first statement is true, then Python returns that object’s value without checking the second statement. \n",
    "    The program does not bother with the second statement. If the first value is false, only then Python checks the second value and then result is based on second half.\n",
    "and: For an and expression, Python uses a short circuit technique to check if the first statement is false then the whole statement must be false, so it returns that value. \n",
    "    Only if the first value is true, it checks the second statement and returns the value.\n",
    "An expression containing and and or stops execution when the truth value of expression has been achieved. Evaluation takes place from left to right."
   ]
  },
  {
   "cell_type": "code",
   "execution_count": 27,
   "metadata": {},
   "outputs": [
    {
     "name": "stdout",
     "output_type": "stream",
     "text": [
      "Perfect\n",
      "Check\n"
     ]
    }
   ],
   "source": [
    "#Short circuiting\n",
    "x= True\n",
    "y=False\n",
    "if x or y:\n",
    "    print(\"Perfect\")\n",
    "else:\n",
    "    print(\"Check\")\n",
    "    \n",
    "x= True\n",
    "y=False\n",
    "if y and x:\n",
    "    print(\"Perfect\")\n",
    "else:\n",
    "    print(\"Check\")"
   ]
  },
  {
   "cell_type": "markdown",
   "metadata": {},
   "source": [
    "### Logical Operators:"
   ]
  },
  {
   "cell_type": "markdown",
   "metadata": {},
   "source": [
    "and,or,<,>,==,>=,<=,!=,not"
   ]
  },
  {
   "cell_type": "code",
   "execution_count": 37,
   "metadata": {},
   "outputs": [
    {
     "name": "stdout",
     "output_type": "stream",
     "text": [
      "False\n",
      "False\n",
      "True\n"
     ]
    }
   ],
   "source": [
    "print(4>5)\n",
    "print(4==5)  # checking equality\n",
    "print(not(4==5))"
   ]
  },
  {
   "cell_type": "code",
   "execution_count": 32,
   "metadata": {},
   "outputs": [
    {
     "ename": "SyntaxError",
     "evalue": "keyword can't be an expression (<ipython-input-32-5c8ee04f8d4e>, line 1)",
     "output_type": "error",
     "traceback": [
      "\u001b[1;36m  File \u001b[1;32m\"<ipython-input-32-5c8ee04f8d4e>\"\u001b[1;36m, line \u001b[1;32m1\u001b[0m\n\u001b[1;33m    print(4=5)\u001b[0m\n\u001b[1;37m         ^\u001b[0m\n\u001b[1;31mSyntaxError\u001b[0m\u001b[1;31m:\u001b[0m keyword can't be an expression\n"
     ]
    }
   ],
   "source": [
    "print(4=5)   #this means assigment"
   ]
  },
  {
   "cell_type": "code",
   "execution_count": 36,
   "metadata": {},
   "outputs": [
    {
     "name": "stdout",
     "output_type": "stream",
     "text": [
      "False\n",
      "True\n"
     ]
    }
   ],
   "source": [
    "print('a'>'b')  #ascii value of  a is < ascii value of b\n",
    "print('a' > 'A') #ascii value of  a is > ascii value of A"
   ]
  },
  {
   "cell_type": "code",
   "execution_count": 45,
   "metadata": {},
   "outputs": [
    {
     "name": "stdout",
     "output_type": "stream",
     "text": [
      "You are a master magician\n"
     ]
    }
   ],
   "source": [
    "is_magician=False\n",
    "is_expert=True\n",
    "if  (not(is_magician) and is_expert):\n",
    "    print(\"You are a master magician\")"
   ]
  },
  {
   "cell_type": "code",
   "execution_count": 8,
   "metadata": {},
   "outputs": [
    {
     "name": "stdout",
     "output_type": "stream",
     "text": [
      "Atleast you are getting there\n"
     ]
    }
   ],
   "source": [
    "is_magician=False\n",
    "is_expert=False\n",
    "if (not(is_magician) and not(is_expert)):\n",
    "    print(\"Atleast you are getting there\")"
   ]
  },
  {
   "cell_type": "code",
   "execution_count": 5,
   "metadata": {},
   "outputs": [
    {
     "name": "stdout",
     "output_type": "stream",
     "text": [
      "You need Magical powers\n"
     ]
    }
   ],
   "source": [
    "is_magician=False\n",
    "is_expert=True\n",
    "if not is_magician:\n",
    "    print(\"You need Magical powers\")"
   ]
  },
  {
   "cell_type": "markdown",
   "metadata": {},
   "source": [
    "#### Difference between ==, is, ===:"
   ]
  },
  {
   "cell_type": "markdown",
   "metadata": {},
   "source": [
    "*Operators:*\n",
    "\n",
    "1. '==' checks the equality of both the values\n",
    "2. 'is' actually checks if the location/memory where both values are stored is the same.\n",
    "3. '===' check if the location where both values are stored and the data types of both of them is the same."
   ]
  },
  {
   "cell_type": "code",
   "execution_count": 9,
   "metadata": {},
   "outputs": [
    {
     "name": "stdout",
     "output_type": "stream",
     "text": [
      "True\n",
      "False\n",
      "False\n",
      "True\n",
      "True\n"
     ]
    }
   ],
   "source": [
    "print(True==1)\n",
    "print(''==1)\n",
    "print([]==1)\n",
    "print(10==10.0)\n",
    "print([]==[])  # == checks the equality of both the values"
   ]
  },
  {
   "cell_type": "code",
   "execution_count": 7,
   "metadata": {},
   "outputs": [
    {
     "name": "stdout",
     "output_type": "stream",
     "text": [
      "False\n",
      "False\n",
      "False\n",
      "False\n",
      "False\n"
     ]
    },
    {
     "name": "stderr",
     "output_type": "stream",
     "text": [
      "<>:1: SyntaxWarning: \"is\" with a literal. Did you mean \"==\"?\n",
      "<>:2: SyntaxWarning: \"is\" with a literal. Did you mean \"==\"?\n",
      "<>:3: SyntaxWarning: \"is\" with a literal. Did you mean \"==\"?\n",
      "<>:4: SyntaxWarning: \"is\" with a literal. Did you mean \"==\"?\n",
      "<>:1: SyntaxWarning: \"is\" with a literal. Did you mean \"==\"?\n",
      "<>:2: SyntaxWarning: \"is\" with a literal. Did you mean \"==\"?\n",
      "<>:3: SyntaxWarning: \"is\" with a literal. Did you mean \"==\"?\n",
      "<>:4: SyntaxWarning: \"is\" with a literal. Did you mean \"==\"?\n",
      "<ipython-input-7-aaa5f47834f9>:1: SyntaxWarning: \"is\" with a literal. Did you mean \"==\"?\n",
      "  print(True is 1)\n",
      "<ipython-input-7-aaa5f47834f9>:2: SyntaxWarning: \"is\" with a literal. Did you mean \"==\"?\n",
      "  print('' is 1)\n",
      "<ipython-input-7-aaa5f47834f9>:3: SyntaxWarning: \"is\" with a literal. Did you mean \"==\"?\n",
      "  print([] is 1 )\n",
      "<ipython-input-7-aaa5f47834f9>:4: SyntaxWarning: \"is\" with a literal. Did you mean \"==\"?\n",
      "  print(10 is 10.0)\n"
     ]
    }
   ],
   "source": [
    "print(True is 1)\n",
    "print('' is 1)\n",
    "print([] is 1 )\n",
    "print(10 is 10.0)\n",
    "print([] is []) \n",
    "#is actually checks if the location and memory where both values are stored is the same."
   ]
  },
  {
   "cell_type": "code",
   "execution_count": 8,
   "metadata": {},
   "outputs": [
    {
     "name": "stdout",
     "output_type": "stream",
     "text": [
      "True\n",
      "True\n",
      "False\n"
     ]
    },
    {
     "name": "stderr",
     "output_type": "stream",
     "text": [
      "<>:2: SyntaxWarning: \"is\" with a literal. Did you mean \"==\"?\n",
      "<>:2: SyntaxWarning: \"is\" with a literal. Did you mean \"==\"?\n",
      "<ipython-input-8-ff49cff56559>:2: SyntaxWarning: \"is\" with a literal. Did you mean \"==\"?\n",
      "  print('1' is '1')\n"
     ]
    }
   ],
   "source": [
    "print(True is True)\n",
    "print('1' is '1')\n",
    "print([] is []) "
   ]
  },
  {
   "cell_type": "markdown",
   "metadata": {},
   "source": [
    "> `Every time I create a list it's added in memory somewhere.\n",
    "So this is in a location in memory but whenever I create a new list it's created in another location.\n",
    "So these are two completely different lists that live in different locations in memory.\n",
    "so it's going to check hey is this in the same memory space same bookshelf as that one.`"
   ]
  },
  {
   "cell_type": "code",
   "execution_count": 12,
   "metadata": {},
   "outputs": [
    {
     "name": "stdout",
     "output_type": "stream",
     "text": [
      "False\n",
      "True\n"
     ]
    }
   ],
   "source": [
    "print([1,2,3] is [1,2,3]) #memory check\n",
    "print([1,2,3] == [1,2,3]) #values check"
   ]
  },
  {
   "cell_type": "markdown",
   "metadata": {},
   "source": [
    "##### Exercise: (try and except)"
   ]
  },
  {
   "cell_type": "code",
   "execution_count": 4,
   "metadata": {},
   "outputs": [
    {
     "name": "stdin",
     "output_type": "stream",
     "text": [
      "Enter a number:  4\n",
      "Enter a number:  5\n",
      "Enter a number:  ij\n"
     ]
    },
    {
     "ename": "ValueError",
     "evalue": "invalid literal for int() with base 10: 'ij'",
     "output_type": "error",
     "traceback": [
      "\u001b[1;31m---------------------------------------------------------------------------\u001b[0m",
      "\u001b[1;31mValueError\u001b[0m                                Traceback (most recent call last)",
      "Cell \u001b[1;32mIn[4], line 7\u001b[0m\n\u001b[0;32m      5\u001b[0m \u001b[38;5;28;01mif\u001b[39;00m num \u001b[38;5;241m==\u001b[39m \u001b[38;5;124m\"\u001b[39m\u001b[38;5;124mdone\u001b[39m\u001b[38;5;124m\"\u001b[39m:\n\u001b[0;32m      6\u001b[0m     \u001b[38;5;28;01mbreak\u001b[39;00m\n\u001b[1;32m----> 7\u001b[0m num \u001b[38;5;241m=\u001b[39m \u001b[38;5;28mint\u001b[39m(num)\n\u001b[0;32m      8\u001b[0m \u001b[38;5;28;01mif\u001b[39;00m largest \u001b[38;5;129;01mis\u001b[39;00m \u001b[38;5;28;01mNone\u001b[39;00m \u001b[38;5;129;01mor\u001b[39;00m  num \u001b[38;5;241m>\u001b[39m largest:\n\u001b[0;32m      9\u001b[0m     largest \u001b[38;5;241m=\u001b[39m num\n",
      "\u001b[1;31mValueError\u001b[0m: invalid literal for int() with base 10: 'ij'"
     ]
    }
   ],
   "source": [
    "largest = None\n",
    "smallest = None\n",
    "while True: \n",
    "    num =input(\"Enter a number: \")\n",
    "    if num == \"done\":\n",
    "        break\n",
    "    num = int(num)\n",
    "    if largest is None or  num > largest:\n",
    "        largest = num\n",
    "    elif smallest is None or num < smallest:\n",
    "        smallest = num\n",
    "print (\"Maximum is\", largest)\n",
    "print (\"Minimum is\", smallest)"
   ]
  },
  {
   "cell_type": "code",
   "execution_count": 5,
   "metadata": {},
   "outputs": [
    {
     "name": "stdin",
     "output_type": "stream",
     "text": [
      "Enter a number:  4\n",
      "Enter a number:  5\n",
      "Enter a number:  7\n",
      "Enter a number:  778\n",
      "Enter a number:  99\n",
      "Enter a number:  77\n",
      "Enter a number:  ok\n"
     ]
    },
    {
     "name": "stdout",
     "output_type": "stream",
     "text": [
      "Invalid input\n"
     ]
    },
    {
     "name": "stdin",
     "output_type": "stream",
     "text": [
      "Enter a number:  hi\n"
     ]
    },
    {
     "name": "stdout",
     "output_type": "stream",
     "text": [
      "Invalid input\n"
     ]
    },
    {
     "name": "stdin",
     "output_type": "stream",
     "text": [
      "Enter a number:  0\n",
      "Enter a number:  done\n"
     ]
    },
    {
     "name": "stdout",
     "output_type": "stream",
     "text": [
      "Maximum is 778\n",
      "Minimum is 0\n"
     ]
    }
   ],
   "source": [
    "largest = None\n",
    "smallest = None\n",
    "while True:\n",
    "    try:\n",
    "        num =input(\"Enter a number: \")\n",
    "        if num == \"done\":\n",
    "            break\n",
    "        num = int(num)\n",
    "        if largest is None or  num > largest:\n",
    "            largest = num\n",
    "        elif smallest is None or num < smallest:\n",
    "            smallest = num\n",
    "    except ValueError:\n",
    "        print(\"Invalid input\")\n",
    "        continue\n",
    "\n",
    "print (\"Maximum is\", largest)\n",
    "print (\"Minimum is\", smallest)"
   ]
  },
  {
   "cell_type": "markdown",
   "metadata": {},
   "source": [
    "### FOR Loop:"
   ]
  },
  {
   "cell_type": "markdown",
   "metadata": {},
   "source": [
    " for loops allow us to iterate over anything that has a collection of items"
   ]
  },
  {
   "cell_type": "markdown",
   "metadata": {},
   "source": [
    "lists,dictionary,tuple,set,strings are iterable.\n",
    "iterated means that we can go one by one to check each item"
   ]
  },
  {
   "attachments": {
    "image.png": {
     "image/png": "[encoded data removed]"
    }
   },
   "cell_type": "markdown",
   "metadata": {},
   "source": [
    "for (initializationStatement; testExpression; updateStatement)\n",
    "{\n",
    "\n",
    "    // statements inside the body of loop\n",
    "    \n",
    "}\n",
    "![image.png](attachment:image.png)"
   ]
  },
  {
   "cell_type": "code",
   "execution_count": 23,
   "metadata": {},
   "outputs": [
    {
     "name": "stdout",
     "output_type": "stream",
     "text": [
      "Z\n",
      "e\n",
      "r\n",
      "o\n"
     ]
    }
   ],
   "source": [
    "for item in \"Zero\":\n",
    "    print(item)"
   ]
  },
  {
   "cell_type": "code",
   "execution_count": 3,
   "metadata": {},
   "outputs": [
    {
     "ename": "TypeError",
     "evalue": "'int' object is not iterable",
     "output_type": "error",
     "traceback": [
      "\u001b[1;31m---------------------------------------------------------------------------\u001b[0m",
      "\u001b[1;31mTypeError\u001b[0m                                 Traceback (most recent call last)",
      "\u001b[1;32m<ipython-input-3-5fb632b798e1>\u001b[0m in \u001b[0;36m<module>\u001b[1;34m\u001b[0m\n\u001b[1;32m----> 1\u001b[1;33m \u001b[1;32mfor\u001b[0m \u001b[0mitem\u001b[0m \u001b[1;32min\u001b[0m \u001b[1;36m5\u001b[0m\u001b[1;33m:\u001b[0m\u001b[1;33m\u001b[0m\u001b[1;33m\u001b[0m\u001b[0m\n\u001b[0m\u001b[0;32m      2\u001b[0m     \u001b[0mprint\u001b[0m\u001b[1;33m(\u001b[0m\u001b[1;34m\"hi\"\u001b[0m\u001b[1;33m)\u001b[0m\u001b[1;33m\u001b[0m\u001b[1;33m\u001b[0m\u001b[0m\n",
      "\u001b[1;31mTypeError\u001b[0m: 'int' object is not iterable"
     ]
    }
   ],
   "source": [
    "for item in 5:\n",
    "    print(\"hi\")"
   ]
  },
  {
   "cell_type": "code",
   "execution_count": 34,
   "metadata": {},
   "outputs": [
    {
     "name": "stdout",
     "output_type": "stream",
     "text": [
      "1\n",
      "2\n",
      "3\n"
     ]
    }
   ],
   "source": [
    "for item in [1,2,3]:\n",
    "    print(item)"
   ]
  },
  {
   "cell_type": "code",
   "execution_count": 39,
   "metadata": {},
   "outputs": [
    {
     "name": "stdout",
     "output_type": "stream",
     "text": [
      "name\n",
      "age\n",
      "('name', 'coder')\n",
      "('age', 22)\n",
      "coder\n",
      "22\n",
      "name\n",
      "age\n"
     ]
    }
   ],
   "source": [
    "user={\n",
    "    'name':\"coder\",\n",
    "    \"age\":22\n",
    "}\n",
    "for item in user:\n",
    "    print(item) #prints keys\n",
    "for item in user.items():\n",
    "    print(item)\n",
    "for item in user.values():\n",
    "    print(item)\n",
    "for item in user.keys():\n",
    "    print(item)"
   ]
  },
  {
   "cell_type": "code",
   "execution_count": 45,
   "metadata": {},
   "outputs": [
    {
     "ename": "AttributeError",
     "evalue": "'dict' object has no attribute 'item'",
     "output_type": "error",
     "traceback": [
      "\u001b[1;31m---------------------------------------------------------------------------\u001b[0m",
      "\u001b[1;31mAttributeError\u001b[0m                            Traceback (most recent call last)",
      "\u001b[1;32m<ipython-input-45-b5e784a21ad5>\u001b[0m in \u001b[0;36m<module>\u001b[1;34m\u001b[0m\n\u001b[0;32m      3\u001b[0m     \u001b[1;34m\"age\"\u001b[0m\u001b[1;33m:\u001b[0m\u001b[1;36m22\u001b[0m\u001b[1;33m\u001b[0m\u001b[1;33m\u001b[0m\u001b[0m\n\u001b[0;32m      4\u001b[0m }\n\u001b[1;32m----> 5\u001b[1;33m \u001b[1;32mfor\u001b[0m \u001b[0mitem\u001b[0m \u001b[1;32min\u001b[0m \u001b[0muser\u001b[0m\u001b[1;33m.\u001b[0m\u001b[0mitem\u001b[0m\u001b[1;33m(\u001b[0m\u001b[1;33m)\u001b[0m\u001b[1;33m:\u001b[0m\u001b[1;33m\u001b[0m\u001b[1;33m\u001b[0m\u001b[0m\n\u001b[0m\u001b[0;32m      6\u001b[0m     \u001b[0mkey\u001b[0m\u001b[1;33m,\u001b[0m\u001b[0mvalue\u001b[0m\u001b[1;33m=\u001b[0m\u001b[0mitem\u001b[0m\u001b[1;33m;\u001b[0m\u001b[1;33m\u001b[0m\u001b[1;33m\u001b[0m\u001b[0m\n\u001b[0;32m      7\u001b[0m     \u001b[0mprint\u001b[0m\u001b[1;33m(\u001b[0m\u001b[0mkey\u001b[0m\u001b[1;33m,\u001b[0m\u001b[0mvalue\u001b[0m\u001b[1;33m)\u001b[0m\u001b[1;33m\u001b[0m\u001b[1;33m\u001b[0m\u001b[0m\n",
      "\u001b[1;31mAttributeError\u001b[0m: 'dict' object has no attribute 'item'"
     ]
    }
   ],
   "source": [
    "user={\n",
    "    'name':\"coder\",\n",
    "    \"age\":22\n",
    "}\n",
    "for item in user.item():\n",
    "    key,value=item;\n",
    "    print(key,value)"
   ]
  },
  {
   "cell_type": "code",
   "execution_count": 14,
   "metadata": {},
   "outputs": [
    {
     "name": "stdout",
     "output_type": "stream",
     "text": [
      "name coder\n",
      "age 22\n"
     ]
    }
   ],
   "source": [
    "user={\n",
    "    'name':\"coder\",\n",
    "    \"age\":22\n",
    "}\n",
    "for item in user.items():\n",
    "    key,value=item;\n",
    "    print(key,value)"
   ]
  },
  {
   "cell_type": "code",
   "execution_count": 6,
   "metadata": {},
   "outputs": [
    {
     "name": "stdout",
     "output_type": "stream",
     "text": [
      "name coder\n",
      "age 22\n"
     ]
    }
   ],
   "source": [
    "user={\n",
    "    'name':\"coder\",\n",
    "    \"age\":22\n",
    "}\n",
    "for key,value in user.items():\n",
    "    print(key,value)"
   ]
  },
  {
   "cell_type": "code",
   "execution_count": 6,
   "metadata": {},
   "outputs": [
    {
     "ename": "NameError",
     "evalue": "name 'key' is not defined",
     "output_type": "error",
     "traceback": [
      "\u001b[1;31m---------------------------------------------------------------------------\u001b[0m",
      "\u001b[1;31mNameError\u001b[0m                                 Traceback (most recent call last)",
      "Cell \u001b[1;32mIn[6], line 6\u001b[0m\n\u001b[0;32m      1\u001b[0m user\u001b[38;5;241m=\u001b[39m{\n\u001b[0;32m      2\u001b[0m     \u001b[38;5;124m'\u001b[39m\u001b[38;5;124mname\u001b[39m\u001b[38;5;124m'\u001b[39m:\u001b[38;5;124m\"\u001b[39m\u001b[38;5;124mcoder\u001b[39m\u001b[38;5;124m\"\u001b[39m,\n\u001b[0;32m      3\u001b[0m     \u001b[38;5;124m\"\u001b[39m\u001b[38;5;124mage\u001b[39m\u001b[38;5;124m\"\u001b[39m:\u001b[38;5;241m22\u001b[39m\n\u001b[0;32m      4\u001b[0m }\n\u001b[0;32m      5\u001b[0m \u001b[38;5;28;01mfor\u001b[39;00m k, v \u001b[38;5;129;01min\u001b[39;00m user\u001b[38;5;241m.\u001b[39mitems():\n\u001b[1;32m----> 6\u001b[0m     \u001b[38;5;28mprint\u001b[39m(key,value)\n",
      "\u001b[1;31mNameError\u001b[0m: name 'key' is not defined"
     ]
    }
   ],
   "source": [
    "user={\n",
    "    'name':\"coder\",\n",
    "    \"age\":22\n",
    "}\n",
    "for k, v in user.items():\n",
    "    print(key,value)"
   ]
  },
  {
   "cell_type": "markdown",
   "metadata": {},
   "source": [
    "The below code block was executed after restarting the kernel... \n",
    "here key,value are not having any values as the kernel is restarted nd if the kernel is restarted all the variables will be lost.\n",
    "and as key, value are not defined here it throws error."
   ]
  },
  {
   "cell_type": "code",
   "execution_count": 2,
   "metadata": {},
   "outputs": [
    {
     "name": "stdout",
     "output_type": "stream",
     "text": [
      "name coder\n",
      "age 22\n"
     ]
    }
   ],
   "source": [
    "user={\n",
    "    'name':\"coder\",\n",
    "    \"age\":22\n",
    "}\n",
    "for k, v in user.items():\n",
    "    print(k,v)"
   ]
  },
  {
   "cell_type": "code",
   "execution_count": 31,
   "metadata": {},
   "outputs": [
    {
     "name": "stdout",
     "output_type": "stream",
     "text": [
      "1\n",
      "1\n",
      "2\n",
      "2\n"
     ]
    }
   ],
   "source": [
    "for item in [1,2]:\n",
    "    print(item)\n",
    "    print(item)"
   ]
  },
  {
   "cell_type": "code",
   "execution_count": 33,
   "metadata": {},
   "outputs": [
    {
     "name": "stdout",
     "output_type": "stream",
     "text": [
      "1 a\n",
      "1 b\n",
      "2 a\n",
      "2 b\n"
     ]
    }
   ],
   "source": [
    "for item in [1,2]:\n",
    "    for x in ['a','b']:\n",
    "        print(item,x)"
   ]
  },
  {
   "cell_type": "markdown",
   "metadata": {},
   "source": [
    "##### Exerise:"
   ]
  },
  {
   "cell_type": "code",
   "execution_count": 2,
   "metadata": {},
   "outputs": [
    {
     "name": "stdout",
     "output_type": "stream",
     "text": [
      "15\n"
     ]
    }
   ],
   "source": [
    "my_list = [1,2,3,4,5]\n",
    "counter = 0\n",
    "for i in my_list:\n",
    "    counter = counter + i\n",
    "print(counter)"
   ]
  },
  {
   "cell_type": "code",
   "execution_count": 2,
   "metadata": {},
   "outputs": [
    {
     "name": "stdout",
     "output_type": "stream",
     "text": [
      "1\n",
      "3\n",
      "6\n",
      "10\n",
      "15\n",
      "15\n"
     ]
    }
   ],
   "source": [
    "my_list = [1,2,3,4,5]\n",
    "counter = 0\n",
    "for item in my_list:\n",
    "    counter = counter + item\n",
    "    print(counter)\n",
    "print(counter)\n"
   ]
  },
  {
   "cell_type": "code",
   "execution_count": 2,
   "metadata": {},
   "outputs": [
    {
     "name": "stdout",
     "output_type": "stream",
     "text": [
      "5\n",
      "10\n",
      "15\n",
      "20\n",
      "25\n"
     ]
    }
   ],
   "source": [
    "my_list = [1,2,3,4,5]\n",
    "counter = 0\n",
    "i=5\n",
    "for item in my_list:\n",
    "    counter = counter + i\n",
    "    print(counter)"
   ]
  },
  {
   "cell_type": "markdown",
   "metadata": {},
   "source": [
    "### Range:"
   ]
  },
  {
   "cell_type": "code",
   "execution_count": 7,
   "metadata": {},
   "outputs": [
    {
     "name": "stdout",
     "output_type": "stream",
     "text": [
      "range(0, 10)\n",
      "range(0, 10)\n"
     ]
    }
   ],
   "source": [
    "print(range(10))\n",
    "print(range(0, 10))"
   ]
  },
  {
   "cell_type": "code",
   "execution_count": 6,
   "metadata": {},
   "outputs": [
    {
     "name": "stdout",
     "output_type": "stream",
     "text": [
      "0\n",
      "1\n",
      "2\n",
      "3\n",
      "4\n"
     ]
    }
   ],
   "source": [
    "for i in range(0, 5):\n",
    "    print (i)"
   ]
  },
  {
   "cell_type": "code",
   "execution_count": 8,
   "metadata": {},
   "outputs": [
    {
     "name": "stdout",
     "output_type": "stream",
     "text": [
      "0\n",
      "1\n",
      "2\n"
     ]
    }
   ],
   "source": [
    "for _ in range(0, 3):  \n",
    "    #Range(start,stop,step)., start  value included and stop value excluded\n",
    "    print (_)"
   ]
  },
  {
   "cell_type": "markdown",
   "metadata": {},
   "source": [
    "In python programs, If a programmer doesn't need variable you just do an underscore and this is just a variable.\n",
    "I mean you could use it like this and you'll still get these numbers but it just indicates to other people that hey I don't really care what this variable is."
   ]
  },
  {
   "cell_type": "code",
   "execution_count": 9,
   "metadata": {},
   "outputs": [
    {
     "name": "stdout",
     "output_type": "stream",
     "text": [
      "0\n",
      "2\n",
      "4\n",
      "6\n",
      "8\n"
     ]
    }
   ],
   "source": [
    "for _ in range(0, 10,2): \n",
    "    print(_)"
   ]
  },
  {
   "cell_type": "code",
   "execution_count": 10,
   "metadata": {},
   "outputs": [],
   "source": [
    "for i in range(0, 5,-1):\n",
    "    print (i)  # this wont work and we wont get any output"
   ]
  },
  {
   "cell_type": "code",
   "execution_count": 11,
   "metadata": {},
   "outputs": [],
   "source": [
    "for i in range(5,0):\n",
    "    print (i) # this wont work and we wont get any output"
   ]
  },
  {
   "cell_type": "code",
   "execution_count": 13,
   "metadata": {},
   "outputs": [
    {
     "name": "stdout",
     "output_type": "stream",
     "text": [
      "3\n",
      "2\n",
      "1\n"
     ]
    }
   ],
   "source": [
    "for i in range(3,0,-1):\n",
    "    # if we want to print in reverse then we should use -1 as step.\n",
    "    print (i)"
   ]
  },
  {
   "cell_type": "code",
   "execution_count": 14,
   "metadata": {},
   "outputs": [
    {
     "name": "stdout",
     "output_type": "stream",
     "text": [
      "[0, 1, 2]\n",
      "[0, 1, 2]\n"
     ]
    }
   ],
   "source": [
    "for i in range(2):\n",
    "    print(list(range(0,3)))"
   ]
  },
  {
   "cell_type": "markdown",
   "metadata": {},
   "source": [
    "### Enumerate():"
   ]
  },
  {
   "cell_type": "markdown",
   "metadata": {},
   "source": [
    "A lot of times when dealing with iterators, we also get a need to keep a count of iterations. Python eases the programmers’ task by providing a built-in function enumerate() for\n",
    "this task. Enumerate() method adds a counter to an iterable and returns it in a form of enumerate object. This enumerate object can then be used directly in for loops or be\n",
    "converted into a list of tuples using list() method.\n",
    "\n",
    "Syntax:\n",
    "\n",
    "enumerate(iterable, start=0)\n",
    "\n",
    "Parameters:\n",
    "Iterable: any object that supports iteration, \n",
    "Start: the index value from which the counter is \n",
    "              to be started, by default it is 0 "
   ]
  },
  {
   "cell_type": "code",
   "execution_count": 15,
   "metadata": {},
   "outputs": [
    {
     "name": "stdout",
     "output_type": "stream",
     "text": [
      "0 h\n",
      "1 e\n",
      "2 l\n",
      "3 l\n",
      "4 o\n",
      "5 o\n",
      "6 o\n"
     ]
    }
   ],
   "source": [
    "for i,char in enumerate(\"hellooo\"):\n",
    "    print(i,char)"
   ]
  },
  {
   "cell_type": "code",
   "execution_count": 1,
   "metadata": {},
   "outputs": [
    {
     "data": {
      "text/plain": [
       "<enumerate at 0x258296d30b0>"
      ]
     },
     "execution_count": 1,
     "metadata": {},
     "output_type": "execute_result"
    }
   ],
   "source": [
    "enumerate(\"hellooo\")"
   ]
  },
  {
   "cell_type": "code",
   "execution_count": 17,
   "metadata": {},
   "outputs": [
    {
     "name": "stdout",
     "output_type": "stream",
     "text": [
      "Return type: <class 'enumerate'>\n",
      "[(0, 'eat'), (1, 'sleep'), (2, 'repeat')]\n",
      "[(2, 'g'), (3, 'e'), (4, 'e'), (5, 'k')]\n"
     ]
    }
   ],
   "source": [
    "l1 = [\"eat\",\"sleep\",\"repeat\"] \n",
    "s1 = \"geek\"\n",
    "  \n",
    "# creating enumerate objects \n",
    "obj1 = enumerate(l1) \n",
    "obj2 = enumerate(s1) \n",
    "  \n",
    "print (\"Return type:\",type(obj1) )\n",
    "print (list(enumerate(l1)))\n",
    "  \n",
    "# changing start index to 2 from 0 \n",
    "print (list(enumerate(s1,2))) "
   ]
  },
  {
   "cell_type": "code",
   "execution_count": 18,
   "metadata": {},
   "outputs": [
    {
     "name": "stdout",
     "output_type": "stream",
     "text": [
      "0 1\n",
      "1 2\n",
      "2 3\n"
     ]
    }
   ],
   "source": [
    "for i,char  in enumerate([1,2,3]):\n",
    "    print (i,char) # we get the index along with the item present in the list.\n",
    "#enumerate is very useful if we want the index counter of the item that we are looping."
   ]
  },
  {
   "cell_type": "code",
   "execution_count": 23,
   "metadata": {},
   "outputs": [
    {
     "name": "stdout",
     "output_type": "stream",
     "text": [
      "0 0\n",
      "1 1\n",
      "2 2\n",
      "3 3\n"
     ]
    }
   ],
   "source": [
    "for i,char in enumerate(list(range(0,4))):\n",
    "    print(i,char)"
   ]
  },
  {
   "cell_type": "code",
   "execution_count": 21,
   "metadata": {},
   "outputs": [
    {
     "name": "stdout",
     "output_type": "stream",
     "text": [
      "index of 3 is 3\n"
     ]
    }
   ],
   "source": [
    "for i,char in enumerate(list(range(0,6))):\n",
    "    if char == 3:        \n",
    "        print(f'index of 3 is {i}')"
   ]
  },
  {
   "cell_type": "markdown",
   "metadata": {},
   "source": [
    "--------------"
   ]
  },
  {
   "cell_type": "code",
   "execution_count": 1,
   "metadata": {},
   "outputs": [
    {
     "data": {
      "text/plain": [
       "<enumerate at 0x213e539f180>"
      ]
     },
     "execution_count": 1,
     "metadata": {},
     "output_type": "execute_result"
    }
   ],
   "source": [
    "enumerate(\"hellooo\")"
   ]
  },
  {
   "cell_type": "code",
   "execution_count": 2,
   "metadata": {},
   "outputs": [
    {
     "data": {
      "text/plain": [
       "[(0, 'h'), (1, 'e'), (2, 'l'), (3, 'l'), (4, 'o'), (5, 'o'), (6, 'o')]"
      ]
     },
     "execution_count": 2,
     "metadata": {},
     "output_type": "execute_result"
    }
   ],
   "source": [
    "list(enumerate(\"hellooo\"))"
   ]
  },
  {
   "cell_type": "code",
   "execution_count": 3,
   "metadata": {},
   "outputs": [
    {
     "name": "stdout",
     "output_type": "stream",
     "text": [
      "(0, 'h')\n",
      "(1, 'e')\n",
      "(2, 'l')\n",
      "(3, 'l')\n",
      "(4, 'o')\n",
      "(5, 'o')\n",
      "(6, 'o')\n"
     ]
    }
   ],
   "source": [
    "for i in enumerate(\"hellooo\"):\n",
    "    print(i)"
   ]
  },
  {
   "cell_type": "code",
   "execution_count": 4,
   "metadata": {},
   "outputs": [
    {
     "name": "stdout",
     "output_type": "stream",
     "text": [
      "0 h\n",
      "1 e\n",
      "2 l\n",
      "3 l\n",
      "4 o\n"
     ]
    }
   ],
   "source": [
    "for x,y in enumerate ('hello'):\n",
    "    print(x,y)"
   ]
  },
  {
   "cell_type": "code",
   "execution_count": 5,
   "metadata": {},
   "outputs": [
    {
     "name": "stdout",
     "output_type": "stream",
     "text": [
      "0\n",
      "1\n",
      "2\n",
      "3\n",
      "4\n",
      "5\n",
      "6\n"
     ]
    }
   ],
   "source": [
    "for i,k in enumerate('krishna'):\n",
    "    print(i)"
   ]
  },
  {
   "cell_type": "code",
   "execution_count": 6,
   "metadata": {},
   "outputs": [
    {
     "name": "stdout",
     "output_type": "stream",
     "text": [
      "index of 3 is 3\n"
     ]
    }
   ],
   "source": [
    "for i,char in enumerate(list(range(0,6))):\n",
    "    if char == 3:        \n",
    "        print(f'index of 3 is {i}')"
   ]
  },
  {
   "cell_type": "code",
   "execution_count": 7,
   "metadata": {},
   "outputs": [
    {
     "data": {
      "text/plain": [
       "1"
      ]
     },
     "execution_count": 7,
     "metadata": {},
     "output_type": "execute_result"
    }
   ],
   "source": [
    "s1=\"use string searchings\"\n",
    "s1.index('s')"
   ]
  },
  {
   "cell_type": "code",
   "execution_count": 8,
   "metadata": {},
   "outputs": [
    {
     "data": {
      "text/plain": [
       "[(0, 'u'),\n",
       " (1, 's'),\n",
       " (2, 'e'),\n",
       " (3, ' '),\n",
       " (4, 's'),\n",
       " (5, 't'),\n",
       " (6, 'r'),\n",
       " (7, 'i'),\n",
       " (8, 'n'),\n",
       " (9, 'g'),\n",
       " (10, ' '),\n",
       " (11, 's'),\n",
       " (12, 'e'),\n",
       " (13, 'a'),\n",
       " (14, 'r'),\n",
       " (15, 'c'),\n",
       " (16, 'h'),\n",
       " (17, 'i'),\n",
       " (18, 'n'),\n",
       " (19, 'g'),\n",
       " (20, 's')]"
      ]
     },
     "execution_count": 8,
     "metadata": {},
     "output_type": "execute_result"
    }
   ],
   "source": [
    "s1=\"use string searchings\"\n",
    "list(enumerate(s1))"
   ]
  },
  {
   "cell_type": "markdown",
   "metadata": {},
   "source": [
    "#### Finding index with enumerate:"
   ]
  },
  {
   "cell_type": "code",
   "execution_count": 2,
   "metadata": {},
   "outputs": [
    {
     "data": {
      "text/plain": [
       "1"
      ]
     },
     "execution_count": 2,
     "metadata": {},
     "output_type": "execute_result"
    }
   ],
   "source": [
    "s1=\"use string searchings\"\n",
    "s1.index('s')"
   ]
  },
  {
   "cell_type": "code",
   "execution_count": 9,
   "metadata": {},
   "outputs": [
    {
     "name": "stdout",
     "output_type": "stream",
     "text": [
      "index of s is 1\n",
      "index of s is 4\n",
      "index of s is 11\n",
      "index of s is 20\n"
     ]
    }
   ],
   "source": [
    "s1=\"use string searchings\"\n",
    "for x,y in enumerate(s1):\n",
    "    if y == 's':\n",
    "        print(f'index of s is {x}')"
   ]
  },
  {
   "cell_type": "markdown",
   "metadata": {},
   "source": [
    "#### Length of String with enumerate:"
   ]
  },
  {
   "cell_type": "code",
   "execution_count": 10,
   "metadata": {},
   "outputs": [
    {
     "data": {
      "text/plain": [
       "8"
      ]
     },
     "execution_count": 10,
     "metadata": {},
     "output_type": "execute_result"
    }
   ],
   "source": [
    "st='learning'\n",
    "len(st)"
   ]
  },
  {
   "cell_type": "code",
   "execution_count": 11,
   "metadata": {},
   "outputs": [
    {
     "name": "stdout",
     "output_type": "stream",
     "text": [
      "length of st is 8\n"
     ]
    }
   ],
   "source": [
    "l=st.find(st[-1])+1\n",
    "print(f'length of st is {l}')"
   ]
  },
  {
   "cell_type": "code",
   "execution_count": 12,
   "metadata": {},
   "outputs": [
    {
     "name": "stdout",
     "output_type": "stream",
     "text": [
      "17\n"
     ]
    }
   ],
   "source": [
    "st='go for learninggg'\n",
    "print(len(st))"
   ]
  },
  {
   "cell_type": "code",
   "execution_count": 13,
   "metadata": {},
   "outputs": [
    {
     "name": "stdout",
     "output_type": "stream",
     "text": [
      "[0, 14, 15, 16]\n"
     ]
    }
   ],
   "source": [
    "st='go for learninggg'\n",
    "lst=[]\n",
    "for x,y in enumerate(st):\n",
    "    if y==st[-1]:\n",
    "        lst.append(x)\n",
    "print(lst)"
   ]
  },
  {
   "cell_type": "code",
   "execution_count": 14,
   "metadata": {},
   "outputs": [
    {
     "data": {
      "text/plain": [
       "[0, 14, 15, 16]"
      ]
     },
     "execution_count": 14,
     "metadata": {},
     "output_type": "execute_result"
    }
   ],
   "source": [
    "[x for x,y in enumerate(st) if y==st[-1]]"
   ]
  },
  {
   "cell_type": "code",
   "execution_count": 15,
   "metadata": {},
   "outputs": [
    {
     "data": {
      "text/plain": [
       "17"
      ]
     },
     "execution_count": 15,
     "metadata": {},
     "output_type": "execute_result"
    }
   ],
   "source": [
    "max([x for x,y in enumerate(st) if y==st[-1]])+1"
   ]
  },
  {
   "cell_type": "markdown",
   "metadata": {},
   "source": [
    "##### Length of the string using enumerate:"
   ]
  },
  {
   "cell_type": "code",
   "execution_count": 16,
   "metadata": {},
   "outputs": [
    {
     "name": "stdout",
     "output_type": "stream",
     "text": [
      "length of the string st is 17\n"
     ]
    }
   ],
   "source": [
    "st='go for learninggg'\n",
    "len_st=max([x for x,y in enumerate(st) if y==st[-1]])+1\n",
    "print(f'length of the string st is {len_st}')"
   ]
  },
  {
   "cell_type": "code",
   "execution_count": 3,
   "metadata": {},
   "outputs": [
    {
     "name": "stdout",
     "output_type": "stream",
     "text": [
      "length of the string st is 17\n"
     ]
    }
   ],
   "source": [
    "st='go for learninggg'\n",
    "for index,char in enumerate(st):\n",
    "    pass\n",
    "print(f'length of the string st is {index+1}')"
   ]
  },
  {
   "cell_type": "code",
   "execution_count": 4,
   "metadata": {},
   "outputs": [
    {
     "name": "stdout",
     "output_type": "stream",
     "text": [
      "length of the string st is 17\n"
     ]
    }
   ],
   "source": [
    "st='go for learninggg'\n",
    "for index,char in enumerate(st, start=1):\n",
    "    pass\n",
    "print(f'length of the string st is {index}')"
   ]
  },
  {
   "cell_type": "markdown",
   "metadata": {},
   "source": [
    "---------------------------"
   ]
  },
  {
   "cell_type": "markdown",
   "metadata": {},
   "source": [
    "### While Loops:"
   ]
  },
  {
   "attachments": {
    "image.png": {
     "image/png": "[encoded data removed]"
    }
   },
   "cell_type": "markdown",
   "metadata": {},
   "source": [
    "while (testExpression) \n",
    "\n",
    "{\n",
    "    \n",
    "    \n",
    "    // statements inside the body of the loop \n",
    "}\n",
    "![image.png](attachment:image.png)"
   ]
  },
  {
   "cell_type": "code",
   "execution_count": 28,
   "metadata": {},
   "outputs": [
    {
     "name": "stdout",
     "output_type": "stream",
     "text": [
      "4\n"
     ]
    }
   ],
   "source": [
    "i=4\n",
    "while i<5:\n",
    "    print (i)\n",
    "    break"
   ]
  },
  {
   "cell_type": "code",
   "execution_count": 30,
   "metadata": {},
   "outputs": [
    {
     "name": "stdout",
     "output_type": "stream",
     "text": [
      "0\n",
      "1\n",
      "2\n",
      "3\n",
      "4\n"
     ]
    }
   ],
   "source": [
    "i=0\n",
    "while i<5:\n",
    "    print (i)\n",
    "    i=i+1"
   ]
  },
  {
   "cell_type": "markdown",
   "metadata": {},
   "source": [
    " > - else block will only execute when the `while` condition is false or after `while` block execution."
   ]
  },
  {
   "cell_type": "code",
   "execution_count": 7,
   "metadata": {},
   "outputs": [
    {
     "name": "stdout",
     "output_type": "stream",
     "text": [
      "While block failed\n"
     ]
    }
   ],
   "source": [
    "i=5\n",
    "while i<3:\n",
    "    print (i)\n",
    "    i=i+1\n",
    "else:\n",
    "    print(\"While block failed\") \n",
    "#else block will only execute when the while condition is false or \n",
    "#after while blockexecution."
   ]
  },
  {
   "cell_type": "code",
   "execution_count": 8,
   "metadata": {},
   "outputs": [
    {
     "name": "stdout",
     "output_type": "stream",
     "text": [
      "0\n",
      "1\n",
      "2\n",
      "While block successfully executed\n"
     ]
    }
   ],
   "source": [
    "i=0\n",
    "while i<3:\n",
    "    print (i)\n",
    "    i=i+1\n",
    "else:\n",
    "    print(\"While block successfully executed\") \n",
    "   "
   ]
  },
  {
   "cell_type": "markdown",
   "metadata": {},
   "source": [
    "### IMP:\n",
    "Python supports to have an `else` statement associated with a loop statements.\n",
    "1. If the `else` statement is used with a `for loop`, the else statement is executed when the loop has exhausted iterating the list.\n",
    "2. If the `else` statement is used with a `while loop`, the else statement is executed when the condition becomes false or after completion of the loop. \n",
    "\n",
    ">But if there is `break` statement in the `while/for` block then `else` statement won't be executed."
   ]
  },
  {
   "cell_type": "code",
   "execution_count": 36,
   "metadata": {},
   "outputs": [
    {
     "name": "stdout",
     "output_type": "stream",
     "text": [
      "0\n",
      "1\n",
      "2\n",
      "While blocked successfully executed\n"
     ]
    }
   ],
   "source": [
    "i=0\n",
    "while i<3:\n",
    "    print (i)\n",
    "    i=i+1\n",
    "print(\"While blocked successfully executed\")"
   ]
  },
  {
   "cell_type": "code",
   "execution_count": 38,
   "metadata": {},
   "outputs": [
    {
     "name": "stdout",
     "output_type": "stream",
     "text": [
      "0\n"
     ]
    }
   ],
   "source": [
    "i=0\n",
    "while i<3:\n",
    "    print (i)\n",
    "    i=i+1\n",
    "    break\n",
    "else:                         \n",
    "#else block will only execute when the while condition is false,\n",
    "#but when break statement is there with while, else wont be executed. \n",
    "    print(\"While blocked successfully executed\")"
   ]
  },
  {
   "cell_type": "code",
   "execution_count": 37,
   "metadata": {},
   "outputs": [
    {
     "name": "stdout",
     "output_type": "stream",
     "text": [
      "0\n",
      "While blocked successfully executed\n"
     ]
    }
   ],
   "source": [
    "i=0\n",
    "while i<3:\n",
    "    print (i)\n",
    "    i=i+1\n",
    "    break\n",
    "print(\"While blocked successfully executed\")"
   ]
  },
  {
   "cell_type": "code",
   "execution_count": 42,
   "metadata": {},
   "outputs": [
    {
     "name": "stdout",
     "output_type": "stream",
     "text": [
      "1\n",
      "2\n",
      "3\n",
      "x\n"
     ]
    }
   ],
   "source": [
    "for i in [1,2,3]:\n",
    "    print(i)\n",
    "else:\n",
    "    print('x')"
   ]
  },
  {
   "cell_type": "code",
   "execution_count": 43,
   "metadata": {},
   "outputs": [
    {
     "name": "stdout",
     "output_type": "stream",
     "text": [
      "1\n"
     ]
    }
   ],
   "source": [
    "for i in [1,2,3]:\n",
    "    print(i)\n",
    "    break\n",
    "else:\n",
    "    print('x')"
   ]
  },
  {
   "cell_type": "code",
   "execution_count": 44,
   "metadata": {},
   "outputs": [
    {
     "name": "stdout",
     "output_type": "stream",
     "text": [
      "1\n",
      "x\n"
     ]
    }
   ],
   "source": [
    "for i in [1,2,3]:\n",
    "    print(i)\n",
    "    break\n",
    "print('x')"
   ]
  },
  {
   "cell_type": "code",
   "execution_count": 45,
   "metadata": {},
   "outputs": [
    {
     "name": "stdout",
     "output_type": "stream",
     "text": [
      "1\n",
      "2\n",
      "3\n"
     ]
    }
   ],
   "source": [
    "my_list=[1,2,3]\n",
    "for i in my_list:\n",
    "    print (i)"
   ]
  },
  {
   "cell_type": "code",
   "execution_count": 1,
   "metadata": {},
   "outputs": [
    {
     "name": "stdout",
     "output_type": "stream",
     "text": [
      "1\n",
      "2\n",
      "3\n"
     ]
    }
   ],
   "source": [
    "my_list=[1,2,3]\n",
    "i=0\n",
    "while i<len(my_list):\n",
    "    print(my_list[i])\n",
    "    i=i+1"
   ]
  },
  {
   "cell_type": "code",
   "execution_count": null,
   "metadata": {},
   "outputs": [
    {
     "name": "stdout",
     "output_type": "stream",
     "text": [
      "Say Something: hi\n",
      "Say Something: hi\n"
     ]
    }
   ],
   "source": [
    "while True:\n",
    "    input(\"Say Something: \")"
   ]
  },
  {
   "cell_type": "code",
   "execution_count": 3,
   "metadata": {},
   "outputs": [
    {
     "name": "stdout",
     "output_type": "stream",
     "text": [
      "Say Something: hi\n",
      "Say Something: hi\n",
      "Say Something: bye\n"
     ]
    }
   ],
   "source": [
    "while True:\n",
    "    response=input(\"Say Something: \")\n",
    "    if (response=='bye'):\n",
    "        break"
   ]
  },
  {
   "cell_type": "markdown",
   "metadata": {},
   "source": [
    "### break,continue,pass:"
   ]
  },
  {
   "cell_type": "markdown",
   "metadata": {},
   "source": [
    "When we use the `break` segment it breaks out and closes loop. So when we used a break statement we broke out of this loop.\n",
    "The break statement in Python terminates the current loop and resumes execution at the next statement, just like the traditional break found in C.\n",
    "The most common use for break is when some external condition is triggered requiring a hasty exit from a loop. The break statement can be used in both while and for loops.\n",
    "\n",
    "When the interpreter executes the `continue`, the interpreter immediately goes to top of the loop, leaving all the code block below the continue statement.\n",
    "The continue statement in Python returns the control to the beginning of the while loop. \n",
    "The continue statement rejects all the remaining statements in the current iteration of the loop and moves the control back to the top of the loop. \n",
    "The continue statement can be used in both while and for loops.\n",
    "\n",
    "The `pass` statement in Python is used when a statement is required syntactically but you do not want any command or code to execute.\n",
    "The pass statement is a null operation; nothing happens when it executes. \n",
    "The pass is also useful in places where your code will eventually go, but has not been written yet (e.g., in stubs for example):\n"
   ]
  },
  {
   "cell_type": "code",
   "execution_count": 7,
   "metadata": {},
   "outputs": [
    {
     "name": "stdout",
     "output_type": "stream",
     "text": [
      "1\n",
      "2\n",
      "3\n",
      "0\n",
      "1\n",
      "2\n"
     ]
    }
   ],
   "source": [
    "for i in [1,2,3]:\n",
    "    print(i)\n",
    "\n",
    "i=0\n",
    "while i<3:\n",
    "    print (i)\n",
    "    i=i+1"
   ]
  },
  {
   "cell_type": "code",
   "execution_count": 8,
   "metadata": {},
   "outputs": [
    {
     "name": "stdout",
     "output_type": "stream",
     "text": [
      "1\n",
      "0\n"
     ]
    }
   ],
   "source": [
    "for i in [1,2,3]:\n",
    "    print(i)       #loop doesnt iterate\n",
    "    break     #breaks the loops and closes the for loop\n",
    "                         \n",
    "i=0\n",
    "while i<3:\n",
    "    print (i)\n",
    "    i=i+1                     #loop doesnt iterate\n",
    "    break     #breaks the loops and closes the while loop"
   ]
  },
  {
   "cell_type": "code",
   "execution_count": 3,
   "metadata": {},
   "outputs": [],
   "source": [
    "for i in [1,2,3]:  #here loop iterates but the print statement doesn't execute\n",
    "    continue     \n",
    "    print(i)                                                                          "
   ]
  },
  {
   "cell_type": "code",
   "execution_count": 4,
   "metadata": {},
   "outputs": [
    {
     "ename": "KeyboardInterrupt",
     "evalue": "",
     "output_type": "error",
     "traceback": [
      "\u001b[1;31m---------------------------------------------------------------------------\u001b[0m",
      "\u001b[1;31mKeyboardInterrupt\u001b[0m                         Traceback (most recent call last)",
      "Cell \u001b[1;32mIn[4], line 3\u001b[0m\n\u001b[0;32m      1\u001b[0m i\u001b[38;5;241m=\u001b[39m\u001b[38;5;241m0\u001b[39m\n\u001b[0;32m      2\u001b[0m \u001b[38;5;28;01mwhile\u001b[39;00m i\u001b[38;5;241m<\u001b[39m\u001b[38;5;241m3\u001b[39m:      \u001b[38;5;66;03m#here loop iterate\u001b[39;00m\n\u001b[1;32m----> 3\u001b[0m     \u001b[38;5;28;01mcontinue\u001b[39;00m\n\u001b[0;32m      4\u001b[0m     \u001b[38;5;28mprint\u001b[39m (i)\n\u001b[0;32m      5\u001b[0m     i\u001b[38;5;241m=\u001b[39mi\u001b[38;5;241m+\u001b[39m\u001b[38;5;241m1\u001b[39m\n",
      "\u001b[1;31mKeyboardInterrupt\u001b[0m: "
     ]
    }
   ],
   "source": [
    "i=0\n",
    "while i<3:      #here loop iterate\n",
    "    continue\n",
    "    print (i)\n",
    "    i=i+1   \n",
    "#here i values never increments hence i=0 and i will always be less than 3."
   ]
  },
  {
   "cell_type": "code",
   "execution_count": 5,
   "metadata": {},
   "outputs": [
    {
     "ename": "IndentationError",
     "evalue": "expected an indented block (<ipython-input-5-c721dbcaa781>, line 3)",
     "output_type": "error",
     "traceback": [
      "\u001b[1;36m  File \u001b[1;32m\"<ipython-input-5-c721dbcaa781>\"\u001b[1;36m, line \u001b[1;32m3\u001b[0m\n\u001b[1;33m    i=0\u001b[0m\n\u001b[1;37m    ^\u001b[0m\n\u001b[1;31mIndentationError\u001b[0m\u001b[1;31m:\u001b[0m expected an indented block\n"
     ]
    }
   ],
   "source": [
    "for i in [1,2,3]:  #here loop iterate\n",
    "                          #if the statement here is left                    \n",
    "i=0\n",
    "while i<3:      #here loop iterate\n",
    "    print (i)\n",
    "    i=i+1                       "
   ]
  },
  {
   "cell_type": "code",
   "execution_count": 12,
   "metadata": {},
   "outputs": [
    {
     "ename": "SyntaxError",
     "evalue": "unexpected EOF while parsing (<ipython-input-12-e6386936a847>, line 3)",
     "output_type": "error",
     "traceback": [
      "\u001b[1;36m  File \u001b[1;32m\"<ipython-input-12-e6386936a847>\"\u001b[1;36m, line \u001b[1;32m3\u001b[0m\n\u001b[1;33m    #      n general we write a loop and if we dont know what to wite in the block we can use pass and execute for now, when we get idea we can write that code in the loop.\u001b[0m\n\u001b[1;37m                                                                                                                                                                            ^\u001b[0m\n\u001b[1;31mSyntaxError\u001b[0m\u001b[1;31m:\u001b[0m unexpected EOF while parsing\n"
     ]
    }
   ],
   "source": [
    "for i in [1,2,3]:      \n",
    "# if the statement here is not writtern ,error occurs.\n",
    "#so to overcome this situation we use pass.\n",
    "#in general we write a loop and if we dont know what to wite in the block \n",
    "#we can use pass\n",
    "#and execute for now, when we get idea we can write that code in the loop."
   ]
  },
  {
   "cell_type": "code",
   "execution_count": 2,
   "metadata": {},
   "outputs": [
    {
     "name": "stdout",
     "output_type": "stream",
     "text": [
      "0\n",
      "1\n",
      "2\n"
     ]
    }
   ],
   "source": [
    "for i in [1,2,3]: \n",
    "         pass\n",
    "                                               \n",
    "i=0\n",
    "while i<3: \n",
    "    print (i)\n",
    "    i=i+1                       "
   ]
  },
  {
   "cell_type": "code",
   "execution_count": 2,
   "metadata": {},
   "outputs": [
    {
     "name": "stdout",
     "output_type": "stream",
     "text": [
      "Current Letter : P\n",
      "Current Letter : y\n",
      "Current Letter : t\n",
      "Current variable value : 10\n",
      "Current variable value : 9\n",
      "Current variable value : 8\n",
      "Current variable value : 7\n",
      "Current variable value : 6\n"
     ]
    }
   ],
   "source": [
    "for letter in 'Python':     # First Example\n",
    "    if letter == 'h':\n",
    "        break\n",
    "    print('Current Letter :', letter) \n",
    "\n",
    "var = 10                    # Second Example\n",
    "while var > 0:\n",
    "    print ('Current variable value :', var)\n",
    "    var = var -1\n",
    "    if var == 5:\n",
    "        break"
   ]
  },
  {
   "cell_type": "code",
   "execution_count": 19,
   "metadata": {},
   "outputs": [
    {
     "name": "stdout",
     "output_type": "stream",
     "text": [
      "Current Letter : P\n",
      "Current Letter : y\n",
      "Current Letter : t\n",
      "Current Letter : o\n",
      "Current Letter : n\n",
      "Current variable value : 4\n",
      "Current variable value : 2\n",
      "Current variable value : 1\n",
      "Current variable value : 0\n"
     ]
    }
   ],
   "source": [
    "for letter in 'Python':     # First Example\n",
    "   if letter == 'h':\n",
    "      continue\n",
    "   print('Current Letter :', letter) \n",
    "\n",
    "var = 5                   # Second Example\n",
    "while var > 0:              \n",
    "   var = var -1\n",
    "   if var == 3:\n",
    "        continue\n",
    "   print ('Current variable value :', var)"
   ]
  },
  {
   "cell_type": "code",
   "execution_count": 2,
   "metadata": {},
   "outputs": [
    {
     "name": "stdout",
     "output_type": "stream",
     "text": [
      "Current Letter : P\n",
      "Current Letter : y\n",
      "Current Letter : t\n",
      "This is pass block\n",
      "Current Letter : h\n",
      "Current Letter : o\n",
      "Current Letter : n\n"
     ]
    }
   ],
   "source": [
    "for letter in 'Python': \n",
    "   if letter == 'h':\n",
    "      pass\n",
    "      print ('This is pass block')\n",
    "   print ('Current Letter :', letter)"
   ]
  },
  {
   "cell_type": "markdown",
   "metadata": {},
   "source": [
    "The preceding code does not execute any statement or code if the value of letter is 'h'. \n",
    "The pass statement is helpful when you have created a code block but it is no longer required.\n",
    "You can then remove the statements inside the block but let the block remain with a pass statement \n",
    "So that it doesn't interfere with other parts of the code."
   ]
  },
  {
   "cell_type": "markdown",
   "metadata": {},
   "source": [
    "### GUI:"
   ]
  },
  {
   "cell_type": "code",
   "execution_count": 3,
   "metadata": {},
   "outputs": [
    {
     "name": "stdout",
     "output_type": "stream",
     "text": [
      " \n",
      " \n",
      " \n",
      "*\n",
      " \n",
      " \n",
      " \n",
      " \n",
      " \n",
      "*\n",
      "*\n",
      "*\n",
      " \n",
      " \n",
      " \n",
      "*\n",
      "*\n",
      "*\n",
      "*\n",
      "*\n",
      " \n",
      "*\n",
      "*\n",
      "*\n",
      "*\n",
      "*\n",
      "*\n",
      "*\n",
      " \n",
      " \n",
      " \n",
      "*\n",
      " \n",
      " \n",
      " \n",
      " \n",
      " \n",
      " \n",
      "*\n",
      " \n",
      " \n",
      " \n"
     ]
    }
   ],
   "source": [
    "#Exercise!\n",
    "#Display the image  where the 0 is going to be ' ', and the 1 is going to be '*'.\n",
    "#This will reveal an image!\n",
    "picture = [\n",
    "  [0,0,0,1,0,0,0],\n",
    "  [0,0,1,1,1,0,0],\n",
    "  [0,1,1,1,1,1, 0],\n",
    "  [1,1,1,1,1,1,1],\n",
    "  [0,0,0,1,0,0,0],\n",
    "  [0,0,0,1,0,0,0]\n",
    "]\n",
    "\n",
    "for row in picture:\n",
    "  for pixel in row:\n",
    "    if (pixel==1):\n",
    "      print('*')\n",
    "    else:\n",
    "      print(' ')"
   ]
  },
  {
   "cell_type": "code",
   "execution_count": 43,
   "metadata": {},
   "outputs": [
    {
     "name": "stdout",
     "output_type": "stream",
     "text": [
      "   *     ***   ***** *******   *      *   "
     ]
    }
   ],
   "source": [
    "\n",
    "picture = [\n",
    "  [0,0,0,1,0,0,0],\n",
    "  [0,0,1,1,1,0,0],\n",
    "  [0,1,1,1,1,1,0],\n",
    "  [1,1,1,1,1,1,1],\n",
    "  [0,0,0,1,0,0,0],\n",
    "  [0,0,0,1,0,0,0]\n",
    "]\n",
    "\n",
    "for row in picture:\n",
    "  for pixel in row:\n",
    "    if (pixel==1):\n",
    "      print('*', end =\"\")\n",
    "    else:\n",
    "      print(' ', end =\"\")"
   ]
  },
  {
   "cell_type": "code",
   "execution_count": 4,
   "metadata": {},
   "outputs": [
    {
     "name": "stdout",
     "output_type": "stream",
     "text": [
      "      *      \n",
      "    ***    \n",
      "  *****  \n",
      "*******\n",
      "      *      \n",
      "      *      \n"
     ]
    }
   ],
   "source": [
    "picture = [\n",
    "  [0,0,0,1,0,0,0],\n",
    "  [0,0,1,1,1,0,0],\n",
    "  [0,1,1,1,1,1,0],\n",
    "  [1,1,1,1,1,1,1],\n",
    "  [0,0,0,1,0,0,0],\n",
    "  [0,0,0,1,0,0,0]\n",
    "]\n",
    "for row in picture:\n",
    "  for pixel in row:\n",
    "    if (pixel):\n",
    "      print('*', end =\"\")\n",
    "    else:\n",
    "      print('  ', end =\"\")\n",
    "  print('')#we need to write this print statement as we need print the next row in new line.\n",
    "#because print() bydefault prints in new line, so its enough to just write print('') to get a new line"
   ]
  },
  {
   "cell_type": "code",
   "execution_count": 7,
   "metadata": {},
   "outputs": [
    {
     "name": "stdout",
     "output_type": "stream",
     "text": [
      "   *   \n",
      "  ***  \n",
      " ***** \n",
      "*******\n",
      "   *   \n",
      "   *   \n"
     ]
    }
   ],
   "source": [
    "picture = [\n",
    "  [0,0,0,1,0,0,0],\n",
    "  [0,0,1,1,1,0,0],\n",
    "  [0,1,1,1,1,1,0],\n",
    "  [1,1,1,1,1,1,1],\n",
    "  [0,0,0,1,0,0,0],\n",
    "  [0,0,0,1,0,0,0]\n",
    "]\n",
    "\n",
    "for row in picture:\n",
    "  for pixel in row:\n",
    "    if (pixel==1):\n",
    "      print('*', end=\"\")\n",
    "    else:\n",
    "      print(' ', end=\"\") #space in the print statment also matters\n",
    "  print('')"
   ]
  },
  {
   "cell_type": "markdown",
   "metadata": {},
   "source": [
    "### Python end parameter in print():"
   ]
  },
  {
   "cell_type": "markdown",
   "metadata": {},
   "source": [
    "Python’s `print()` function comes with a parameter called `end`. \n",
    "By default, the value of this parameter is `\\n`, i.e. the new line character. You can end a print statement with any character/string using this parameter.\n",
    "\n",
    "By default python’s print() function ends with a newline. A programmer with C/C++ background may wonder how to print without newline.\n",
    "\n",
    "https://www.geeksforgeeks.org/gfact-50-python-end-parameter-in-print/\n",
    "\n",
    "https://www.studytonight.com/post/the-sep-and-end-parameters-in-python-print-statement"
   ]
  },
  {
   "cell_type": "code",
   "execution_count": 8,
   "metadata": {},
   "outputs": [
    {
     "name": "stdout",
     "output_type": "stream",
     "text": [
      "Welcome to\n",
      "GeeksforGeeks\n"
     ]
    }
   ],
   "source": [
    "print(\"Welcome to\")  \n",
    "print(\"GeeksforGeeks\")  "
   ]
  },
  {
   "cell_type": "code",
   "execution_count": 24,
   "metadata": {},
   "outputs": [
    {
     "name": "stdout",
     "output_type": "stream",
     "text": [
      "Welcome to GeeksforGeeks "
     ]
    }
   ],
   "source": [
    "# ends the output with a <space>  \n",
    "print(\"Welcome to\" , end = ' ')  \n",
    "print(\"GeeksforGeeks\", end = ' ') "
   ]
  },
  {
   "cell_type": "markdown",
   "metadata": {},
   "source": [
    "##### Exercise:"
   ]
  },
  {
   "cell_type": "code",
   "execution_count": 61,
   "metadata": {},
   "outputs": [
    {
     "name": "stdout",
     "output_type": "stream",
     "text": [
      "['b', 'b', 'n', 'n']\n"
     ]
    }
   ],
   "source": [
    "#Check for duplicates in the list:\n",
    "some_list = ['a', 'b', 'c', 'b', 'd', 'm', 'n', 'n']\n",
    "duplicates = []\n",
    "for value in some_list:\n",
    "    if some_list.count(value) > 1:\n",
    "            duplicates.append(value)\n",
    "\n",
    "print(duplicates)"
   ]
  },
  {
   "cell_type": "code",
   "execution_count": 44,
   "metadata": {},
   "outputs": [
    {
     "name": "stdout",
     "output_type": "stream",
     "text": [
      "['b', 'n']\n"
     ]
    }
   ],
   "source": [
    "#Check for duplicates in the list:\n",
    "some_list = ['a', 'b', 'c', 'b', 'd', 'm', 'n', 'n']\n",
    "\n",
    "duplicates = []\n",
    "for value in some_list:\n",
    "    if some_list.count(value) > 1:\n",
    "        if value not in duplicates:\n",
    "            duplicates.append(value)\n",
    "\n",
    "print(duplicates)"
   ]
  },
  {
   "cell_type": "code",
   "execution_count": 51,
   "metadata": {},
   "outputs": [
    {
     "name": "stdout",
     "output_type": "stream",
     "text": [
      "b\n",
      "n\n"
     ]
    }
   ],
   "source": [
    "some_list = ['a', 'b', 'c', 'b', 'd', 'm', 'n', 'n']\n",
    "x=len(some_list)\n",
    "for i in range(x): \n",
    "    k = i + 1\n",
    "    for j in range(k, x): \n",
    "        if some_list[i] == some_list[j]:\n",
    "            print(some_list[i]) \n",
    "  "
   ]
  },
  {
   "cell_type": "code",
   "execution_count": 59,
   "metadata": {},
   "outputs": [
    {
     "name": "stdout",
     "output_type": "stream",
     "text": [
      "['b', 'n']\n"
     ]
    }
   ],
   "source": [
    "repeated=[]\n",
    "some_list = ['a', 'b', 'c', 'b', 'd', 'm', 'n', 'n']\n",
    "x=len(some_list)\n",
    "for i in range(x): \n",
    "    k = i + 1\n",
    "    for j in range(k, x): \n",
    "        if some_list[i] == some_list[j]:\n",
    "            repeated.append(some_list[i]) \n",
    "print(repeated )"
   ]
  },
  {
   "cell_type": "code",
   "execution_count": 60,
   "metadata": {},
   "outputs": [
    {
     "name": "stdout",
     "output_type": "stream",
     "text": [
      "['b', 'n']\n"
     ]
    }
   ],
   "source": [
    "repeated=[]\n",
    "some_list = ['a', 'b', 'c', 'b', 'd', 'm', 'n', 'n']\n",
    "x=len(some_list)\n",
    "for i in range(x): \n",
    "    k = i + 1\n",
    "    for j in range(k, x): \n",
    "        if some_list[i] == some_list[j] and some_list[i] not in repeated :\n",
    "            repeated.append(some_list[i]) \n",
    "print(repeated )"
   ]
  },
  {
   "cell_type": "markdown",
   "metadata": {},
   "source": [
    "### Functions:"
   ]
  },
  {
   "cell_type": "code",
   "execution_count": 62,
   "metadata": {},
   "outputs": [
    {
     "name": "stdout",
     "output_type": "stream",
     "text": [
      "Programming language\n"
     ]
    }
   ],
   "source": [
    "def python():\n",
    "    print(\"Programming language\")\n",
    "\n",
    "python()"
   ]
  },
  {
   "cell_type": "code",
   "execution_count": 63,
   "metadata": {},
   "outputs": [],
   "source": [
    "def duplicates():\n",
    "    repeated=[]\n",
    "    some_list = ['a', 'b', 'c', 'b', 'd', 'm', 'n', 'n']\n",
    "    x=len(some_list)\n",
    "    for i in range(x): \n",
    "        k = i + 1\n",
    "        for j in range(k, x): \n",
    "            if some_list[i] == some_list[j] and some_list[i] not in repeated :\n",
    "                repeated.append(some_list[i]) \n",
    "    print(repeated )"
   ]
  },
  {
   "cell_type": "code",
   "execution_count": 64,
   "metadata": {},
   "outputs": [
    {
     "name": "stdout",
     "output_type": "stream",
     "text": [
      "['b', 'n']\n"
     ]
    }
   ],
   "source": [
    "duplicates()"
   ]
  },
  {
   "cell_type": "code",
   "execution_count": 67,
   "metadata": {},
   "outputs": [
    {
     "name": "stdout",
     "output_type": "stream",
     "text": [
      "<function duplicates at 0x000000C6FE1D7558>\n"
     ]
    }
   ],
   "source": [
    "print(duplicates)  # gives the location where the function is stored."
   ]
  },
  {
   "cell_type": "markdown",
   "metadata": {},
   "source": [
    "---------------------"
   ]
  },
  {
   "cell_type": "markdown",
   "metadata": {},
   "source": [
    "### Call by Object Reference in Python"
   ]
  },
  {
   "cell_type": "markdown",
   "metadata": {},
   "source": [
    "In Python, we have `call by object reference` not call by value or call in reference "
   ]
  },
  {
   "cell_type": "markdown",
   "metadata": {},
   "source": [
    "https://medium.com/@lokeshsharma596/is-python-call-by-value-or-call-by-reference-2dd7db74dbd0"
   ]
  },
  {
   "cell_type": "markdown",
   "metadata": {},
   "source": [
    "Python uses a mechanism that is often called \"call by object reference\" or \"call by sharing.\" This means that when you pass an argument to a function in Python, you are actually passing a reference to the object, not the object itself. However, this behavior can sometimes resemble both call by reference and call by value, depending on how you look at it.\n",
    "\n",
    "In Python:\n",
    "- Immutable objects like integers, floats, strings, and tuples are essentially passed by value. Changes made to these objects within a function do not affect the original objects outside the function.\n",
    "- Mutable objects like lists and dictionaries are passed by reference. Changes made to these objects within a function can affect the original objects outside the function.\n",
    "\n",
    "Let's illustrate this with examples:\n",
    "\n",
    "Passing an integer (immutable):\n",
    "```python\n",
    "def modify_int(x):\n",
    "    x += 1\n",
    "\n",
    "num = 10\n",
    "modify_int(num)\n",
    "print(num)  # Output: 10\n",
    "```\n",
    "Here, the integer `num` remains unchanged because integers are immutable.\n",
    "\n",
    "Passing a list (mutable):\n",
    "```python\n",
    "def modify_list(lst):\n",
    "    lst.append(4)\n",
    "\n",
    "my_list = [1, 2, 3]\n",
    "modify_list(my_list)\n",
    "print(my_list)  # Output: [1, 2, 3, 4]\n",
    "```\n",
    "In this case, the list is modified within the function and the changes are reflected outside as well.\n",
    "\n",
    "So, while Python's behavior can be described as \"call by object reference,\" the distinction between call by reference and call by value becomes less clear due to the different behaviors of mutable and immutable objects."
   ]
  },
  {
   "cell_type": "code",
   "execution_count": 5,
   "metadata": {},
   "outputs": [
    {
     "name": "stdout",
     "output_type": "stream",
     "text": [
      "befoer function call: 10\n",
      "after function call: 10\n",
      "10\n"
     ]
    }
   ],
   "source": [
    "def modify_int(x):\n",
    "    x += 1\n",
    "\n",
    "num = 10\n",
    "print(f'before function call: {num}')\n",
    "modify_int(num)\n",
    "print(f'after function call: {num}')\n",
    "print(num)  # Output: 10"
   ]
  },
  {
   "cell_type": "code",
   "execution_count": 6,
   "metadata": {},
   "outputs": [
    {
     "name": "stdout",
     "output_type": "stream",
     "text": [
      "before function call: [1, 2, 3]\n",
      "before function call: [1, 2, 3, 4]\n",
      "[1, 2, 3, 4]\n"
     ]
    }
   ],
   "source": [
    "def modify_list(lst):\n",
    "    lst.append(4)\n",
    "\n",
    "my_list = [1, 2, 3]\n",
    "print(f'before function call: {my_list}')\n",
    "modify_list(my_list)\n",
    "print(f'before function call: {my_list}')\n",
    "print(my_list)  # Output: [1, 2, 3, 4]"
   ]
  },
  {
   "cell_type": "code",
   "execution_count": 32,
   "metadata": {},
   "outputs": [
    {
     "name": "stdout",
     "output_type": "stream",
     "text": [
      "15 2284391629488\n",
      "10 2284391629328\n"
     ]
    }
   ],
   "source": [
    "def val(x):\n",
    "    x=15\n",
    "    print(x,id(x))\n",
    "x=10\n",
    "val(x)\n",
    "print(x,id(x))"
   ]
  },
  {
   "cell_type": "code",
   "execution_count": 33,
   "metadata": {},
   "outputs": [
    {
     "name": "stdout",
     "output_type": "stream",
     "text": [
      "[1, 2, 3] 2284502668096\n",
      "[1, 2, 3, 4] 2284502668096\n"
     ]
    }
   ],
   "source": [
    "lst=[1,2,3]\n",
    "def val(lst):\n",
    "    lst.append(4)\n",
    "    print(lst,id(lst))\n",
    "lst=[1,2,3]\n",
    "print(lst,id(lst))\n",
    "val(lst)"
   ]
  },
  {
   "cell_type": "code",
   "execution_count": 1,
   "metadata": {},
   "outputs": [
    {
     "name": "stdout",
     "output_type": "stream",
     "text": [
      "[1, 2, 3, 4] 2797341937792\n",
      "[1, 2, 3, 4] 2797341937792\n"
     ]
    }
   ],
   "source": [
    "lst=[1,2,3]\n",
    "def val(lst):\n",
    "    lst.append(4)\n",
    "    print(lst,id(lst))\n",
    "lst=[1,2,3]\n",
    "val(lst)\n",
    "print(lst,id(lst))"
   ]
  },
  {
   "cell_type": "code",
   "execution_count": 34,
   "metadata": {},
   "outputs": [
    {
     "name": "stdout",
     "output_type": "stream",
     "text": [
      "[1, 2, 3, 4]\n"
     ]
    }
   ],
   "source": [
    "def modify_list(my_list):\n",
    "    my_list.append(4)\n",
    "\n",
    "my_list = [1, 2, 3]\n",
    "modify_list(my_list)\n",
    "print(my_list)  # Output: [1, 2, 3, 4]\n"
   ]
  },
  {
   "cell_type": "code",
   "execution_count": 35,
   "metadata": {},
   "outputs": [
    {
     "name": "stdout",
     "output_type": "stream",
     "text": [
      "[1, 2, 3, 4]\n"
     ]
    }
   ],
   "source": [
    "def mlist(lst):\n",
    "    lst.append(4)\n",
    "lst=[1,2,3]\n",
    "mlist(lst)\n",
    "print(lst)"
   ]
  },
  {
   "cell_type": "code",
   "execution_count": 36,
   "metadata": {},
   "outputs": [
    {
     "name": "stdout",
     "output_type": "stream",
     "text": [
      "[1, 2, 3, 4]\n",
      "[1, 2, 3, 4]\n"
     ]
    }
   ],
   "source": [
    "def mlist(lst):\n",
    "    lst.append(4)\n",
    "    print(lst)\n",
    "lst=[1,2,3]\n",
    "mlist(lst)\n",
    "print(lst)"
   ]
  },
  {
   "cell_type": "code",
   "execution_count": 37,
   "metadata": {},
   "outputs": [
    {
     "name": "stdout",
     "output_type": "stream",
     "text": [
      "11\n",
      "10\n"
     ]
    }
   ],
   "source": [
    "def modify_int(x):\n",
    "    x += 1\n",
    "    print(x)\n",
    "num = 10\n",
    "modify_int(num)\n",
    "print(num)  # Output: 10"
   ]
  },
  {
   "cell_type": "code",
   "execution_count": 2,
   "metadata": {},
   "outputs": [
    {
     "name": "stdout",
     "output_type": "stream",
     "text": [
      "10\n",
      "11\n"
     ]
    }
   ],
   "source": [
    "def modify_int(x):\n",
    "    x += 1\n",
    "    print(x)\n",
    "num = 10\n",
    "print(num)  # Output: 10\n",
    "modify_int(num)"
   ]
  },
  {
   "cell_type": "code",
   "execution_count": 38,
   "metadata": {},
   "outputs": [
    {
     "name": "stdout",
     "output_type": "stream",
     "text": [
      "[1, 2, 3, 4] 2284502635264\n",
      "[1, 2, 3, 4] 2284502635264\n",
      "11 2284391629360\n",
      "10 2284391629328\n"
     ]
    }
   ],
   "source": [
    "#Mutable objects\n",
    "def mlist(lst):\n",
    "    lst.append(4)\n",
    "    print(lst,id(lst))\n",
    "lst=[1,2,3]\n",
    "mlist(lst)\n",
    "print(lst,id(lst))\n",
    "\n",
    "\n",
    "#immutable objects\n",
    "def modify_int(num):\n",
    "    num += 1\n",
    "    print(num,id(num))\n",
    "num = 10\n",
    "modify_int(num)\n",
    "print(num,id(num))  # Output: 10\n"
   ]
  },
  {
   "cell_type": "markdown",
   "metadata": {},
   "source": [
    "-----"
   ]
  },
  {
   "cell_type": "markdown",
   "metadata": {},
   "source": [
    "### Parameters and Arguments(Call and Invoke) :"
   ]
  },
  {
   "cell_type": "markdown",
   "metadata": {},
   "source": [
    "- Parameters are used when we define the function and arguments are used when we call the function defined\n",
    "\n",
    "- Arguments are used as the actual values we provide to a function., \n",
    ">arguments are the actual value we provide to the function and the name of the variables\n",
    "that we use that we receive are called parameters.\n",
    "\n",
    ">When a function is called, the values that are passed during the call are called as arguments. \n",
    "The values which are defined at the time of the function prototype or definition of the function are called as parameters.\n",
    "\n",
    " - During the time of call, each argument is always assigned to the parameter in the function definition."
   ]
  },
  {
   "cell_type": "markdown",
   "metadata": {},
   "source": [
    "#### Positional Arguments:"
   ]
  },
  {
   "cell_type": "code",
   "execution_count": 1,
   "metadata": {},
   "outputs": [
    {
     "name": "stdout",
     "output_type": "stream",
     "text": [
      "python - version 3.7 is really cool\n",
      "conda - version 2.4 is really cool\n"
     ]
    }
   ],
   "source": [
    "#parameters\n",
    "def coding(language,version):   # here langauge and version are parameters\n",
    "    print(f'{language} - version {version} is really cool')\n",
    "    \n",
    "#arguments\n",
    "coding('python',3.7) #python and 3.7 are arguments\n",
    "coding('conda',2.4)"
   ]
  },
  {
   "cell_type": "code",
   "execution_count": 2,
   "metadata": {},
   "outputs": [
    {
     "name": "stdout",
     "output_type": "stream",
     "text": [
      "Enter language: Python\n",
      "Enter version: 3.7\n",
      "Python - version 3.7 is really cool\n"
     ]
    }
   ],
   "source": [
    "def coding(language,version): \n",
    "    print(f'{language} - version {version} is really cool')\n",
    "\n",
    "x=input(\"Enter language: \")\n",
    "y=input(\"Enter version: \")\n",
    "coding(x,y) "
   ]
  },
  {
   "cell_type": "markdown",
   "metadata": {},
   "source": [
    ">**positional arguments are arguments that require to be in the proper position.**"
   ]
  },
  {
   "cell_type": "code",
   "execution_count": 3,
   "metadata": {},
   "outputs": [
    {
     "name": "stdout",
     "output_type": "stream",
     "text": [
      "3.7 - version python is really cool\n"
     ]
    }
   ],
   "source": [
    "#parameters\n",
    "def coding(language,version):   # here langauge and version are parameters\n",
    "    print(f'{language} - version {version} is really cool')\n",
    "\n",
    "#(positional)arguments\n",
    "coding(3.7,'python') #python and 3.7 are arguments\n",
    "\n",
    "#this output is not correct as the language and version are changed. Reason is we have changed the arguments postion."
   ]
  },
  {
   "cell_type": "markdown",
   "metadata": {},
   "source": [
    "#### Keyword Arguments:"
   ]
  },
  {
   "cell_type": "code",
   "execution_count": 26,
   "metadata": {},
   "outputs": [
    {
     "name": "stdout",
     "output_type": "stream",
     "text": [
      "python - version 3.7 is really cool\n"
     ]
    }
   ],
   "source": [
    "def coding(language,version):   \n",
    "    print(f'{language} - version {version} is really cool')\n",
    "      \n",
    "#Keyword Arguments\n",
    "coding(version=3.7,language='python') #independent of  position of  the arguments\n",
    "#now we will get the output as required even if the arguments position is changed because we used keyword arguments."
   ]
  },
  {
   "cell_type": "markdown",
   "metadata": {},
   "source": [
    "#### Default Parameters:"
   ]
  },
  {
   "cell_type": "code",
   "execution_count": 18,
   "metadata": {},
   "outputs": [
    {
     "name": "stdout",
     "output_type": "stream",
     "text": [
      "conda - version 2.4 is really cool\n",
      "Robo - version 2.0 is really cool\n",
      "pandas - version 1.0 is really cool\n",
      "python - version 3.7 is really cool\n"
     ]
    }
   ],
   "source": [
    "#Default Parameters\n",
    "def coding(language='python',version=3.7):   \n",
    "    print(f'{language} - version {version} is really cool')\n",
    "\n",
    "coding('conda',2.4)\n",
    "coding(language='Robo',version=2.0)\n",
    "coding(version=1.0,language='pandas')\n",
    "coding() # if we fail to give arguments, then the default parameters will be taken as arguments"
   ]
  },
  {
   "cell_type": "code",
   "execution_count": 3,
   "metadata": {},
   "outputs": [
    {
     "name": "stdout",
     "output_type": "stream",
     "text": [
      "python - version 3.7 is really cool\n",
      "conda - version 3.7 is really cool\n",
      "python - version 2.6 is really cool\n"
     ]
    }
   ],
   "source": [
    "#Default Parameters\n",
    "def coding(language='python',version=3.7):   \n",
    "    print(f'{language} - version {version} is really cool')\n",
    "coding()\n",
    "coding('conda')\n",
    "coding(version=2.6)"
   ]
  },
  {
   "cell_type": "markdown",
   "metadata": {},
   "source": [
    "### IMP:"
   ]
  },
  {
   "cell_type": "code",
   "execution_count": 3,
   "metadata": {},
   "outputs": [
    {
     "name": "stdout",
     "output_type": "stream",
     "text": [
      "conda - version 2.4 is really cool\n",
      "Robo - version 2.0 is really cool\n",
      "python - version 3.7 is really cool\n"
     ]
    }
   ],
   "source": [
    "#parameters\n",
    "def coding(language,version): \n",
    "    pass\n",
    "\n",
    "\n",
    "#Default Parameters  \n",
    "def coding(language='python',version=3.7):   \n",
    "    print(f'{language} - version {version} is really cool')\n",
    "\n",
    "#positional arguments\n",
    "coding('conda',2.4)\n",
    "\n",
    "#Keyword Arguments\n",
    "coding(version=2.0,language='Robo') \n",
    "\n",
    "coding()"
   ]
  },
  {
   "cell_type": "markdown",
   "metadata": {},
   "source": [
    "### Type Hinting:"
   ]
  },
  {
   "cell_type": "markdown",
   "metadata": {},
   "source": [
    "- Type hinting in Python is a way to provide additional information about the types of variables, function parameters, and return values in your code. \n",
    "\n",
    "It doesn't affect the actual execution of the code but serves as a form of documentation that helps developers understand the expected types and improves code readability. Type hints can also be used by various tools and linters to catch type-related errors and provide better code analysis.\n",
    "\n",
    "Type hints were introduced in Python 3.5 and became more widely adopted with the release of Python 3.6 and later versions.\n",
    "\n",
    "Here's a simple example to illustrate type hinting:\n",
    "\n",
    "```python\n",
    "def add_numbers(a: int, b: int) -> int:\n",
    "    return a + b\n",
    "\n",
    "result = add_numbers(5, 10)\n",
    "print(result)\n",
    "```\n",
    "\n",
    "In this example, the `add_numbers` function takes two parameters, `a` and `b`, both of which are annotated with the type `int`. The `-> int` after the parameter list indicates that the function is expected to return an integer. These type annotations provide clear information about the expected types of the function's arguments and its return value.\n",
    "\n",
    "Type hints are not enforced by the Python interpreter itself, which means you can still run code with incorrect types. However, using tools like `mypy`, which is a popular static type checker for Python, you can analyze your code for type-related issues before running it. If there's a mismatch between the type hints and the actual code, `mypy` would raise an error.\n",
    "\n",
    "For instance, consider this incorrect usage:\n",
    "\n",
    "```python\n",
    "result = add_numbers(\"5\", 10)  # This will raise a type hinting error with mypy\n",
    "```\n",
    "\n",
    "- Type hinting can be applied to variables, function parameters, function return values, and even more complex data structures like lists, dictionaries, and classes. It helps improve code quality, makes the codebase more maintainable, and reduces the chances of runtime errors related to type mismatches."
   ]
  },
  {
   "cell_type": "code",
   "execution_count": 19,
   "metadata": {},
   "outputs": [
    {
     "name": "stdout",
     "output_type": "stream",
     "text": [
      "python of version 3.7 is cool\n"
     ]
    }
   ],
   "source": [
    "def cod(lan:str, ver:float) -> str:\n",
    "    print(f'{lan} of version {ver} is cool')\n",
    "cod('python',3.7)"
   ]
  },
  {
   "cell_type": "code",
   "execution_count": 20,
   "metadata": {},
   "outputs": [
    {
     "name": "stdout",
     "output_type": "stream",
     "text": [
      "2 of version krish is cool\n"
     ]
    }
   ],
   "source": [
    "def cod(lan:str, ver:float) -> str:\n",
    "    print(f'{lan} of version {ver} is cool')\n",
    "cod(2,'krish') #type hinting doesn't give any error it is just for documentation purpose"
   ]
  },
  {
   "cell_type": "markdown",
   "metadata": {},
   "source": [
    "##### Type hinting in keyword args:"
   ]
  },
  {
   "cell_type": "code",
   "execution_count": 21,
   "metadata": {},
   "outputs": [
    {
     "name": "stdout",
     "output_type": "stream",
     "text": [
      "JAVA of version 3.6 is cool\n"
     ]
    }
   ],
   "source": [
    "def cod(lan:str, ver:float) -> str:\n",
    "    print(f'{lan} of version {ver} is cool')\n",
    "cod(ver=3.6, lan='JAVA')"
   ]
  },
  {
   "cell_type": "markdown",
   "metadata": {},
   "source": [
    "##### Type hinting with Default params:"
   ]
  },
  {
   "cell_type": "code",
   "execution_count": 22,
   "metadata": {},
   "outputs": [
    {
     "name": "stdout",
     "output_type": "stream",
     "text": [
      "python - version 3.7 is cool\n"
     ]
    }
   ],
   "source": [
    "def coding(lan:str='python', version:float=3.7)->str:    #parameter:datatype=defaultvalue\n",
    "    print(f'{lan} - version {version} is cool')\n",
    "coding()"
   ]
  },
  {
   "cell_type": "code",
   "execution_count": 23,
   "metadata": {},
   "outputs": [
    {
     "name": "stdout",
     "output_type": "stream",
     "text": [
      "conda - version 3.6 is really cool\n",
      "scala - version 3.7 is really cool\n"
     ]
    }
   ],
   "source": [
    "def coding(lan:str='python', version:float=3.7)->str:\n",
    "    print(f'{lan} - version {version} is really cool')\n",
    "coding('conda',3.6)\n",
    "coding(version=3.7, lan='scala')"
   ]
  },
  {
   "cell_type": "code",
   "execution_count": 5,
   "metadata": {},
   "outputs": [
    {
     "data": {
      "text/plain": [
       "\"\\ndef init(\\n        self,\\n        date: date = date.today(),\\n        url: str | None = None,\\n        id: str | None = None,\\n        type: None | Literal['file', 'folders'] = 'file',\\n        exists_ok: bool = False\\n    ) -> None:\\n\""
      ]
     },
     "execution_count": 5,
     "metadata": {},
     "output_type": "execute_result"
    }
   ],
   "source": [
    "# Explain the following piece of code:\n",
    "\n",
    "'''\n",
    "def init(\n",
    "        self,\n",
    "        date: date = date.today(),\n",
    "        url: str | None = None,\n",
    "        id: str | None = None,\n",
    "        type: None | Literal['file', 'folders'] = 'file',\n",
    "        exists_ok: bool = False\n",
    "    ) -> None:\n",
    "'''"
   ]
  },
  {
   "attachments": {
    "image.png": {
     "image/png": "[encoded data removed]"
    }
   },
   "cell_type": "markdown",
   "metadata": {},
   "source": [
    "Certainly! The provided piece of code defines an `init` method within a Python class. Let's break down the code step by step to understand its functionality:\n",
    "\n",
    "1. `def init(self, ...) -> None:`: This line defines a constructor method named `init` within a class. The `self` parameter refers to the instance of the class that is being created. The `...` indicates that there are additional parameters following.\n",
    "\n",
    "2. `date: date = date.today()`: This parameter is named `date` and has a default value of the current date obtained using the `date.today()` method. The parameter is expected to be of the `date` type.\n",
    "\n",
    "3. `url: str | None = None`: This parameter is named `url` and has a default value of `None`. It can hold a value that is either a string (`str`) or `None`.\n",
    "\n",
    "4. `id: str | None = None`: This parameter is named `id` and also has a default value of `None`. Similar to the `url` parameter, it can hold a value that is either a string (`str`) or `None`.\n",
    "\n",
    "5. `type: None | Literal['file', 'folders'] = 'file'`: This parameter is named `type` and has a default value of `'file'`. It can hold a value that is either `None` or one of the two string literals: `'file'` or `'folders'`. The `Literal` type hint is used to specify the exact allowed string literal values.\n",
    "Literal types let you indicate that an expression is equal to some specific primitive value. For example, if we annotate a variable with type Literal[\"foo\"], mypy will understand that variable is not only of type str , but is also equal to specifically the string \"foo\" .\n",
    "![image.png](attachment:image.png)\n",
    "\n",
    "6. `exists_ok: bool = False`: This parameter is named `exists_ok` and has a default value of `False`. It's a boolean parameter that indicates whether the operation is allowed to proceed if the specified resource already exists.\n",
    "\n",
    "7. `-> None:`: This part of the method definition indicates that the method returns `None`, meaning it doesn't return any value.\n",
    "\n",
    "In summary, the `init` method is intended to initialize an instance of the class. It takes several parameters:\n",
    "\n",
    "- `date`: A date that defaults to the current date.\n",
    "- `url`: A URL represented as a string, or `None`.\n",
    "- `id`: An ID represented as a string, or `None`.\n",
    "- `type`: A type that can be `None`, `'file'`, or `'folders'`.\n",
    "- `exists_ok`: A boolean indicating whether the operation can proceed if the resource already exists.\n",
    "\n",
    "These parameters provide various options for initializing the instance with specific values. The method doesn't return anything (`None`). This type of method is commonly used in Python classes to set up initial attributes and state when creating new instances of the class."
   ]
  },
  {
   "cell_type": "code",
   "execution_count": 7,
   "metadata": {},
   "outputs": [
    {
     "name": "stdout",
     "output_type": "stream",
     "text": [
      "(15, 5)\n"
     ]
    }
   ],
   "source": [
    "from typing import List, Tuple\n",
    "\n",
    "def process_data(data: List[int]) -> Tuple[int, int]:\n",
    "    return sum(data), len(data)\n",
    "\n",
    "data = [1, 2, 3, 4, 5]\n",
    "print(process_data(data)) # Output: (15, 5)\n"
   ]
  },
  {
   "cell_type": "markdown",
   "metadata": {},
   "source": [
    "Here, `List[int]` and `Tuple[int, int]` are type hints indicating that \"data\" is a list of integers and the function returns a tuple of two integers."
   ]
  },
  {
   "cell_type": "markdown",
   "metadata": {},
   "source": [
    "-------------"
   ]
  },
  {
   "cell_type": "markdown",
   "metadata": {},
   "source": [
    "### Return:"
   ]
  },
  {
   "cell_type": "markdown",
   "metadata": {},
   "source": [
    "Well functions are just like that they always have to return something and when they don't return anything\n",
    "like there's no return keyword, they automatically return None."
   ]
  },
  {
   "cell_type": "code",
   "execution_count": 7,
   "metadata": {},
   "outputs": [
    {
     "name": "stdout",
     "output_type": "stream",
     "text": [
      "None\n"
     ]
    }
   ],
   "source": [
    "def sum(num1, num2):\n",
    "    num1+num2\n",
    "print(sum(4,5))"
   ]
  },
  {
   "cell_type": "code",
   "execution_count": 8,
   "metadata": {},
   "outputs": [
    {
     "name": "stdout",
     "output_type": "stream",
     "text": [
      "9\n"
     ]
    }
   ],
   "source": [
    "def sum(num1, num2):\n",
    "    return num1+num2\n",
    "print(sum(4,5))"
   ]
  },
  {
   "cell_type": "code",
   "execution_count": 9,
   "metadata": {},
   "outputs": [
    {
     "data": {
      "text/plain": [
       "9"
      ]
     },
     "execution_count": 9,
     "metadata": {},
     "output_type": "execute_result"
    }
   ],
   "source": [
    "def sum(num1, num2):\n",
    "    return num1+num2\n",
    "sum(4,5)"
   ]
  },
  {
   "cell_type": "code",
   "execution_count": 1,
   "metadata": {},
   "outputs": [
    {
     "name": "stdout",
     "output_type": "stream",
     "text": [
      "run\n",
      "None\n"
     ]
    }
   ],
   "source": [
    "def run(): #run() is a method\n",
    "    print(\"run\")\n",
    "\n",
    "print(run())"
   ]
  },
  {
   "cell_type": "code",
   "execution_count": 3,
   "metadata": {},
   "outputs": [
    {
     "name": "stdout",
     "output_type": "stream",
     "text": [
      "run\n"
     ]
    }
   ],
   "source": [
    "def run(): #run() is a method\n",
    "    print(\"run\")\n",
    "\n",
    "run()"
   ]
  },
  {
   "cell_type": "code",
   "execution_count": 5,
   "metadata": {},
   "outputs": [
    {
     "name": "stdout",
     "output_type": "stream",
     "text": [
      "run\n"
     ]
    },
    {
     "data": {
      "text/plain": [
       "'done'"
      ]
     },
     "execution_count": 5,
     "metadata": {},
     "output_type": "execute_result"
    }
   ],
   "source": [
    "def run():\n",
    "    print(\"run\")\n",
    "    return \"done\"\n",
    "\n",
    "run()"
   ]
  },
  {
   "cell_type": "markdown",
   "metadata": {},
   "source": [
    ">if we add `return` keyword in the function  it's going to say, as soon as the interpreter comes to return statement, it  asks the interpreter to exit this function and \n",
    "when you exit this function, I want you to return whatever this expression gives us."
   ]
  },
  {
   "cell_type": "code",
   "execution_count": 34,
   "metadata": {},
   "outputs": [
    {
     "name": "stdout",
     "output_type": "stream",
     "text": [
      "hi\n",
      "None\n"
     ]
    }
   ],
   "source": [
    "#A function either modifies something in our program or returns something\n",
    "def sum(num1, num2):\n",
    "    print(\"hi\")  #here the functions printed 'hi' i.e., modified something in the program but didnt return anything.\n",
    "    num1+num2\n",
    "print(sum(4,5))"
   ]
  },
  {
   "cell_type": "code",
   "execution_count": 37,
   "metadata": {},
   "outputs": [
    {
     "name": "stdout",
     "output_type": "stream",
     "text": [
      "20\n",
      "30\n"
     ]
    }
   ],
   "source": [
    "def sum(num1, num2):\n",
    "    return  num1+num2\n",
    "total=sum(4,5)\n",
    "print(sum(total,11))\n",
    "print(sum(21,sum(3,6)))"
   ]
  },
  {
   "cell_type": "code",
   "execution_count": 10,
   "metadata": {},
   "outputs": [
    {
     "data": {
      "text/plain": [
       "<function __main__.sum.<locals>.sum2(num1, num2)>"
      ]
     },
     "execution_count": 10,
     "metadata": {},
     "output_type": "execute_result"
    }
   ],
   "source": [
    "def sum(num1,num2):\n",
    "    def sum2(num1,num2):\n",
    "        return num1+num2\n",
    "    return sum2\n",
    "\n",
    "sum(10,5)"
   ]
  },
  {
   "cell_type": "code",
   "execution_count": 11,
   "metadata": {},
   "outputs": [
    {
     "ename": "TypeError",
     "evalue": "sum.<locals>.sum2() missing 2 required positional arguments: 'num1' and 'num2'",
     "output_type": "error",
     "traceback": [
      "\u001b[1;31m---------------------------------------------------------------------------\u001b[0m",
      "\u001b[1;31mTypeError\u001b[0m                                 Traceback (most recent call last)",
      "Cell \u001b[1;32mIn[11], line 6\u001b[0m\n\u001b[0;32m      3\u001b[0m         \u001b[38;5;28;01mreturn\u001b[39;00m num1\u001b[38;5;241m+\u001b[39mnum2\n\u001b[0;32m      4\u001b[0m     \u001b[38;5;28;01mreturn\u001b[39;00m sum2()\n\u001b[1;32m----> 6\u001b[0m \u001b[38;5;28;43msum\u001b[39;49m\u001b[43m(\u001b[49m\u001b[38;5;241;43m1\u001b[39;49m\u001b[43m,\u001b[49m\u001b[38;5;241;43m6\u001b[39;49m\u001b[43m)\u001b[49m\n",
      "Cell \u001b[1;32mIn[11], line 4\u001b[0m, in \u001b[0;36msum\u001b[1;34m(num1, num2)\u001b[0m\n\u001b[0;32m      2\u001b[0m \u001b[38;5;28;01mdef\u001b[39;00m \u001b[38;5;21msum2\u001b[39m(num1,num2):\n\u001b[0;32m      3\u001b[0m     \u001b[38;5;28;01mreturn\u001b[39;00m num1\u001b[38;5;241m+\u001b[39mnum2\n\u001b[1;32m----> 4\u001b[0m \u001b[38;5;28;01mreturn\u001b[39;00m \u001b[43msum2\u001b[49m\u001b[43m(\u001b[49m\u001b[43m)\u001b[49m\n",
      "\u001b[1;31mTypeError\u001b[0m: sum.<locals>.sum2() missing 2 required positional arguments: 'num1' and 'num2'"
     ]
    }
   ],
   "source": [
    "def sum(num1,num2):\n",
    "    def sum2(num1,num2):\n",
    "        return num1+num2\n",
    "    return sum2()\n",
    "sum(1,6)"
   ]
  },
  {
   "cell_type": "code",
   "execution_count": 12,
   "metadata": {},
   "outputs": [
    {
     "data": {
      "text/plain": [
       "7"
      ]
     },
     "execution_count": 12,
     "metadata": {},
     "output_type": "execute_result"
    }
   ],
   "source": [
    "def sum(num1,num2):\n",
    "    def sum2(num1,num2):\n",
    "        return num1+num2\n",
    "    return sum2(num1,num2)\n",
    "\n",
    "sum(1,6)"
   ]
  },
  {
   "cell_type": "code",
   "execution_count": 14,
   "metadata": {},
   "outputs": [
    {
     "data": {
      "text/plain": [
       "15"
      ]
     },
     "execution_count": 14,
     "metadata": {},
     "output_type": "execute_result"
    }
   ],
   "source": [
    "def sum(num1,num2):\n",
    "    def sum2(n1,n2):\n",
    "        return n1+n2\n",
    "    return sum2(num1,num2)\n",
    "\n",
    "sum(10,5)"
   ]
  },
  {
   "cell_type": "code",
   "execution_count": null,
   "metadata": {},
   "outputs": [],
   "source": []
  },
  {
   "cell_type": "code",
   "execution_count": 15,
   "metadata": {},
   "outputs": [
    {
     "name": "stdout",
     "output_type": "stream",
     "text": [
      "<function sum.<locals>.sum2 at 0x0000028B4E908160>\n"
     ]
    }
   ],
   "source": [
    "def sum(num1,num2):\n",
    "    def sum2(num1,num2):\n",
    "        return num1+num2\n",
    "    return sum2\n",
    "\n",
    "total=sum(10,5)\n",
    "print(total) \n",
    "# If I click 'Run All', I get this function now. \n",
    "#So total is going to equal this function that we returned. And it's in memory."
   ]
  },
  {
   "cell_type": "markdown",
   "metadata": {},
   "source": [
    "The above code defines a function sum that takes two arguments num1 and num2. Inside this function, another nested function sum2 is defined that takes the same arguments and returns their sum. Then, the sum function returns the sum2 function itself rather than calling it. When sum(10, 5) is called, it returns the sum2 function. So, total now holds a reference to the sum2 function.\n",
    "\n",
    "`total = sum2`\n",
    "\n",
    "When total is printed, it will display the memory address or representation of the sum2 function object, not the result of the addition of 10 and 5.\n",
    "If you want to get the result of the addition, you should call the returned function total with the appropriate arguments"
   ]
  },
  {
   "cell_type": "code",
   "execution_count": 22,
   "metadata": {},
   "outputs": [
    {
     "name": "stdout",
     "output_type": "stream",
     "text": [
      "6\n"
     ]
    }
   ],
   "source": [
    "def sum(num1,num2):\n",
    "    def sum2(num1,num2):\n",
    "        return num1+num2\n",
    "    return sum2\n",
    "\n",
    "total=sum(10,5)\n",
    "print(total(1,5))  #total(1,5)=sum2(1,5)"
   ]
  },
  {
   "cell_type": "code",
   "execution_count": 28,
   "metadata": {},
   "outputs": [
    {
     "name": "stdout",
     "output_type": "stream",
     "text": [
      "15\n"
     ]
    }
   ],
   "source": [
    "def sum(num1,num2):\n",
    "    def sum2(n1,n2):\n",
    "        return num1+num2\n",
    "    return sum2\n",
    "total=sum(10,5)\n",
    "print(total(1,5))"
   ]
  },
  {
   "cell_type": "code",
   "execution_count": null,
   "metadata": {},
   "outputs": [],
   "source": []
  },
  {
   "cell_type": "code",
   "execution_count": 11,
   "metadata": {},
   "outputs": [
    {
     "name": "stdout",
     "output_type": "stream",
     "text": [
      "15\n"
     ]
    }
   ],
   "source": [
    "def sum(num1,num2):\n",
    "    def sum2(num1,num2):\n",
    "        return num1+num2\n",
    "    return sum2(num1,num2)\n",
    "\n",
    "total=sum(10,5)\n",
    "print(total)"
   ]
  },
  {
   "cell_type": "code",
   "execution_count": 15,
   "metadata": {},
   "outputs": [
    {
     "name": "stdout",
     "output_type": "stream",
     "text": [
      "15\n"
     ]
    }
   ],
   "source": [
    "def sum(num1,num2):\n",
    "    def sum2(n1,n2):\n",
    "        return n1+n2\n",
    "    return sum2(num1,num2)\n",
    "\n",
    "total=sum(10,5)\n",
    "print(total)"
   ]
  },
  {
   "cell_type": "code",
   "execution_count": 24,
   "metadata": {},
   "outputs": [
    {
     "ename": "TypeError",
     "evalue": "'int' object is not callable",
     "output_type": "error",
     "traceback": [
      "\u001b[1;31m---------------------------------------------------------------------------\u001b[0m",
      "\u001b[1;31mTypeError\u001b[0m                                 Traceback (most recent call last)",
      "Cell \u001b[1;32mIn[24], line 7\u001b[0m\n\u001b[0;32m      4\u001b[0m     \u001b[38;5;28;01mreturn\u001b[39;00m sum2(num1,num2)\n\u001b[0;32m      6\u001b[0m total\u001b[38;5;241m=\u001b[39m\u001b[38;5;28msum\u001b[39m(\u001b[38;5;241m10\u001b[39m,\u001b[38;5;241m5\u001b[39m)\n\u001b[1;32m----> 7\u001b[0m \u001b[38;5;28mprint\u001b[39m(\u001b[43mtotal\u001b[49m\u001b[43m(\u001b[49m\u001b[38;5;241;43m4\u001b[39;49m\u001b[43m,\u001b[49m\u001b[38;5;241;43m6\u001b[39;49m\u001b[43m)\u001b[49m)\n",
      "\u001b[1;31mTypeError\u001b[0m: 'int' object is not callable"
     ]
    }
   ],
   "source": [
    "def sum(num1,num2):\n",
    "    def sum2(n1,n2):\n",
    "        return n1+n2\n",
    "    return sum2(num1,num2)\n",
    "\n",
    "total=sum(10,5)\n",
    "print(total(4,6))"
   ]
  },
  {
   "cell_type": "code",
   "execution_count": 13,
   "metadata": {},
   "outputs": [
    {
     "name": "stdout",
     "output_type": "stream",
     "text": [
      "15\n"
     ]
    }
   ],
   "source": [
    "def sum(num1,num2):\n",
    "    def sum2(n1,n2):\n",
    "        return n1+n2\n",
    "    return sum2(num1,num2)\n",
    "    print(\"Hello\")\n",
    "\n",
    "total=sum(10,5)\n",
    "print(total)"
   ]
  },
  {
   "cell_type": "markdown",
   "metadata": {},
   "source": [
    ">return keyword automatically exits the function. so that in here if I added another\n",
    "piece of code like print Hello, its  still valid but if I run this I still get 15, because the interpreter never gets to line five  because as\n",
    "soon as we return something from a function it exits that function."
   ]
  },
  {
   "cell_type": "markdown",
   "metadata": {},
   "source": [
    "---------------"
   ]
  },
  {
   "cell_type": "code",
   "execution_count": 24,
   "metadata": {},
   "outputs": [
    {
     "name": "stdout",
     "output_type": "stream",
     "text": [
      "9\n"
     ]
    },
    {
     "ename": "TypeError",
     "evalue": "unsupported operand type(s) for +: 'NoneType' and 'int'",
     "output_type": "error",
     "traceback": [
      "\u001b[1;31m---------------------------------------------------------------------------\u001b[0m",
      "\u001b[1;31mTypeError\u001b[0m                                 Traceback (most recent call last)",
      "Cell \u001b[1;32mIn[24], line 4\u001b[0m\n\u001b[0;32m      2\u001b[0m     \u001b[38;5;28mprint\u001b[39m(num1\u001b[38;5;241m+\u001b[39mnum2)\n\u001b[0;32m      3\u001b[0m total\u001b[38;5;241m=\u001b[39m\u001b[38;5;28msum\u001b[39m(\u001b[38;5;241m4\u001b[39m,\u001b[38;5;241m5\u001b[39m)\n\u001b[1;32m----> 4\u001b[0m \u001b[38;5;28mprint\u001b[39m(\u001b[38;5;28;43msum\u001b[39;49m\u001b[43m(\u001b[49m\u001b[43mtotal\u001b[49m\u001b[43m,\u001b[49m\u001b[38;5;241;43m11\u001b[39;49m\u001b[43m)\u001b[49m)\n\u001b[0;32m      5\u001b[0m \u001b[38;5;28mprint\u001b[39m(\u001b[38;5;28msum\u001b[39m(\u001b[38;5;241m21\u001b[39m,\u001b[38;5;28msum\u001b[39m(\u001b[38;5;241m3\u001b[39m,\u001b[38;5;241m6\u001b[39m)))\n",
      "Cell \u001b[1;32mIn[24], line 2\u001b[0m, in \u001b[0;36msum\u001b[1;34m(num1, num2)\u001b[0m\n\u001b[0;32m      1\u001b[0m \u001b[38;5;28;01mdef\u001b[39;00m \u001b[38;5;21msum\u001b[39m(num1, num2):\n\u001b[1;32m----> 2\u001b[0m     \u001b[38;5;28mprint\u001b[39m(\u001b[43mnum1\u001b[49m\u001b[38;5;241;43m+\u001b[39;49m\u001b[43mnum2\u001b[49m)\n",
      "\u001b[1;31mTypeError\u001b[0m: unsupported operand type(s) for +: 'NoneType' and 'int'"
     ]
    }
   ],
   "source": [
    "def sum(num1, num2):\n",
    "    print(num1+num2)\n",
    "total=sum(4,5)\n",
    "print(sum(total,11))\n",
    "print(sum(21,sum(3,6)))"
   ]
  },
  {
   "cell_type": "code",
   "execution_count": 26,
   "metadata": {},
   "outputs": [
    {
     "name": "stdout",
     "output_type": "stream",
     "text": [
      "9\n",
      "20\n",
      "30\n"
     ]
    }
   ],
   "source": [
    "def sum(num1, num2):\n",
    "    return(num1+num2)\n",
    "total=sum(4,5)\n",
    "print(total)\n",
    "print(sum(total,11))\n",
    "print(sum(21,sum(3,6)))"
   ]
  },
  {
   "cell_type": "code",
   "execution_count": null,
   "metadata": {},
   "outputs": [],
   "source": []
  },
  {
   "cell_type": "code",
   "execution_count": 25,
   "metadata": {},
   "outputs": [
    {
     "data": {
      "text/plain": [
       "<function __main__.fn.<locals>.fn2(c, d)>"
      ]
     },
     "execution_count": 25,
     "metadata": {},
     "output_type": "execute_result"
    }
   ],
   "source": [
    "def fn(a,b):\n",
    "    def fn2(c,d):\n",
    "        return a+b\n",
    "    return fn2\n",
    "var=fn(3,4)\n",
    "var   #var=fn2"
   ]
  },
  {
   "cell_type": "code",
   "execution_count": 26,
   "metadata": {},
   "outputs": [
    {
     "ename": "TypeError",
     "evalue": "fn.<locals>.fn2() missing 2 required positional arguments: 'c' and 'd'",
     "output_type": "error",
     "traceback": [
      "\u001b[1;31m---------------------------------------------------------------------------\u001b[0m",
      "\u001b[1;31mTypeError\u001b[0m                                 Traceback (most recent call last)",
      "Cell \u001b[1;32mIn[26], line 6\u001b[0m\n\u001b[0;32m      4\u001b[0m     \u001b[38;5;28;01mreturn\u001b[39;00m fn2\n\u001b[0;32m      5\u001b[0m var\u001b[38;5;241m=\u001b[39mfn(\u001b[38;5;241m3\u001b[39m,\u001b[38;5;241m4\u001b[39m)\n\u001b[1;32m----> 6\u001b[0m \u001b[43mvar\u001b[49m\u001b[43m(\u001b[49m\u001b[43m)\u001b[49m\n",
      "\u001b[1;31mTypeError\u001b[0m: fn.<locals>.fn2() missing 2 required positional arguments: 'c' and 'd'"
     ]
    }
   ],
   "source": [
    "def fn(a,b):\n",
    "    def fn2(c,d):\n",
    "        return a+b\n",
    "    return fn2\n",
    "var=fn(3,4)\n",
    "var()"
   ]
  },
  {
   "cell_type": "code",
   "execution_count": 27,
   "metadata": {},
   "outputs": [
    {
     "data": {
      "text/plain": [
       "7"
      ]
     },
     "execution_count": 27,
     "metadata": {},
     "output_type": "execute_result"
    }
   ],
   "source": [
    "def fn(a,b):\n",
    "    def fn2(c,d):\n",
    "        return a+b\n",
    "    return fn2\n",
    "var=fn(3,4)\n",
    "var(10,15)"
   ]
  },
  {
   "cell_type": "code",
   "execution_count": 29,
   "metadata": {},
   "outputs": [
    {
     "name": "stdout",
     "output_type": "stream",
     "text": [
      "15\n"
     ]
    }
   ],
   "source": [
    "def fn(num1,num2):\n",
    "    def fn2(num1,num2):\n",
    "        return num1+num2\n",
    "    return fn2(num1,num2)\n",
    "\n",
    "total=fn(10,5)\n",
    "print(total)"
   ]
  },
  {
   "cell_type": "code",
   "execution_count": 30,
   "metadata": {},
   "outputs": [
    {
     "name": "stdout",
     "output_type": "stream",
     "text": [
      "15\n"
     ]
    }
   ],
   "source": [
    "def fn(num1,num2):\n",
    "    def fn2(n1,n2):\n",
    "        return n1+n2\n",
    "    return fn2(num1,num2)\n",
    "\n",
    "total=fn(10,5)\n",
    "print(total)"
   ]
  },
  {
   "cell_type": "markdown",
   "metadata": {},
   "source": [
    "##### Exercise: Tesla"
   ]
  },
  {
   "cell_type": "code",
   "execution_count": null,
   "metadata": {},
   "outputs": [],
   "source": [
    "age = input(\"What is your age?: \")\n",
    "\n",
    "if int(age) < 18:\n",
    "\tprint(\"Sorry, you are too young to drive this car. Powering off\")\n",
    "elif int(age) > 18:\n",
    "\tprint( \"Powering On. Enjoy the ride!\");\n",
    "elif int(age) == 18:\n",
    "\tprint(\"Congratulations on your first year of driving. Enjoy the ride!\")\n",
    "\n",
    "#1. Wrap the above code in a function called checkDriverAge(). \n",
    "#Whenever you call this function, you will get prompted for age. \n",
    "# Notice the benefit in having checkDriverAge() instead of copying and pasting the function everytime?\n",
    "\n",
    "#2 Instead of using the input(). Now, make the checkDriverAge() function accept an argument of age, so that if you enter:\n",
    "#checkDriverAge(92);\n",
    "#it returns \"Powering On. Enjoy the ride!\"\n",
    "#also make it so that the default age is set to 0 if no argument is given."
   ]
  },
  {
   "cell_type": "code",
   "execution_count": 19,
   "metadata": {},
   "outputs": [
    {
     "name": "stdout",
     "output_type": "stream",
     "text": [
      "What is your age?: 17\n",
      "Sorry, you are too young to drive this car. Powering off\n",
      "What is your age?: 19\n",
      "Powering On. Enjoy the ride!\n",
      "What is your age?: 18\n",
      "Congratulations on your first year of driving. Enjoy the ride!\n"
     ]
    }
   ],
   "source": [
    "#1. Wrap the above code in a function called checkDriverAge(). Whenever you call this function, \n",
    "#you will get prompted for age. \n",
    "# Notice the benefit in having checkDriverAge() instead of copying and pasting the function everytime?\n",
    "def checkDriverAge(): \n",
    "    age = input(\"What is your age?: \") \n",
    "    if int(age) < 18:\n",
    "        print(\"Sorry, you are too young to drive this car. Powering off\")\n",
    "    elif int(age) > 18:\n",
    "        print(\"Powering On. Enjoy the ride!\");\n",
    "    elif int(age) == 18:\n",
    "        print(\"Congratulations on your first year of driving. Enjoy the ride!\")\n",
    "\n",
    "checkDriverAge()\n",
    "checkDriverAge()\n",
    "checkDriverAge()"
   ]
  },
  {
   "cell_type": "code",
   "execution_count": 1,
   "metadata": {},
   "outputs": [
    {
     "name": "stdout",
     "output_type": "stream",
     "text": [
      "Sorry, you are too young to drive this car. Powering off\n",
      "Powering On. Enjoy the ride!\n",
      "Congratulations on your first year of driving. Enjoy the ride!\n",
      "Sorry, you are too young to drive this car. Powering off\n"
     ]
    }
   ],
   "source": [
    "#2 Instead of using the input(). Now, make the checkDriverAge() function accept an argument of age, so that if you enter:\n",
    "#checkDriverAge(92);\n",
    "#it returns \"Powering On. Enjoy the ride!\"\n",
    "#also make it so that the default age is set to 0 if no argument is given.\n",
    "\n",
    "def checkDriverAge(age=0): \n",
    "    if int(age) < 18:\n",
    "        print(\"Sorry, you are too young to drive this car. Powering off\")\n",
    "    elif int(age) > 18:\n",
    "        print(\"Powering On. Enjoy the ride!\");\n",
    "    elif int(age) == 18:\n",
    "        print(\"Congratulations on your first year of driving. Enjoy the ride!\")\n",
    "\n",
    "checkDriverAge(17)\n",
    "checkDriverAge(92)\n",
    "checkDriverAge(18)\n",
    "checkDriverAge()  #here the functionn takes default parameter age=0 as argument"
   ]
  },
  {
   "cell_type": "markdown",
   "metadata": {},
   "source": [
    "### Docstrings:"
   ]
  },
  {
   "cell_type": "markdown",
   "metadata": {},
   "source": [
    "https://www.geeksforgeeks.org/python-docstrings/#:~:text=Learning%20in%202020-,Python%20Docstrings,a%20specific%20segment%20of%20code."
   ]
  },
  {
   "cell_type": "markdown",
   "metadata": {},
   "source": [
    "Python documentation strings (or docstrings) provide a convenient way of associating documentation with Python modules, functions, classes, and methods.\n",
    "\n",
    "Python docstrings are strings used right after the definition of a function, method, class, or module\n",
    "They are used to document our code. We can access these docstrings using the __doc__ attribute."
   ]
  },
  {
   "cell_type": "markdown",
   "metadata": {},
   "source": [
    "The doc string line should begin with a capital letter and end with a period.\n",
    "The first line should be a short description.\n",
    "If there are more lines in the documentation string, the second line should be blank, visually separating the summary from the rest of the description.\n",
    "The following lines should be one or more paragraphs describing the object’s calling conventions, its side effects, etc.\n",
    "\n",
    "> - `Declaring Docstrings`: The docstrings are declared using \"\"\"triple double quotes\"\"\" just below the class, method or function declaration. All functions should have a docstring.\n",
    "> - `Accessing Docstrings`: The docstrings can be accessed using the `__doc__` method of the object or using the help function.\n"
   ]
  },
  {
   "cell_type": "code",
   "execution_count": 12,
   "metadata": {},
   "outputs": [
    {
     "name": "stdout",
     "output_type": "stream",
     "text": [
      "hi\n"
     ]
    },
    {
     "data": {
      "text/plain": [
       "'\\n    Info:This function just tests and prints paameter a\\n    '"
      ]
     },
     "execution_count": 12,
     "metadata": {},
     "output_type": "execute_result"
    }
   ],
   "source": [
    "def test(a):\n",
    "    '''\n",
    "    Info:This function just tests and prints parameter a\n",
    "    '''\n",
    "    print(a)\n",
    "test('hi')\n",
    "test.__doc__\n"
   ]
  },
  {
   "cell_type": "code",
   "execution_count": 1,
   "metadata": {},
   "outputs": [
    {
     "name": "stdout",
     "output_type": "stream",
     "text": [
      "Help on function test in module __main__:\n",
      "\n",
      "test(a)\n",
      "    Info:This function just tests and prints parameter a\n",
      "\n"
     ]
    }
   ],
   "source": [
    "def test(a):\n",
    "    '''\n",
    "    Info:This function just tests and prints parameter a\n",
    "    '''\n",
    "    print(a)\n",
    "\n",
    "help(test)"
   ]
  },
  {
   "cell_type": "code",
   "execution_count": 4,
   "metadata": {},
   "outputs": [
    {
     "name": "stdout",
     "output_type": "stream",
     "text": [
      "Using __doc__:\n",
      "Demonstrates docstrings and does nothing really.\n",
      "*************************************\n",
      "Using help:\n",
      "Help on function my_function in module __main__:\n",
      "\n",
      "my_function()\n",
      "    Demonstrates docstrings and does nothing really.\n",
      "\n"
     ]
    }
   ],
   "source": [
    "def my_function(): \n",
    "    \"\"\"Demonstrates docstrings and does nothing really.\"\"\"\n",
    "    return None\n",
    "  \n",
    "print (\"Using __doc__:\")\n",
    "print (my_function.__doc__ )\n",
    "\n",
    "print(\"*************************************\")\n",
    "  \n",
    "print (\"Using help:\")\n",
    "help(my_function) "
   ]
  },
  {
   "cell_type": "markdown",
   "metadata": {},
   "source": [
    "Clean code:"
   ]
  },
  {
   "cell_type": "code",
   "execution_count": 16,
   "metadata": {},
   "outputs": [
    {
     "data": {
      "text/plain": [
       "False"
      ]
     },
     "execution_count": 16,
     "metadata": {},
     "output_type": "execute_result"
    }
   ],
   "source": [
    "def is_even(num):\n",
    "    if num%2==0:\n",
    "        return True\n",
    "    else:\n",
    "        return False\n",
    "is_even(21)"
   ]
  },
  {
   "cell_type": "code",
   "execution_count": 17,
   "metadata": {},
   "outputs": [
    {
     "data": {
      "text/plain": [
       "False"
      ]
     },
     "execution_count": 17,
     "metadata": {},
     "output_type": "execute_result"
    }
   ],
   "source": [
    "def is_even(num):\n",
    "    if num%2==0:\n",
    "        return True\n",
    "    return False\n",
    "is_even(21)"
   ]
  },
  {
   "cell_type": "code",
   "execution_count": 22,
   "metadata": {},
   "outputs": [
    {
     "data": {
      "text/plain": [
       "True"
      ]
     },
     "execution_count": 22,
     "metadata": {},
     "output_type": "execute_result"
    }
   ],
   "source": [
    "def is_even(num):\n",
    "    return num%2==0\n",
    "is_even(20)"
   ]
  },
  {
   "cell_type": "markdown",
   "metadata": {},
   "source": [
    "### ***args and ***kwargs:"
   ]
  },
  {
   "cell_type": "markdown",
   "metadata": {},
   "source": [
    "arguments and keyword arguments:\n",
    "https://www.geeksforgeeks.org/args-kwargs-python/\n",
    "\n",
    "https://www.tutorialspoint.com/args-and-kwargs-in-python\n",
    "\n",
    "https://www.geeksforgeeks.org/packing-and-unpacking-arguments-in-python/"
   ]
  },
  {
   "cell_type": "markdown",
   "metadata": {},
   "source": [
    "> Note: We use the “wildcard” or “*” notation like this – `*args` OR `**kwargs` – as our function’s argument when we are not sure about the number of  arguments we will pass in a function."
   ]
  },
  {
   "cell_type": "markdown",
   "metadata": {},
   "source": [
    ">#### Rule for writing parameters while defining the function: `params, *args, default params,**kwargs`"
   ]
  },
  {
   "cell_type": "code",
   "execution_count": 9,
   "metadata": {},
   "outputs": [
    {
     "ename": "TypeError",
     "evalue": "super_fun() takes 1 positional argument but 3 were given",
     "output_type": "error",
     "traceback": [
      "\u001b[1;31m---------------------------------------------------------------------------\u001b[0m",
      "\u001b[1;31mTypeError\u001b[0m                                 Traceback (most recent call last)",
      "\u001b[1;32m<ipython-input-9-1086e82f2688>\u001b[0m in \u001b[0;36m<module>\u001b[1;34m\u001b[0m\n\u001b[0;32m      3\u001b[0m     \u001b[1;32mreturn\u001b[0m \u001b[0msum\u001b[0m\u001b[1;33m(\u001b[0m\u001b[0ma\u001b[0m\u001b[1;33m)\u001b[0m\u001b[1;33m\u001b[0m\u001b[1;33m\u001b[0m\u001b[0m\n\u001b[0;32m      4\u001b[0m \u001b[1;33m\u001b[0m\u001b[0m\n\u001b[1;32m----> 5\u001b[1;33m \u001b[0msuper_fun\u001b[0m\u001b[1;33m(\u001b[0m\u001b[1;36m1\u001b[0m\u001b[1;33m,\u001b[0m\u001b[1;36m2\u001b[0m\u001b[1;33m,\u001b[0m\u001b[1;36m3\u001b[0m\u001b[1;33m)\u001b[0m\u001b[1;33m\u001b[0m\u001b[1;33m\u001b[0m\u001b[0m\n\u001b[0m",
      "\u001b[1;31mTypeError\u001b[0m: super_fun() takes 1 positional argument but 3 were given"
     ]
    }
   ],
   "source": [
    "#Rule:params, *args, default params,**kwargs\n",
    "def super_fun(a):\n",
    "    return sum(a)\n",
    "\n",
    "super_fun(1,2,3)"
   ]
  },
  {
   "cell_type": "code",
   "execution_count": 27,
   "metadata": {},
   "outputs": [
    {
     "name": "stdout",
     "output_type": "stream",
     "text": [
      "(1, 2, 3)\n",
      "1 2 3\n"
     ]
    },
    {
     "data": {
      "text/plain": [
       "6"
      ]
     },
     "execution_count": 27,
     "metadata": {},
     "output_type": "execute_result"
    }
   ],
   "source": [
    "def super_fun(*a):\n",
    "    print(a)\n",
    "    print(*a)\n",
    "    return sum(a)   #sum is a built-in function in python, so there is no need to define its operation again\n",
    "\n",
    "super_fun(1,2,3)  "
   ]
  },
  {
   "cell_type": "code",
   "execution_count": 28,
   "metadata": {},
   "outputs": [
    {
     "name": "stdout",
     "output_type": "stream",
     "text": [
      "(1, 2, 3)\n",
      "1 2 3\n"
     ]
    },
    {
     "data": {
      "text/plain": [
       "6"
      ]
     },
     "execution_count": 28,
     "metadata": {},
     "output_type": "execute_result"
    }
   ],
   "source": [
    "#Here *args is parameter for super_fun()\n",
    "def super_fun(*args):\n",
    "    print(args)   #gives tuple of args\n",
    "    print(*args)    #gives the args\n",
    "    return sum(args)   #sum is a built-in function in python, so there is no need to define its operation again\n",
    "\n",
    "super_fun(1,2,3)  "
   ]
  },
  {
   "cell_type": "code",
   "execution_count": 31,
   "metadata": {},
   "outputs": [
    {
     "data": {
      "text/plain": [
       "6"
      ]
     },
     "execution_count": 31,
     "metadata": {},
     "output_type": "execute_result"
    }
   ],
   "source": [
    "def super_fun(*args,**kwargs):\n",
    "    return sum(args)   \n",
    "\n",
    "super_fun(1,2,3, num1=4, num2=5) "
   ]
  },
  {
   "cell_type": "code",
   "execution_count": 32,
   "metadata": {},
   "outputs": [
    {
     "name": "stdout",
     "output_type": "stream",
     "text": [
      "{'num1': 4, 'num2': 5}\n"
     ]
    },
    {
     "data": {
      "text/plain": [
       "6"
      ]
     },
     "execution_count": 32,
     "metadata": {},
     "output_type": "execute_result"
    }
   ],
   "source": [
    "#Here *args,**kwargs are parameters for super_fun()\n",
    "def super_fun(*args,**kwargs):\n",
    "    print(kwargs)  #gives the dictionary of kwargs\n",
    "    return sum(args)   \n",
    "\n",
    "super_fun(1,2,3, num1=4, num2=5) "
   ]
  },
  {
   "cell_type": "code",
   "execution_count": 34,
   "metadata": {},
   "outputs": [
    {
     "data": {
      "text/plain": [
       "15"
      ]
     },
     "execution_count": 34,
     "metadata": {},
     "output_type": "execute_result"
    }
   ],
   "source": [
    "def super_fun(*args,**kwargs):\n",
    "    return sum(args)+sum(kwargs.values())\n",
    "#as kwargs gives dictionary , we can grab the values off dictionary but using  '.values()'\n",
    "\n",
    "super_fun(1,2,3, num1=4, num2=5) "
   ]
  },
  {
   "cell_type": "code",
   "execution_count": 7,
   "metadata": {},
   "outputs": [
    {
     "name": "stdout",
     "output_type": "stream",
     "text": [
      "9\n"
     ]
    },
    {
     "data": {
      "text/plain": [
       "15"
      ]
     },
     "execution_count": 7,
     "metadata": {},
     "output_type": "execute_result"
    }
   ],
   "source": [
    "def super_fun(*args,**kwargs):\n",
    "    total=0\n",
    "    for item in kwargs.values():\n",
    "        total=total+item\n",
    "    print (total)\n",
    "    return sum(args)+total\n",
    "\n",
    "super_fun(1,2,3, num1=4, num2=5) "
   ]
  },
  {
   "cell_type": "markdown",
   "metadata": {},
   "source": [
    "We have the `*args` which allow us to grab these positional arguments and just sum everything. \n",
    "And we also have `**kwargs` which allow us to grab any number of keyword arguments and get a dictionary\n",
    "which comes as `**kwargs` and then use them however we want in our case we're looping over all the\n",
    "values so items in `**kwargs` values and then I'm just going to total all those items have a total and just return the sum."
   ]
  },
  {
   "cell_type": "code",
   "execution_count": 35,
   "metadata": {},
   "outputs": [
    {
     "name": "stdout",
     "output_type": "stream",
     "text": [
      "Multiplication result: 27\n",
      "Multiplication result: 220\n"
     ]
    }
   ],
   "source": [
    "def findproduct(*many_nums):\n",
    "   result = 1\n",
    "   for num in many_nums:\n",
    "      result = result * num\n",
    "   print(\"Multiplication result:\",result)\n",
    "\n",
    "findproduct(3,9)\n",
    "findproduct(2,11,10)"
   ]
  },
  {
   "cell_type": "code",
   "execution_count": 27,
   "metadata": {},
   "outputs": [
    {
     "name": "stdout",
     "output_type": "stream",
     "text": [
      "Multiplication result: 27\n",
      "Multiplication result: 220\n"
     ]
    }
   ],
   "source": [
    "def findproduct(*args):\n",
    "   result = 1\n",
    "   for num in args:\n",
    "      result = result * num\n",
    "   print(\"Multiplication result:\",result)\n",
    "\n",
    "findproduct(3,9)\n",
    "findproduct(2,11,10)"
   ]
  },
  {
   "cell_type": "code",
   "execution_count": 3,
   "metadata": {},
   "outputs": [
    {
     "name": "stdout",
     "output_type": "stream",
     "text": [
      "\n",
      "\n",
      "StateName is Telangana\n",
      "Capital is Hyderabad\n",
      "Population is 3400000\n",
      "\n",
      "\n",
      "StateName is Andhra Pradesh\n",
      "Capital is Amaravati\n",
      "Population is 1000000\n",
      "ForestCoverage is 30%\n"
     ]
    }
   ],
   "source": [
    "def country_details(**state_info):\n",
    "   print('\\n')\n",
    "   for k,v in state_info.items():\n",
    "      print(\"{} is {}\".format(k,v))\n",
    "    \n",
    "country_details(StateName=\"Telangana\", Capital=\"Hyderabad\",Population=3400000)\n",
    "country_details(StateName=\"Andhra Pradesh\", Capital=\"Amaravati\",Population=1000000,ForestCoverage=\"30%\")"
   ]
  },
  {
   "cell_type": "code",
   "execution_count": 5,
   "metadata": {},
   "outputs": [
    {
     "name": "stdout",
     "output_type": "stream",
     "text": [
      "StateName is Telangana\n",
      "Capital is Hyderabad\n",
      "Population is 3400000\n",
      "StateName is Andhra Pradesh\n",
      "Capital is Amaravati\n",
      "Population is 1000000\n",
      "ForestCoverage is 30%\n"
     ]
    }
   ],
   "source": [
    "def country_details(**state_info):\n",
    "    for k,v in state_info.items():\n",
    "      print(\"{} is {}\".format(k,v))\n",
    "    \n",
    "country_details(StateName=\"Telangana\", Capital=\"Hyderabad\",Population=3400000)\n",
    "country_details(StateName=\"Andhra Pradesh\", Capital=\"Amaravati\",Population=1000000,ForestCoverage=\"30%\")"
   ]
  },
  {
   "cell_type": "code",
   "execution_count": 6,
   "metadata": {},
   "outputs": [
    {
     "name": "stdout",
     "output_type": "stream",
     "text": [
      "\n",
      "StateName is Telangana\n",
      "Capital is Hyderabad\n",
      "Population is 3400000\n",
      "\n",
      "StateName is Andhra Pradesh\n",
      "Capital is Amaravati\n",
      "Population is 1000000\n",
      "ForestCoverage is 30%\n"
     ]
    }
   ],
   "source": [
    "def country_details(**kwargs):\n",
    "   print('')\n",
    "   for k,v in kwargs.items():\n",
    "      print(f\"{k} is {v}\")\n",
    "    \n",
    "country_details(StateName=\"Telangana\", Capital=\"Hyderabad\",Population=3400000)\n",
    "country_details(StateName=\"Andhra Pradesh\", Capital=\"Amaravati\",Population=1000000,ForestCoverage=\"30%\")"
   ]
  },
  {
   "cell_type": "code",
   "execution_count": 13,
   "metadata": {},
   "outputs": [
    {
     "name": "stdout",
     "output_type": "stream",
     "text": [
      "{'StateName': 'Telangana', 'Capital': 'Hyderabad', 'Population': 3400000}\n",
      "dict_items([('StateName', 'Telangana'), ('Capital', 'Hyderabad'), ('Population', 3400000)])\n",
      "\n",
      "{'StateName': 'Andhra Pradesh', 'Capital': 'Amaravati', 'Population': 1000000, 'ForestCoverage': '30%'}\n",
      "dict_items([('StateName', 'Andhra Pradesh'), ('Capital', 'Amaravati'), ('Population', 1000000), ('ForestCoverage', '30%')])\n",
      "\n"
     ]
    }
   ],
   "source": [
    "def country_details(**kwargs):\n",
    "   print(kwargs) #gives the dictionary\n",
    "   print(kwargs.items())\n",
    "   print() #for an empty line\n",
    "    \n",
    "country_details(StateName=\"Telangana\", Capital=\"Hyderabad\",Population=3400000)\n",
    "country_details(StateName=\"Andhra Pradesh\", Capital=\"Amaravati\",Population=1000000,ForestCoverage=\"30%\")"
   ]
  },
  {
   "cell_type": "markdown",
   "metadata": {},
   "source": [
    "### IMP:"
   ]
  },
  {
   "cell_type": "markdown",
   "metadata": {},
   "source": [
    "#### Parameters defining:"
   ]
  },
  {
   "cell_type": "code",
   "execution_count": 3,
   "metadata": {},
   "outputs": [
    {
     "name": "stdout",
     "output_type": "stream",
     "text": [
      "hey, Hi Coder.\n"
     ]
    },
    {
     "data": {
      "text/plain": [
       "15"
      ]
     },
     "execution_count": 3,
     "metadata": {},
     "output_type": "execute_result"
    }
   ],
   "source": [
    "#Rule:params, *args, default params,**kwargs\n",
    "def super_fun(name, *args, greet='Hi', **kwargs):\n",
    "    total=0\n",
    "    for item in kwargs.values():\n",
    "        total=total+item\n",
    "    print(f'hey, {greet} {name}.')\n",
    "    return sum(args)+total\n",
    "\n",
    "super_fun('Coder', 1,2,3, num1=4, num2=5) "
   ]
  },
  {
   "cell_type": "code",
   "execution_count": 14,
   "metadata": {},
   "outputs": [
    {
     "data": {
      "text/plain": [
       "'hello coder, value is 15'"
      ]
     },
     "execution_count": 14,
     "metadata": {},
     "output_type": "execute_result"
    }
   ],
   "source": [
    "def testfn(name,*args,greet='hello',**kwargs):\n",
    "    total=0\n",
    "    for i in kwargs.values():\n",
    "        total=total+i\n",
    "    return (f'{greet} {name}, value is {sum(args)+total}')\n",
    "testfn('coder',1,2,3,n1=4,n2=5)"
   ]
  },
  {
   "cell_type": "markdown",
   "metadata": {},
   "source": [
    "### Packing and Unpacking Arguments in Python:"
   ]
  },
  {
   "cell_type": "markdown",
   "metadata": {},
   "source": [
    "We use two operators * (for tuples) and ** (for dictionaries).\n",
    "\n",
    "https://www.geeksforgeeks.org/packing-and-unpacking-arguments-in-python/\n",
    "\n",
    "https://thispointer.com/python-how-to-unpack-list-tuple-or-dictionary-to-function-arguments-using/"
   ]
  },
  {
   "cell_type": "code",
   "execution_count": 52,
   "metadata": {},
   "outputs": [
    {
     "name": "stdout",
     "output_type": "stream",
     "text": [
      "1 2 3 4\n"
     ]
    }
   ],
   "source": [
    "my_list = [1, 2, 3, 4] \n",
    "print(*my_list) "
   ]
  },
  {
   "cell_type": "code",
   "execution_count": 7,
   "metadata": {},
   "outputs": [
    {
     "name": "stdout",
     "output_type": "stream",
     "text": [
      "[1, 2, 3, 4]\n",
      "[1, 2, 3, 4]\n"
     ]
    }
   ],
   "source": [
    "[*others] = [1,2,3,4]\n",
    "print(others)\n",
    "\n",
    "*others1, = [1,2,3,4]\n",
    "print(others1)"
   ]
  },
  {
   "cell_type": "code",
   "execution_count": 19,
   "metadata": {},
   "outputs": [
    {
     "ename": "TypeError",
     "evalue": "fun() missing 3 required positional arguments: 'b', 'c', and 'd'",
     "output_type": "error",
     "traceback": [
      "\u001b[1;31m---------------------------------------------------------------------------\u001b[0m",
      "\u001b[1;31mTypeError\u001b[0m                                 Traceback (most recent call last)",
      "Cell \u001b[1;32mIn[19], line 10\u001b[0m\n\u001b[0;32m      7\u001b[0m     \u001b[38;5;28mprint\u001b[39m(a, b, c, d) \n\u001b[0;32m      9\u001b[0m my_list \u001b[38;5;241m=\u001b[39m [\u001b[38;5;241m1\u001b[39m, \u001b[38;5;241m2\u001b[39m, \u001b[38;5;241m3\u001b[39m, \u001b[38;5;241m4\u001b[39m] \n\u001b[1;32m---> 10\u001b[0m \u001b[43mfun\u001b[49m\u001b[43m(\u001b[49m\u001b[43mmy_list\u001b[49m\u001b[43m)\u001b[49m\n",
      "\u001b[1;31mTypeError\u001b[0m: fun() missing 3 required positional arguments: 'b', 'c', and 'd'"
     ]
    }
   ],
   "source": [
    "# Consider a situation where we have a function that receives four arguments. \n",
    "# We want to make call to this function and we have a list of size 4 with us \n",
    "#that has all arguments for the function. If we simply pass list to the function, the call doesn’t work.\n",
    "\n",
    "# A Python program to demonstrate need  of packing and unpacking \n",
    "def fun(a, b, c, d): # A sample function that takes 4 arguments and prints them. \n",
    "    print(a, b, c, d) \n",
    "\n",
    "my_list = [1, 2, 3, 4] \n",
    "fun(my_list) "
   ]
  },
  {
   "cell_type": "code",
   "execution_count": 53,
   "metadata": {},
   "outputs": [
    {
     "name": "stdout",
     "output_type": "stream",
     "text": [
      "1 2 3 4\n"
     ]
    }
   ],
   "source": [
    "#We can use * to unpack the list so that all elements of it can be passed as different parameters.\n",
    "# A sample function that takes 4 arguments\n",
    "def fun(a, b, c, d): \n",
    "    print(a, b, c, d) \n",
    "my_list = [1, 2, 3, 4] \n",
    "  \n",
    "# Unpacking list into four arguments \n",
    "fun(*my_list) "
   ]
  },
  {
   "cell_type": "code",
   "execution_count": 18,
   "metadata": {},
   "outputs": [
    {
     "name": "stdout",
     "output_type": "stream",
     "text": [
      "[1, 2, 3, 4] [4, 5, 6] [0, 1, 2] [7, 8, 9]\n"
     ]
    }
   ],
   "source": [
    "my_list = [[1, 2, 3, 4],[4,5,6],[0,1,2],[7,8,9]]\n",
    "print(*my_list) "
   ]
  },
  {
   "cell_type": "code",
   "execution_count": 19,
   "metadata": {},
   "outputs": [
    {
     "name": "stdout",
     "output_type": "stream",
     "text": [
      "[1, 2, 3, 4] [4, 5, 6] [0, 1, 2] [7, 8, 9]\n"
     ]
    }
   ],
   "source": [
    "def fun(a, b, c, d): # A sample function that takes 4 arguments and prints them. \n",
    "    print(a, b, c, d) \n",
    "\n",
    "my_list = [[1, 2, 3, 4],[4,5,6],[0,1,2],[7,8,9]]\n",
    "fun(*my_list) "
   ]
  },
  {
   "cell_type": "code",
   "execution_count": 20,
   "metadata": {},
   "outputs": [
    {
     "name": "stdout",
     "output_type": "stream",
     "text": [
      "[1, 2, 3, 4] [4, 5, 6] [0, 1, 2] [7, 8, 9]\n"
     ]
    }
   ],
   "source": [
    "my_list = [[1, 2, 3, 4],[4,5,6],[0,1,2],[7,8,9]]\n",
    "print(*my_list) "
   ]
  },
  {
   "cell_type": "markdown",
   "metadata": {},
   "source": [
    "### IMP:"
   ]
  },
  {
   "cell_type": "code",
   "execution_count": 8,
   "metadata": {},
   "outputs": [
    {
     "name": "stdout",
     "output_type": "stream",
     "text": [
      "(1, 2, 3, 4)\n",
      "<class 'tuple'>\n",
      "------------------\n",
      "1 2 3 4\n"
     ]
    }
   ],
   "source": [
    "# Packing: using *args, as we don't know how many arguments are going to be passed when the function is called\n",
    "def fun(*args):\n",
    "    print(args) \n",
    "    print(type(args))\n",
    "fun(1, 2, 3, 4)\n",
    "\n",
    "print('------------------')\n",
    "\n",
    "# Unpacking:\n",
    "def fun(a, b, c, d): \n",
    "    print(a, b, c, d) \n",
    "my_list = [1, 2, 3, 4] \n",
    "fun(*my_list) #Unpacking list into four arguments"
   ]
  },
  {
   "cell_type": "markdown",
   "metadata": {},
   "source": [
    "-----------------"
   ]
  },
  {
   "cell_type": "code",
   "execution_count": 41,
   "metadata": {},
   "outputs": [
    {
     "name": "stdout",
     "output_type": "stream",
     "text": [
      "[3, 4, 5]\n",
      "[3, 4, 5]\n"
     ]
    }
   ],
   "source": [
    "# As another example, consider the built-in range() function that expects separate start and stop arguments. \n",
    "# If they are not available separately, \n",
    "# write the function call with the *operator to unpack the arguments out of a list or tuple:\n",
    "\n",
    "range(3, 6)  # normal call with separate arguments \n",
    "print(list(range(3, 6))) \n",
    "      \n",
    "args = [3, 6] \n",
    "print(list(range(*args))) # call with arguments unpacked from a list "
   ]
  },
  {
   "cell_type": "markdown",
   "metadata": {},
   "source": [
    "> **Packing:**\n",
    "When we don’t know how many arguments need to be passed to a function, we can use Packing to pack all arguments in a tuple."
   ]
  },
  {
   "cell_type": "code",
   "execution_count": 27,
   "metadata": {},
   "outputs": [
    {
     "name": "stdout",
     "output_type": "stream",
     "text": [
      "15\n",
      "30\n"
     ]
    }
   ],
   "source": [
    "# This function uses packing to sum unknown number of arguments \n",
    "def mySum(*args): \n",
    "    total = 0\n",
    "    for i in range(0, len(args)): \n",
    "        total = total + args[i]\n",
    "    return total \n",
    "\n",
    "print(mySum(1, 2, 3, 4, 5))\n",
    "print(mySum(10, 20)) "
   ]
  },
  {
   "cell_type": "markdown",
   "metadata": {},
   "source": [
    "- The above function mySum() does ‘packing’ to pack all the arguments that this method call receives into one single variable. \n",
    "- Once we have this ‘packed’ variable, we can do things with it that we would with a normal tuple. \n",
    "- args[0] and args[1] would give you the first and second argument, respectively. \n",
    "- Since our tuples are immutable, you can convert the args tuple to a list so you can also modify, delete and re-arrange items in `i`"
   ]
  },
  {
   "cell_type": "code",
   "execution_count": 28,
   "metadata": {},
   "outputs": [
    {
     "name": "stdout",
     "output_type": "stream",
     "text": [
      "1\n",
      "2\n",
      "3\n",
      "4\n",
      "5\n",
      "all items accessed\n",
      "10\n",
      "20\n",
      "all items accessed\n"
     ]
    }
   ],
   "source": [
    "def my(*args): \n",
    "    for i in range(0, len(args)): \n",
    "        print(args[i])\n",
    "    return \"all items accessed\"\n",
    "print(my(1, 2, 3, 4, 5))\n",
    "print(my(10, 20)) "
   ]
  },
  {
   "cell_type": "markdown",
   "metadata": {},
   "source": [
    "#### Packing and Unpacking:"
   ]
  },
  {
   "cell_type": "code",
   "execution_count": 38,
   "metadata": {},
   "outputs": [
    {
     "name": "stdout",
     "output_type": "stream",
     "text": [
      "['Geeksforgeeks', 'awesome', 'world!']\n",
      "Geeksforgeeks awesome world!\n"
     ]
    }
   ],
   "source": [
    "#Below is an example that shows both packing and unpacking.\n",
    "  \n",
    "# A sample python function that takes three arguments and prints them \n",
    "def fun1(a, b, c): \n",
    "    print(a, b, c) \n",
    "  \n",
    "# Another sample function. \n",
    "# This is an example of PACKING. All arguments passed to fun2 are packed into tuple *args. \n",
    "def fun2(*args): \n",
    "    # Convert args (tuple) to a list so we can modify it \n",
    "    args = list(args)   \n",
    "    # Modifying args \n",
    "    args[0] = 'Geeksforgeeks'\n",
    "    args[1] = 'awesome'\n",
    "    print(args) #packed\n",
    "    \n",
    "    # UNPACKING args and calling fun1() \n",
    "    fun1(*args) \n",
    "\n",
    "fun2('Hello', 'beautiful', 'world!') "
   ]
  },
  {
   "cell_type": "code",
   "execution_count": 37,
   "metadata": {},
   "outputs": [
    {
     "name": "stdout",
     "output_type": "stream",
     "text": [
      "['Geeksforgeeks', 'awesome', 'world!']\n"
     ]
    },
    {
     "data": {
      "text/plain": [
       "('Geeksforgeeks', 'awesome', 'world!')"
      ]
     },
     "execution_count": 37,
     "metadata": {},
     "output_type": "execute_result"
    }
   ],
   "source": [
    "def fun1(a, b, c): \n",
    "    return (a, b, c) \n",
    "\n",
    "def fun2(*args):\n",
    "    args = list(args)   \n",
    "    args[0] = 'Geeksforgeeks'\n",
    "    args[1] = 'awesome'\n",
    "    print(args)\n",
    "    return fun1(*args) \n",
    "\n",
    "fun2('Hello', 'beautiful', 'world!') "
   ]
  },
  {
   "cell_type": "code",
   "execution_count": 40,
   "metadata": {},
   "outputs": [
    {
     "name": "stdout",
     "output_type": "stream",
     "text": [
      "Geeksforgeeks awesome world!\n"
     ]
    }
   ],
   "source": [
    "ls=['Geeksforgeeks', 'awesome', 'world!']\n",
    "print(*ls)"
   ]
  },
  {
   "cell_type": "code",
   "execution_count": 43,
   "metadata": {},
   "outputs": [
    {
     "ename": "SyntaxError",
     "evalue": "starred assignment target must be in a list or tuple (2467626128.py, line 1)",
     "output_type": "error",
     "traceback": [
      "\u001b[1;36m  Cell \u001b[1;32mIn[43], line 1\u001b[1;36m\u001b[0m\n\u001b[1;33m    *ls=['Geeksforgeeks', 'awesome', 'world!']\u001b[0m\n\u001b[1;37m    ^\u001b[0m\n\u001b[1;31mSyntaxError\u001b[0m\u001b[1;31m:\u001b[0m starred assignment target must be in a list or tuple\n"
     ]
    }
   ],
   "source": [
    "*ls=['Geeksforgeeks', 'awesome', 'world!']\n",
    "print(ls)"
   ]
  },
  {
   "cell_type": "code",
   "execution_count": 42,
   "metadata": {},
   "outputs": [
    {
     "name": "stdout",
     "output_type": "stream",
     "text": [
      "['Geeksforgeeks', 'awesome', 'world!']\n"
     ]
    }
   ],
   "source": [
    "*ls,=['Geeksforgeeks', 'awesome', 'world!']\n",
    "print(ls)"
   ]
  },
  {
   "cell_type": "code",
   "execution_count": 39,
   "metadata": {},
   "outputs": [
    {
     "data": {
      "text/plain": [
       "('Geeksforgeeks', 'awesome', 'world!')"
      ]
     },
     "execution_count": 39,
     "metadata": {},
     "output_type": "execute_result"
    }
   ],
   "source": [
    "def fun1(a, b, c): \n",
    "    return (a, b, c) \n",
    "\n",
    "def fun2(*args):\n",
    "    args = list(args)   \n",
    "    args[0] = 'Geeksforgeeks'\n",
    "    args[1] = 'awesome'\n",
    "#     print(args)\n",
    "    return fun1(*args) \n",
    "\n",
    "fun2('Hello', 'beautiful', 'world!') "
   ]
  },
  {
   "cell_type": "code",
   "execution_count": 44,
   "metadata": {},
   "outputs": [
    {
     "name": "stdout",
     "output_type": "stream",
     "text": [
      "['Geeksforgeeks', 'awesome', 'world!']\n",
      "Geeksforgeeks awesome world!\n",
      "Geeksforgeeks awesome world!\n"
     ]
    }
   ],
   "source": [
    "def fun1(a, b, c): \n",
    "    print(a, b, c) \n",
    "def fun2(*args): \n",
    "    args = list(args)   \n",
    "    args[0] = 'Geeksforgeeks'\n",
    "    args[1] = 'awesome'\n",
    "    print(args) \n",
    "    print(*args)\n",
    "    fun1(*args) \n",
    "\n",
    "fun2('Hello', 'beautiful', 'world!') "
   ]
  },
  {
   "cell_type": "code",
   "execution_count": 13,
   "metadata": {},
   "outputs": [
    {
     "name": "stdout",
     "output_type": "stream",
     "text": [
      "['Geeksforgeeks', 'awesome', 'world!']\n",
      "Geeksforgeeks awesome world!\n"
     ]
    }
   ],
   "source": [
    "def fun2(*args): \n",
    "    args = list(args)   \n",
    "    args[0] = 'Geeksforgeeks'\n",
    "    args[1] = 'awesome'\n",
    "    print(args) \n",
    "    print(*args)\n",
    "fun2('Hello', 'beautiful', 'world!') "
   ]
  },
  {
   "cell_type": "code",
   "execution_count": 14,
   "metadata": {},
   "outputs": [
    {
     "name": "stdout",
     "output_type": "stream",
     "text": [
      "Hello\n",
      "beautiful\n"
     ]
    }
   ],
   "source": [
    "def fun2(*args):\n",
    "    print( args[0]) \n",
    "    print (args[1])\n",
    "fun2('Hello', 'beautiful', 'world!') "
   ]
  },
  {
   "cell_type": "markdown",
   "metadata": {},
   "source": [
    "#### unpacking of dictionary items using `**`"
   ]
  },
  {
   "cell_type": "code",
   "execution_count": 18,
   "metadata": {},
   "outputs": [
    {
     "name": "stdout",
     "output_type": "stream",
     "text": [
      "2 4 10\n"
     ]
    }
   ],
   "source": [
    "'''** is used for dictionaries'''\n",
    "# A sample program to demonstrate unpacking of dictionary items using ** \n",
    "def fun(a, b, c): \n",
    "    print(a, b, c)  \n",
    "  \n",
    "# A call with unpacking of dictionary \n",
    "d = {'a':2, 'b':4, 'c':10} \n",
    "fun(**d) \n",
    "# Here ** unpacked the dictionary used with it, and passed the items in the dictionary as keyword args to the function.\n",
    "# So writing “fun(1, **d)” was equivalent to writing “fun(1, b=4, c=10)”."
   ]
  },
  {
   "cell_type": "markdown",
   "metadata": {},
   "source": [
    "This code defines a function `fun` that takes three arguments (`a`, `b`, `c`) and prints them. Then, it demonstrates how to call this function using a dictionary `d` with unpacking.\n",
    "\n",
    "Here's the breakdown:\n",
    "1. `def fun(a, b, c):`: This line defines a function named `fun` that takes three parameters: `a`, `b`, and `c`.\n",
    "2. `print(a, b, c)`: This line inside the function prints the values of the parameters `a`, `b`, and `c`.\n",
    "3. `d = {'a':2, 'b':4, 'c':10}`: This line creates a dictionary `d` with keys `'a'`, `'b'`, and `'c'`, and corresponding values `2`, `4`, and `10`.\n",
    "4. `fun(**d)`: This line calls the function `fun` with the dictionary `d` unpacked. The `**` operator before `d` unpacks the dictionary into keyword arguments. So, effectively, it's calling `fun(a=2, b=4, c=10)`.\n",
    "\n",
    "As a result, when you execute `fun(**d)`, it will print `2 4 10`, since these are the values passed into the function `fun` for parameters `a`, `b`, and `c`, respectively."
   ]
  },
  {
   "cell_type": "code",
   "execution_count": 15,
   "metadata": {},
   "outputs": [
    {
     "name": "stdout",
     "output_type": "stream",
     "text": [
      "1 2 3 4\n"
     ]
    },
    {
     "ename": "TypeError",
     "evalue": "'a' is an invalid keyword argument for print()",
     "output_type": "error",
     "traceback": [
      "\u001b[1;31m---------------------------------------------------------------------------\u001b[0m",
      "\u001b[1;31mTypeError\u001b[0m                                 Traceback (most recent call last)",
      "\u001b[1;32m<ipython-input-15-cf0e7810fbca>\u001b[0m in \u001b[0;36m<module>\u001b[1;34m\u001b[0m\n\u001b[0;32m      3\u001b[0m \u001b[1;33m\u001b[0m\u001b[0m\n\u001b[0;32m      4\u001b[0m \u001b[0md\u001b[0m \u001b[1;33m=\u001b[0m \u001b[1;33m{\u001b[0m\u001b[1;34m'a'\u001b[0m\u001b[1;33m:\u001b[0m\u001b[1;36m2\u001b[0m\u001b[1;33m,\u001b[0m \u001b[1;34m'b'\u001b[0m\u001b[1;33m:\u001b[0m\u001b[1;36m4\u001b[0m\u001b[1;33m,\u001b[0m \u001b[1;34m'c'\u001b[0m\u001b[1;33m:\u001b[0m\u001b[1;36m10\u001b[0m\u001b[1;33m}\u001b[0m\u001b[1;33m\u001b[0m\u001b[1;33m\u001b[0m\u001b[0m\n\u001b[1;32m----> 5\u001b[1;33m \u001b[0mprint\u001b[0m\u001b[1;33m(\u001b[0m\u001b[1;33m**\u001b[0m\u001b[0md\u001b[0m\u001b[1;33m)\u001b[0m\u001b[1;33m\u001b[0m\u001b[1;33m\u001b[0m\u001b[0m\n\u001b[0m",
      "\u001b[1;31mTypeError\u001b[0m: 'a' is an invalid keyword argument for print()"
     ]
    }
   ],
   "source": [
    "my_tuple=(1,2,3,4)\n",
    "print(*my_tuple)\n",
    "\n",
    "d = {'a':2, 'b':4, 'c':10} \n",
    "print(**d)"
   ]
  },
  {
   "cell_type": "markdown",
   "metadata": {},
   "source": [
    "In the provided code:\n",
    "\n",
    "1. `my_tuple=(1,2,3,4)`: This line creates a tuple named `my_tuple` with four elements: `1`, `2`, `3`, and `4`.\n",
    "\n",
    "2. `print(*my_tuple)`: The `*` operator before `my_tuple` unpacks the tuple, so it's equivalent to calling `print(1, 2, 3, 4)`. This prints each element of the tuple separated by spaces.\n",
    "\n",
    "   Output: `1 2 3 4`\n",
    "\n",
    "3. `d = {'a':2, 'b':4, 'c':10}`: This line creates a dictionary `d` with keys `'a'`, `'b'`, and `'c'`, and corresponding values `2`, `4`, and `10`.\n",
    "\n",
    "4. `print(**d)`: This line attempts to unpack the dictionary `d` and pass it as keyword arguments to the `print` function. However, this line will result in a `TypeError` because the `print` function doesn't accept keyword arguments in this way.\n",
    "\n",
    "   You would typically use the `**` operator to unpack a dictionary when calling a function that accepts keyword arguments. For example:\n",
    "   ```python\n",
    "   print(**{'sep': ' | ', 'end': '\\n'})\n",
    "   ```\n",
    "   This would unpack the dictionary and pass `'sep'=' | '` and `'end'='\\n'` as keyword arguments to the `print` function. However, in the provided code, it's not being used correctly, hence it would raise an error.\n",
    "\n",
    "So, the output of the provided code will be:\n",
    "```\n",
    "1 2 3 4\n",
    "TypeError: 'a' is an invalid keyword argument for print()\n",
    "```"
   ]
  },
  {
   "cell_type": "markdown",
   "metadata": {},
   "source": [
    "> `**` dictionary unpacking is similar to the usage of `**kwargs`"
   ]
  },
  {
   "cell_type": "code",
   "execution_count": 6,
   "metadata": {},
   "outputs": [
    {
     "name": "stdout",
     "output_type": "stream",
     "text": [
      "<class 'dict'>\n",
      "name geeks\n",
      "ID 101\n",
      "language Python\n"
     ]
    }
   ],
   "source": [
    "def fun(**kwargs): \n",
    "  \n",
    "    # kwargs is a dict \n",
    "    print(type(kwargs)) \n",
    "  \n",
    "    # Printing dictionary items \n",
    "    for key in kwargs: \n",
    "        print(key, kwargs[key])\n",
    "\n",
    "fun(name=\"geeks\", ID=\"101\", language=\"Python\") "
   ]
  },
  {
   "cell_type": "code",
   "execution_count": 7,
   "metadata": {},
   "outputs": [
    {
     "name": "stdout",
     "output_type": "stream",
     "text": [
      "<class 'dict'>\n",
      "name geeks\n",
      "ID 101\n",
      "language Python\n"
     ]
    }
   ],
   "source": [
    "def fun(**kwargs): \n",
    "    print(type(kwargs)) \n",
    "    for key in kwargs: \n",
    "         print(key, kwargs[key])\n",
    "fun(name=\"geeks\", ID=\"101\", language=\"Python\") "
   ]
  },
  {
   "cell_type": "code",
   "execution_count": 2,
   "metadata": {},
   "outputs": [
    {
     "name": "stdout",
     "output_type": "stream",
     "text": [
      "<class 'dict'>\n",
      "name geeks\n",
      "ID 101\n",
      "language Python\n"
     ]
    }
   ],
   "source": [
    "def fun(**kwargs): \n",
    "    print(type(kwargs)) \n",
    "    for key,value in kwargs.items(): \n",
    "         print(key, value)\n",
    "fun(name=\"geeks\", ID=\"101\", language=\"Python\") "
   ]
  },
  {
   "cell_type": "markdown",
   "metadata": {},
   "source": [
    "##### Exercise:"
   ]
  },
  {
   "cell_type": "code",
   "execution_count": 75,
   "metadata": {},
   "outputs": [
    {
     "name": "stdout",
     "output_type": "stream",
     "text": [
      "[2, 4, 6, 10, 8]\n"
     ]
    },
    {
     "data": {
      "text/plain": [
       "[10]"
      ]
     },
     "execution_count": 75,
     "metadata": {},
     "output_type": "execute_result"
    }
   ],
   "source": [
    "#print highest even number in the input list\n",
    "def highest_even(x):\n",
    "    Evens=[]\n",
    "    for item in x:\n",
    "        if item%2==0:\n",
    "            Evens.append(item)\n",
    "    print(Evens)\n",
    "    \n",
    "    High_Even=[]\n",
    "    size=len(Evens) \n",
    "    for i in range(size):\n",
    "        k=i+1\n",
    "        for j in range(k,size):\n",
    "            if Evens[i]>Evens[j]:\n",
    "                High_Even.append(Evens[i])  \n",
    "    return High_Even\n",
    "\n",
    "highest_even([2,4,6,10,8,11])"
   ]
  },
  {
   "cell_type": "code",
   "execution_count": 73,
   "metadata": {},
   "outputs": [
    {
     "data": {
      "text/plain": [
       "10"
      ]
     },
     "execution_count": 73,
     "metadata": {},
     "output_type": "execute_result"
    }
   ],
   "source": [
    "#print highest even number in the input list\n",
    "def highest_even(x):\n",
    "    highest=[]\n",
    "    for item in x:\n",
    "        if item%2==0:\n",
    "            highest.append(item)\n",
    "    return max(highest)\n",
    "highest_even([10,2,4,6,8,11])"
   ]
  },
  {
   "cell_type": "code",
   "execution_count": 53,
   "metadata": {},
   "outputs": [
    {
     "name": "stdout",
     "output_type": "stream",
     "text": [
      "10\n"
     ]
    }
   ],
   "source": [
    "def highest_even(li):\n",
    "  evens = []\n",
    "  for item in li:\n",
    "    if item % 2 == 0:\n",
    "      evens.append(item)\n",
    "  return max(evens)\n",
    "\n",
    "print(highest_even([10,1,2,3,4,8,11]))"
   ]
  },
  {
   "cell_type": "markdown",
   "metadata": {},
   "source": [
    "### Scope:"
   ]
  },
  {
   "cell_type": "markdown",
   "metadata": {},
   "source": [
    ">Variables can only reach the area in which they are defined, which is called scope. \n",
    "\n",
    "Think of it as the area of code where variables can be used. \n",
    "- Python supports global variables (usable in the entire program) and local variables.\n",
    "- By default, all variables declared in a function are local variables."
   ]
  },
  {
   "cell_type": "code",
   "execution_count": 85,
   "metadata": {},
   "outputs": [
    {
     "name": "stdout",
     "output_type": "stream",
     "text": [
      "10\n",
      "5\n"
     ]
    },
    {
     "ename": "NameError",
     "evalue": "name 'y' is not defined",
     "output_type": "error",
     "traceback": [
      "\u001b[1;31m---------------------------------------------------------------------------\u001b[0m",
      "\u001b[1;31mNameError\u001b[0m                                 Traceback (most recent call last)",
      "\u001b[1;32m<ipython-input-85-5db05e165d6a>\u001b[0m in \u001b[0;36m<module>\u001b[1;34m\u001b[0m\n\u001b[0;32m      7\u001b[0m \u001b[1;33m\u001b[0m\u001b[0m\n\u001b[0;32m      8\u001b[0m \u001b[0mprint\u001b[0m\u001b[1;33m(\u001b[0m\u001b[0mx\u001b[0m\u001b[1;33m)\u001b[0m  \u001b[1;31m#x has global access, hence we can print here\u001b[0m\u001b[1;33m\u001b[0m\u001b[1;33m\u001b[0m\u001b[0m\n\u001b[1;32m----> 9\u001b[1;33m \u001b[0mprint\u001b[0m\u001b[1;33m(\u001b[0m\u001b[0my\u001b[0m\u001b[1;33m)\u001b[0m \u001b[1;31m# y has only function access, when we try to access y outside the function, we will get error\u001b[0m\u001b[1;33m\u001b[0m\u001b[1;33m\u001b[0m\u001b[0m\n\u001b[0m",
      "\u001b[1;31mNameError\u001b[0m: name 'y' is not defined"
     ]
    }
   ],
   "source": [
    "#scope - what variables do i have access to\n",
    "x=5    #this variable have global access, means we can acces this variable anywhere in the program.\n",
    "def fun():\n",
    "    y=10\n",
    "    print(y) #this variable have local/function access, means we can acces this variable only inside the function.\n",
    "fun()\n",
    "\n",
    "print(x)  # x has global access, hence we can print here\n",
    "print(y) # y has only function access, when we try to access y outside the function, we will get error"
   ]
  },
  {
   "cell_type": "code",
   "execution_count": 87,
   "metadata": {},
   "outputs": [
    {
     "name": "stdout",
     "output_type": "stream",
     "text": [
      "10\n",
      "5\n",
      "10\n"
     ]
    }
   ],
   "source": [
    "y=10    \n",
    "x=5    \n",
    "def fun():\n",
    "    print(y)\n",
    "fun()\n",
    "\n",
    "print(x)    #now we can acess both x,y as they have global access\n",
    "print(y)"
   ]
  },
  {
   "cell_type": "markdown",
   "metadata": {},
   "source": [
    "### Scope rules:"
   ]
  },
  {
   "cell_type": "markdown",
   "metadata": {},
   "source": [
    "when a function is called, the interpreter searches the required variables in the following order:\n",
    "1. searches for variable defined in the local/function scope then if variable is not defined in local scope, \n",
    "2. then searches in parent local scope if variable is not defined in  parent local scope, \n",
    "3. then searches in Global scope if variable is not defined in  Global scope, \n",
    "4. then searches in python built in functions"
   ]
  },
  {
   "cell_type": "code",
   "execution_count": 93,
   "metadata": {},
   "outputs": [
    {
     "name": "stdout",
     "output_type": "stream",
     "text": [
      "1\n"
     ]
    },
    {
     "data": {
      "text/plain": [
       "5"
      ]
     },
     "execution_count": 93,
     "metadata": {},
     "output_type": "execute_result"
    }
   ],
   "source": [
    "a=1 #global variable\n",
    "def confusion():\n",
    "    a=5   #local variable\n",
    "    return a\n",
    "\n",
    "print(a)\n",
    "confusion()"
   ]
  },
  {
   "cell_type": "code",
   "execution_count": 3,
   "metadata": {},
   "outputs": [
    {
     "name": "stdout",
     "output_type": "stream",
     "text": [
      "1\n"
     ]
    },
    {
     "data": {
      "text/plain": [
       "10"
      ]
     },
     "execution_count": 3,
     "metadata": {},
     "output_type": "execute_result"
    }
   ],
   "source": [
    "b=1 #global variable\n",
    "def fun():\n",
    "    b=10   #parent local variable\n",
    "    def confusion():\n",
    "       #local variable not defined\n",
    "        return b\n",
    "    return confusion()\n",
    "\n",
    "print(b)\n",
    "fun()"
   ]
  },
  {
   "cell_type": "code",
   "execution_count": 4,
   "metadata": {},
   "outputs": [
    {
     "name": "stdout",
     "output_type": "stream",
     "text": [
      "1\n"
     ]
    },
    {
     "data": {
      "text/plain": [
       "1"
      ]
     },
     "execution_count": 4,
     "metadata": {},
     "output_type": "execute_result"
    }
   ],
   "source": [
    "b=1 #global variable\n",
    "def fun():\n",
    "     #parent local variable not defined\n",
    "    def confusion():\n",
    "       #local variable not defined\n",
    "        return b\n",
    "    return confusion()\n",
    "\n",
    "print(b)\n",
    "fun()"
   ]
  },
  {
   "cell_type": "code",
   "execution_count": 6,
   "metadata": {},
   "outputs": [
    {
     "name": "stdout",
     "output_type": "stream",
     "text": [
      "1\n"
     ]
    },
    {
     "ename": "NameError",
     "evalue": "name 'mouli' is not defined",
     "output_type": "error",
     "traceback": [
      "\u001b[1;31m---------------------------------------------------------------------------\u001b[0m",
      "\u001b[1;31mNameError\u001b[0m                                 Traceback (most recent call last)",
      "\u001b[1;32m<ipython-input-6-1fc1df96c84b>\u001b[0m in \u001b[0;36m<module>\u001b[1;34m\u001b[0m\n\u001b[0;32m      8\u001b[0m \u001b[1;33m\u001b[0m\u001b[0m\n\u001b[0;32m      9\u001b[0m \u001b[0mprint\u001b[0m\u001b[1;33m(\u001b[0m\u001b[0mb\u001b[0m\u001b[1;33m)\u001b[0m\u001b[1;33m\u001b[0m\u001b[1;33m\u001b[0m\u001b[0m\n\u001b[1;32m---> 10\u001b[1;33m \u001b[0mfun\u001b[0m\u001b[1;33m(\u001b[0m\u001b[1;33m)\u001b[0m\u001b[1;33m\u001b[0m\u001b[1;33m\u001b[0m\u001b[0m\n\u001b[0m",
      "\u001b[1;32m<ipython-input-6-1fc1df96c84b>\u001b[0m in \u001b[0;36mfun\u001b[1;34m()\u001b[0m\n\u001b[0;32m      5\u001b[0m        \u001b[1;31m#local variable not defined\u001b[0m\u001b[1;33m\u001b[0m\u001b[1;33m\u001b[0m\u001b[1;33m\u001b[0m\u001b[0m\n\u001b[0;32m      6\u001b[0m         \u001b[1;32mreturn\u001b[0m \u001b[0mmouli\u001b[0m\u001b[1;33m\u001b[0m\u001b[1;33m\u001b[0m\u001b[0m\n\u001b[1;32m----> 7\u001b[1;33m     \u001b[1;32mreturn\u001b[0m \u001b[0mconfusion\u001b[0m\u001b[1;33m(\u001b[0m\u001b[1;33m)\u001b[0m\u001b[1;33m\u001b[0m\u001b[1;33m\u001b[0m\u001b[0m\n\u001b[0m\u001b[0;32m      8\u001b[0m \u001b[1;33m\u001b[0m\u001b[0m\n\u001b[0;32m      9\u001b[0m \u001b[0mprint\u001b[0m\u001b[1;33m(\u001b[0m\u001b[0mb\u001b[0m\u001b[1;33m)\u001b[0m\u001b[1;33m\u001b[0m\u001b[1;33m\u001b[0m\u001b[0m\n",
      "\u001b[1;32m<ipython-input-6-1fc1df96c84b>\u001b[0m in \u001b[0;36mconfusion\u001b[1;34m()\u001b[0m\n\u001b[0;32m      4\u001b[0m     \u001b[1;32mdef\u001b[0m \u001b[0mconfusion\u001b[0m\u001b[1;33m(\u001b[0m\u001b[1;33m)\u001b[0m\u001b[1;33m:\u001b[0m\u001b[1;33m\u001b[0m\u001b[1;33m\u001b[0m\u001b[0m\n\u001b[0;32m      5\u001b[0m        \u001b[1;31m#local variable not defined\u001b[0m\u001b[1;33m\u001b[0m\u001b[1;33m\u001b[0m\u001b[1;33m\u001b[0m\u001b[0m\n\u001b[1;32m----> 6\u001b[1;33m         \u001b[1;32mreturn\u001b[0m \u001b[0mmouli\u001b[0m\u001b[1;33m\u001b[0m\u001b[1;33m\u001b[0m\u001b[0m\n\u001b[0m\u001b[0;32m      7\u001b[0m     \u001b[1;32mreturn\u001b[0m \u001b[0mconfusion\u001b[0m\u001b[1;33m(\u001b[0m\u001b[1;33m)\u001b[0m\u001b[1;33m\u001b[0m\u001b[1;33m\u001b[0m\u001b[0m\n\u001b[0;32m      8\u001b[0m \u001b[1;33m\u001b[0m\u001b[0m\n",
      "\u001b[1;31mNameError\u001b[0m: name 'mouli' is not defined"
     ]
    }
   ],
   "source": [
    "b=1 #global variable\n",
    "def fun():\n",
    "     #parent local variable not defined\n",
    "    def confusion():\n",
    "       #local variable not defined\n",
    "        return mouli  \n",
    "    # we will get error as the variable-mouli is not defined in local/parent local/global or is not built-in function\n",
    "    return confusion()\n",
    "\n",
    "print(b)\n",
    "fun()"
   ]
  },
  {
   "cell_type": "code",
   "execution_count": 7,
   "metadata": {},
   "outputs": [
    {
     "name": "stdout",
     "output_type": "stream",
     "text": [
      "1\n"
     ]
    },
    {
     "data": {
      "text/plain": [
       "<function sum(iterable, start=0, /)>"
      ]
     },
     "execution_count": 7,
     "metadata": {},
     "output_type": "execute_result"
    }
   ],
   "source": [
    "b=1 #global variable\n",
    "def fun():\n",
    "     #parent local variable not defined\n",
    "    def confusion():\n",
    "       #local variable not defined\n",
    "        return sum  \n",
    "    # we will  not get error as the sum is not defined in local/parent local/global scope but sum is a built-in function.\n",
    "    return confusion()\n",
    "\n",
    "print(b)\n",
    "fun()"
   ]
  },
  {
   "cell_type": "code",
   "execution_count": 3,
   "metadata": {},
   "outputs": [
    {
     "name": "stdout",
     "output_type": "stream",
     "text": [
      "20\n"
     ]
    }
   ],
   "source": [
    "def fun (a): # parameters of a function are local scope variables.\n",
    "    print (a)\n",
    "\n",
    "fun(20)"
   ]
  },
  {
   "cell_type": "code",
   "execution_count": 4,
   "metadata": {},
   "outputs": [
    {
     "name": "stdout",
     "output_type": "stream",
     "text": [
      "20\n"
     ]
    },
    {
     "ename": "NameError",
     "evalue": "name 'a' is not defined",
     "output_type": "error",
     "traceback": [
      "\u001b[1;31m---------------------------------------------------------------------------\u001b[0m",
      "\u001b[1;31mNameError\u001b[0m                                 Traceback (most recent call last)",
      "Cell \u001b[1;32mIn[4], line 5\u001b[0m\n\u001b[0;32m      2\u001b[0m     \u001b[38;5;28mprint\u001b[39m (a)\n\u001b[0;32m      4\u001b[0m fun(\u001b[38;5;241m20\u001b[39m)\n\u001b[1;32m----> 5\u001b[0m \u001b[38;5;28mprint\u001b[39m(\u001b[43ma\u001b[49m)\n",
      "\u001b[1;31mNameError\u001b[0m: name 'a' is not defined"
     ]
    }
   ],
   "source": [
    "def fun (a): # parameters of a function are local scope variables.\n",
    "    print (a)\n",
    "\n",
    "fun(20)\n",
    "print(a)"
   ]
  },
  {
   "cell_type": "markdown",
   "metadata": {},
   "source": [
    "### global keyword:"
   ]
  },
  {
   "cell_type": "code",
   "execution_count": 4,
   "metadata": {},
   "outputs": [
    {
     "data": {
      "text/plain": [
       "0"
      ]
     },
     "execution_count": 4,
     "metadata": {},
     "output_type": "execute_result"
    }
   ],
   "source": [
    "total=0 \n",
    "def count():\n",
    "    return total\n",
    "count()"
   ]
  },
  {
   "cell_type": "code",
   "execution_count": 22,
   "metadata": {},
   "outputs": [
    {
     "ename": "UnboundLocalError",
     "evalue": "local variable 'total' referenced before assignment",
     "output_type": "error",
     "traceback": [
      "\u001b[1;31m---------------------------------------------------------------------------\u001b[0m",
      "\u001b[1;31mUnboundLocalError\u001b[0m                         Traceback (most recent call last)",
      "\u001b[1;32m<ipython-input-22-fd43215b8d68>\u001b[0m in \u001b[0;36m<module>\u001b[1;34m\u001b[0m\n\u001b[0;32m      3\u001b[0m     \u001b[0mtotal\u001b[0m\u001b[1;33m=\u001b[0m\u001b[0mtotal\u001b[0m\u001b[1;33m+\u001b[0m\u001b[1;36m1\u001b[0m\u001b[1;33m\u001b[0m\u001b[1;33m\u001b[0m\u001b[0m\n\u001b[0;32m      4\u001b[0m     \u001b[1;32mreturn\u001b[0m \u001b[0mtotal\u001b[0m\u001b[1;33m\u001b[0m\u001b[1;33m\u001b[0m\u001b[0m\n\u001b[1;32m----> 5\u001b[1;33m \u001b[0mcount\u001b[0m\u001b[1;33m(\u001b[0m\u001b[1;33m)\u001b[0m\u001b[1;33m\u001b[0m\u001b[1;33m\u001b[0m\u001b[0m\n\u001b[0m",
      "\u001b[1;32m<ipython-input-22-fd43215b8d68>\u001b[0m in \u001b[0;36mcount\u001b[1;34m()\u001b[0m\n\u001b[0;32m      1\u001b[0m \u001b[0mtotal\u001b[0m\u001b[1;33m=\u001b[0m\u001b[1;36m0\u001b[0m\u001b[1;33m\u001b[0m\u001b[1;33m\u001b[0m\u001b[0m\n\u001b[0;32m      2\u001b[0m \u001b[1;32mdef\u001b[0m \u001b[0mcount\u001b[0m\u001b[1;33m(\u001b[0m\u001b[1;33m)\u001b[0m\u001b[1;33m:\u001b[0m\u001b[1;33m\u001b[0m\u001b[1;33m\u001b[0m\u001b[0m\n\u001b[1;32m----> 3\u001b[1;33m     \u001b[0mtotal\u001b[0m\u001b[1;33m=\u001b[0m\u001b[0mtotal\u001b[0m\u001b[1;33m+\u001b[0m\u001b[1;36m1\u001b[0m\u001b[1;33m\u001b[0m\u001b[1;33m\u001b[0m\u001b[0m\n\u001b[0m\u001b[0;32m      4\u001b[0m     \u001b[1;32mreturn\u001b[0m \u001b[0mtotal\u001b[0m\u001b[1;33m\u001b[0m\u001b[1;33m\u001b[0m\u001b[0m\n\u001b[0;32m      5\u001b[0m \u001b[0mcount\u001b[0m\u001b[1;33m(\u001b[0m\u001b[1;33m)\u001b[0m\u001b[1;33m\u001b[0m\u001b[1;33m\u001b[0m\u001b[0m\n",
      "\u001b[1;31mUnboundLocalError\u001b[0m: local variable 'total' referenced before assignment"
     ]
    }
   ],
   "source": [
    "total=0 \n",
    "#here we have delcared 'total' but it is outside the count() function hence it will throw you an error saying - \n",
    "#you are accessing a variable which is not yet assigned or declared\n",
    "def count():\n",
    "    total=total+1\n",
    "    return total\n",
    "count()"
   ]
  },
  {
   "cell_type": "code",
   "execution_count": 21,
   "metadata": {},
   "outputs": [
    {
     "name": "stdout",
     "output_type": "stream",
     "text": [
      "1\n",
      "1\n",
      "1\n"
     ]
    }
   ],
   "source": [
    "def count():\n",
    "    total=0\n",
    "    total=total+1\n",
    "    return total\n",
    "print(count())\n",
    "print(count())\n",
    "print(count())"
   ]
  },
  {
   "cell_type": "code",
   "execution_count": 23,
   "metadata": {},
   "outputs": [
    {
     "data": {
      "text/plain": [
       "1"
      ]
     },
     "execution_count": 23,
     "metadata": {},
     "output_type": "execute_result"
    }
   ],
   "source": [
    "total=0\n",
    "def count():\n",
    "    global total\n",
    "    total=total+1\n",
    "    return total\n",
    "count()"
   ]
  },
  {
   "cell_type": "code",
   "execution_count": 20,
   "metadata": {},
   "outputs": [
    {
     "name": "stdout",
     "output_type": "stream",
     "text": [
      "1\n",
      "2\n",
      "3\n"
     ]
    }
   ],
   "source": [
    "total=0\n",
    "def count():\n",
    "    global total\n",
    "    total=total+1\n",
    "    return total\n",
    "print(count())\n",
    "print(count())\n",
    "print(count())"
   ]
  },
  {
   "cell_type": "code",
   "execution_count": 2,
   "metadata": {},
   "outputs": [
    {
     "name": "stdout",
     "output_type": "stream",
     "text": [
      "3\n"
     ]
    }
   ],
   "source": [
    "def count(total):\n",
    "    total=total+1\n",
    "    return total\n",
    "print(count(count(count(0))))"
   ]
  },
  {
   "cell_type": "markdown",
   "metadata": {},
   "source": [
    "### nonlocal keyword:"
   ]
  },
  {
   "cell_type": "markdown",
   "metadata": {},
   "source": [
    "nonlocal keyword doesnt refers to the global scope, it refer to the variable outside the local/function scope i.e., parent local\n",
    "1. https://www.w3schools.com/python/ref_keyword_nonlocal.asp\n",
    "2. https://www.geeksforgeeks.org/use-of-nonlocal-vs-use-of-global-keyword-in-python/"
   ]
  },
  {
   "cell_type": "code",
   "execution_count": 22,
   "metadata": {},
   "outputs": [
    {
     "name": "stdout",
     "output_type": "stream",
     "text": [
      "inner: hello\n",
      "outer: hello\n"
     ]
    }
   ],
   "source": [
    "def outer():\n",
    "    x='hi'\n",
    "    def inner():\n",
    "        nonlocal x  #x='hi'\n",
    "        x='hello'  #after execution of this statement, x gets modified to x='hello' from x='hi'(nonlocal x got modified)\n",
    "        print('inner:',x)  #x='hello'\n",
    "    inner()\n",
    "    print(\"outer:\",x)#x='hello', as it got modified after execution of line5\n",
    "\n",
    "outer()"
   ]
  },
  {
   "cell_type": "code",
   "execution_count": 23,
   "metadata": {},
   "outputs": [
    {
     "name": "stdout",
     "output_type": "stream",
     "text": [
      "inner: hello\n",
      "outer: hi\n"
     ]
    }
   ],
   "source": [
    "def outer():\n",
    "    \n",
    "    x='hi'\n",
    "    def inner():\n",
    "        #nonlocal x\n",
    "        x='hello'\n",
    "        print('inner:',x)# x='hello'\n",
    "    inner()\n",
    "    \n",
    "    print(\"outer:\",x)#x='hi'\n",
    "\n",
    "outer()"
   ]
  },
  {
   "cell_type": "code",
   "execution_count": 1,
   "metadata": {},
   "outputs": [
    {
     "name": "stdout",
     "output_type": "stream",
     "text": [
      "inner: nonlocal\n",
      "outer: nonlocal\n"
     ]
    }
   ],
   "source": [
    "# Scope - what variables do I have access to?\n",
    "def outer():\n",
    "    x = \"local\"\n",
    "    def inner():\n",
    "        nonlocal x\n",
    "        x = \"nonlocal\"\n",
    "        print(\"inner:\", x)\n",
    "    inner()\n",
    "    print(\"outer:\", x)\n",
    "outer()\n",
    "\n",
    "#variable search order:\n",
    "#1 - start with local\n",
    "#2 - Parent local\n",
    "#3 - global\n",
    "#4 - built in python functions"
   ]
  },
  {
   "cell_type": "code",
   "execution_count": 5,
   "metadata": {},
   "outputs": [
    {
     "name": "stdout",
     "output_type": "stream",
     "text": [
      "inner: 20\n",
      "outer: 20\n"
     ]
    }
   ],
   "source": [
    "# Scope - what variables do I have access to?\n",
    "def outer():\n",
    "    x = 10\n",
    "    def inner():\n",
    "        nonlocal x\n",
    "        x = 20\n",
    "        print(\"inner:\", x)\n",
    "    inner()\n",
    "    print(\"outer:\", x)\n",
    "outer()\n",
    "\n",
    "#variable search order:\n",
    "#1 - start with local\n",
    "#2 - Parent local\n",
    "#3 - global\n",
    "#4 - built in python functions"
   ]
  },
  {
   "cell_type": "code",
   "execution_count": 7,
   "metadata": {},
   "outputs": [
    {
     "name": "stdout",
     "output_type": "stream",
     "text": [
      "inner: 40\n",
      "innermost: 50, 30, 60\n",
      "inner after innermost: 50, 30, 60\n",
      "outer after inner: 50, 30\n",
      "global after outer: 50\n"
     ]
    }
   ],
   "source": [
    "x = 10 # global variable\n",
    "def outer():\n",
    "    y = 20 # enclosing scope variable\n",
    "    def inner():\n",
    "        nonlocal y # nonlocal keyword\n",
    "        y = 30 # this will change the value of y in outer() scope, not local\n",
    "        z = 40 # local variable to inner() function\n",
    "        print(f\"inner: {z}\")\n",
    "        def innermost():\n",
    "            global x # nonlocal keyword\n",
    "            nonlocal z # global keyword\n",
    "            x = 50 # this will change the value of x in global scope, not enclosing or local\n",
    "            z = 60 # this will change the value of z in outer() scope, not local\n",
    "            print(f\"innermost: {x}, {y}, {z}\")\n",
    "        innermost()\n",
    "        print(f\"inner after innermost: {x}, {y}, {z}\")   \n",
    "    inner() \n",
    "    print(f\"outer after inner: {x}, {y}\")  \n",
    "outer()\n",
    "print(f\"global after outer: {x}\")\n"
   ]
  },
  {
   "cell_type": "markdown",
   "metadata": {},
   "source": [
    "### Walrus Operator:"
   ]
  },
  {
   "cell_type": "markdown",
   "metadata": {},
   "source": [
    "It assigns value to variables as part of a larger expression"
   ]
  },
  {
   "cell_type": "code",
   "execution_count": 3,
   "metadata": {},
   "outputs": [
    {
     "name": "stdout",
     "output_type": "stream",
     "text": [
      "The length of string is 14 which is > 5\n"
     ]
    }
   ],
   "source": [
    "a='walrusoperator'\n",
    "if len(a)>5:\n",
    "    print(f\"The length of string is {len(a)} which is > 5\")"
   ]
  },
  {
   "cell_type": "code",
   "execution_count": 5,
   "metadata": {},
   "outputs": [
    {
     "ename": "SyntaxError",
     "evalue": "invalid syntax (<ipython-input-5-056bb90f17f2>, line 2)",
     "output_type": "error",
     "traceback": [
      "\u001b[1;36m  File \u001b[1;32m\"<ipython-input-5-056bb90f17f2>\"\u001b[1;36m, line \u001b[1;32m2\u001b[0m\n\u001b[1;33m    if (n= len(a))>5:  #it assigns value to variables as part of a larger expression.\u001b[0m\n\u001b[1;37m         ^\u001b[0m\n\u001b[1;31mSyntaxError\u001b[0m\u001b[1;31m:\u001b[0m invalid syntax\n"
     ]
    }
   ],
   "source": [
    "a='walrusoperator'\n",
    "if (n= len(a))>5:  #it assigns value to variables as part of a larger expression.\n",
    "    print(f\"The length of string is {n} which is > 5\")"
   ]
  },
  {
   "cell_type": "code",
   "execution_count": 4,
   "metadata": {},
   "outputs": [
    {
     "name": "stdout",
     "output_type": "stream",
     "text": [
      "The length of string is 14 which is > 5\n"
     ]
    }
   ],
   "source": [
    "a='walrusoperator'\n",
    "if (n:= len(a))>5:  #it assigns value to variables as part of a larger expression.\n",
    "    print(f\"The length of string is {n} which is > 5\")"
   ]
  },
  {
   "cell_type": "code",
   "execution_count": 8,
   "metadata": {},
   "outputs": [
    {
     "name": "stdout",
     "output_type": "stream",
     "text": [
      "14\n",
      "walrusoperato\n",
      "13\n",
      "walrusoperat\n",
      "12\n",
      "walrusopera\n",
      "11\n",
      "walrusoper\n",
      "10\n",
      "walrusope\n",
      "9\n",
      "walrusop\n",
      "8\n",
      "walruso\n",
      "7\n",
      "walrus\n",
      "6\n",
      "walru\n",
      "5\n",
      "walr\n",
      "4\n",
      "wal\n",
      "3\n",
      "wa\n",
      "2\n",
      "w\n",
      "w\n"
     ]
    }
   ],
   "source": [
    "a='walrusoperator'\n",
    "while ((n := len(a)) > 1):\n",
    "    print(n)\n",
    "    a = a[0:-1] # removes one element everytime\n",
    "    print(a)\n",
    "print(a)"
   ]
  },
  {
   "cell_type": "markdown",
   "metadata": {},
   "source": [
    "`while ((n := len(a)) > 1):` This line starts a while loop that continues as long as the length of a (minus 1) is greater than 1. \n",
    "The `:=` operator is called the \"walrus operator\" because it assigns a value to a variable as part of an expression. In this case, it assigns the length of a to the variable n, then checks if n is greater than 1.\n",
    "\n"
   ]
  },
  {
   "cell_type": "code",
   "execution_count": 3,
   "metadata": {},
   "outputs": [
    {
     "data": {
      "text/plain": [
       "'kris'"
      ]
     },
     "execution_count": 3,
     "metadata": {},
     "output_type": "execute_result"
    }
   ],
   "source": [
    "l='krish'\n",
    "l[0:-1]"
   ]
  },
  {
   "cell_type": "markdown",
   "metadata": {},
   "source": [
    "------------------"
   ]
  }
 ],
 "metadata": {
  "hide_input": false,
  "kernelspec": {
   "display_name": "Python 3 (ipykernel)",
   "language": "python",
   "name": "python3"
  },
  "language_info": {
   "codemirror_mode": {
    "name": "ipython",
    "version": 3
   },
   "file_extension": ".py",
   "mimetype": "text/x-python",
   "name": "python",
   "nbconvert_exporter": "python",
   "pygments_lexer": "ipython3",
   "version": "3.12.4"
  },
  "toc": {
   "base_numbering": 1,
   "nav_menu": {},
   "number_sections": true,
   "sideBar": true,
   "skip_h1_title": false,
   "title_cell": "Table of Contents",
   "title_sidebar": "Contents",
   "toc_cell": false,
   "toc_position": {
    "height": "calc(100% - 180px)",
    "left": "10px",
    "top": "150px",
    "width": "179.6px"
   },
   "toc_section_display": true,
   "toc_window_display": true
  },
  "varInspector": {
   "cols": {
    "lenName": 16,
    "lenType": 16,
    "lenVar": 40
   },
   "kernels_config": {
    "python": {
     "delete_cmd_postfix": "",
     "delete_cmd_prefix": "del ",
     "library": "var_list.py",
     "varRefreshCmd": "print(var_dic_list())"
    },
    "r": {
     "delete_cmd_postfix": ") ",
     "delete_cmd_prefix": "rm(",
     "library": "var_list.r",
     "varRefreshCmd": "cat(var_dic_list()) "
    }
   },
   "types_to_exclude": [
    "module",
    "function",
    "builtin_function_or_method",
    "instance",
    "_Feature"
   ],
   "window_display": false
  }
 },
 "nbformat": 4,
 "nbformat_minor": 4
}
